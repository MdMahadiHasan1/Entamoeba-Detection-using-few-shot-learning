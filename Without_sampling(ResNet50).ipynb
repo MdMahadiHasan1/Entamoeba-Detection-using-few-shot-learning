{
  "nbformat": 4,
  "nbformat_minor": 0,
  "metadata": {
    "colab": {
      "provenance": []
    },
    "kernelspec": {
      "name": "python3",
      "display_name": "Python 3"
    },
    "language_info": {
      "name": "python"
    }
  },
  "cells": [
    {
      "cell_type": "code",
      "execution_count": 1,
      "metadata": {
        "id": "ipA8LiCcJyBZ"
      },
      "outputs": [],
      "source": [
        "import matplotlib.pyplot as plt\n",
        "import numpy as np\n",
        "import PIL\n",
        "import os\n",
        "import tensorflow as tf\n",
        "from tensorflow import keras\n",
        "from tensorflow.keras import layers\n",
        "from tensorflow.keras.models import Sequential\n",
        "from sklearn import preprocessing\n",
        "from keras.preprocessing import image\n",
        "from sklearn.model_selection import train_test_split"
      ]
    },
    {
      "cell_type": "code",
      "source": [
        "base_dir = '/content/drive/MyDrive/shot/'\n",
        "\n",
        "train_dir = os.path.join(base_dir, 'train')\n",
        "validation_dir = os.path.join(base_dir, 'test')"
      ],
      "metadata": {
        "id": "Mt0-_YPqNjGn"
      },
      "execution_count": 2,
      "outputs": []
    },
    {
      "cell_type": "code",
      "source": [
        "BATCH_SIZE = 5\n",
        "IMG_SIZE = (180, 180)\n",
        "\n",
        "train = tf.keras.utils.image_dataset_from_directory(train_dir,\n",
        "                                                            shuffle=True,\n",
        "                                                            batch_size=BATCH_SIZE,\n",
        "                                                            image_size=IMG_SIZE)"
      ],
      "metadata": {
        "colab": {
          "base_uri": "https://localhost:8080/"
        },
        "id": "ZwJuMrIVNlzc",
        "outputId": "2a2a26db-fc42-487b-d999-f9ca9a6505ae"
      },
      "execution_count": 3,
      "outputs": [
        {
          "output_type": "stream",
          "name": "stdout",
          "text": [
            "Found 100 files belonging to 2 classes.\n"
          ]
        }
      ]
    },
    {
      "cell_type": "code",
      "source": [
        "validation = tf.keras.utils.image_dataset_from_directory(validation_dir,\n",
        "                                                                 shuffle=True,\n",
        "                                                                 batch_size=BATCH_SIZE,\n",
        "                                                                 image_size=IMG_SIZE)"
      ],
      "metadata": {
        "colab": {
          "base_uri": "https://localhost:8080/"
        },
        "id": "8FjOVi82PTQg",
        "outputId": "2574781d-5f30-494f-b027-72c7d50975dc"
      },
      "execution_count": 4,
      "outputs": [
        {
          "output_type": "stream",
          "name": "stdout",
          "text": [
            "Found 30 files belonging to 2 classes.\n"
          ]
        }
      ]
    },
    {
      "cell_type": "code",
      "source": [
        "resnet_model = Sequential()\n",
        "\n",
        "pretrained_model= tf.keras.applications.ResNet50(include_top=False,\n",
        "                   input_shape=(180,180,3),\n",
        "                   pooling='avg',classes=2,\n",
        "                   weights='imagenet')\n",
        "for layer in pretrained_model.layers:\n",
        "        layer.trainable=False\n",
        "\n",
        "resnet_model.add(pretrained_model)"
      ],
      "metadata": {
        "colab": {
          "base_uri": "https://localhost:8080/"
        },
        "id": "S3ZSdysXPXvb",
        "outputId": "e26ee73a-8b93-4408-eac8-99856783a70f"
      },
      "execution_count": 5,
      "outputs": [
        {
          "output_type": "stream",
          "name": "stdout",
          "text": [
            "Downloading data from https://storage.googleapis.com/tensorflow/keras-applications/resnet/resnet50_weights_tf_dim_ordering_tf_kernels_notop.h5\n",
            "94765736/94765736 [==============================] - 4s 0us/step\n"
          ]
        }
      ]
    },
    {
      "cell_type": "code",
      "source": [
        "resnet_model.add(tf.keras.layers.Flatten())\n",
        "resnet_model.add(tf.keras.layers.Dense(512, activation='relu'))\n",
        "resnet_model.add(tf.keras.layers.Dense(1, activation='sigmoid'))"
      ],
      "metadata": {
        "id": "9R77vxVtPa_t"
      },
      "execution_count": 6,
      "outputs": []
    },
    {
      "cell_type": "code",
      "source": [
        "resnet_model.compile(tf.keras.optimizers.Adam(lr=0.001),loss='binary_crossentropy',metrics=['accuracy'])\n",
        "\n",
        "history = resnet_model.fit(train, validation_data=validation, epochs=50)"
      ],
      "metadata": {
        "colab": {
          "base_uri": "https://localhost:8080/"
        },
        "id": "Z9cA4MVwPeSm",
        "outputId": "530c335d-84b1-460c-aac1-571c3c53f48a"
      },
      "execution_count": 7,
      "outputs": [
        {
          "output_type": "stream",
          "name": "stdout",
          "text": [
            "Epoch 1/50\n"
          ]
        },
        {
          "output_type": "stream",
          "name": "stderr",
          "text": [
            "/usr/local/lib/python3.7/dist-packages/keras/optimizers/optimizer_v2/adam.py:110: UserWarning: The `lr` argument is deprecated, use `learning_rate` instead.\n",
            "  super(Adam, self).__init__(name, **kwargs)\n"
          ]
        },
        {
          "output_type": "stream",
          "name": "stdout",
          "text": [
            "20/20 [==============================] - 53s 2s/step - loss: 1.5697 - accuracy: 0.5500 - val_loss: 1.3129 - val_accuracy: 0.5667\n",
            "Epoch 2/50\n",
            "20/20 [==============================] - 18s 915ms/step - loss: 0.4530 - accuracy: 0.7600 - val_loss: 0.6192 - val_accuracy: 0.7333\n",
            "Epoch 3/50\n",
            "20/20 [==============================] - 16s 811ms/step - loss: 0.2244 - accuracy: 0.9300 - val_loss: 0.6149 - val_accuracy: 0.7000\n",
            "Epoch 4/50\n",
            "20/20 [==============================] - 16s 803ms/step - loss: 0.1274 - accuracy: 0.9800 - val_loss: 0.6881 - val_accuracy: 0.7000\n",
            "Epoch 5/50\n",
            "20/20 [==============================] - 16s 808ms/step - loss: 0.0642 - accuracy: 1.0000 - val_loss: 0.7548 - val_accuracy: 0.6667\n",
            "Epoch 6/50\n",
            "20/20 [==============================] - 16s 809ms/step - loss: 0.0418 - accuracy: 1.0000 - val_loss: 0.7951 - val_accuracy: 0.6667\n",
            "Epoch 7/50\n",
            "20/20 [==============================] - 18s 915ms/step - loss: 0.0295 - accuracy: 1.0000 - val_loss: 0.8847 - val_accuracy: 0.7333\n",
            "Epoch 8/50\n",
            "20/20 [==============================] - 16s 808ms/step - loss: 0.0216 - accuracy: 1.0000 - val_loss: 0.9115 - val_accuracy: 0.7000\n",
            "Epoch 9/50\n",
            "20/20 [==============================] - 18s 922ms/step - loss: 0.0142 - accuracy: 1.0000 - val_loss: 0.9212 - val_accuracy: 0.6667\n",
            "Epoch 10/50\n",
            "20/20 [==============================] - 16s 811ms/step - loss: 0.0121 - accuracy: 1.0000 - val_loss: 0.9443 - val_accuracy: 0.6667\n",
            "Epoch 11/50\n",
            "20/20 [==============================] - 18s 925ms/step - loss: 0.0100 - accuracy: 1.0000 - val_loss: 0.9850 - val_accuracy: 0.7000\n",
            "Epoch 12/50\n",
            "20/20 [==============================] - 16s 813ms/step - loss: 0.0077 - accuracy: 1.0000 - val_loss: 1.0070 - val_accuracy: 0.6667\n",
            "Epoch 13/50\n",
            "20/20 [==============================] - 16s 808ms/step - loss: 0.0061 - accuracy: 1.0000 - val_loss: 1.0323 - val_accuracy: 0.6667\n",
            "Epoch 14/50\n",
            "20/20 [==============================] - 18s 928ms/step - loss: 0.0054 - accuracy: 1.0000 - val_loss: 1.0503 - val_accuracy: 0.6667\n",
            "Epoch 15/50\n",
            "20/20 [==============================] - 16s 815ms/step - loss: 0.0045 - accuracy: 1.0000 - val_loss: 1.0601 - val_accuracy: 0.6667\n",
            "Epoch 16/50\n",
            "20/20 [==============================] - 18s 921ms/step - loss: 0.0039 - accuracy: 1.0000 - val_loss: 1.0884 - val_accuracy: 0.6667\n",
            "Epoch 17/50\n",
            "20/20 [==============================] - 16s 817ms/step - loss: 0.0037 - accuracy: 1.0000 - val_loss: 1.0955 - val_accuracy: 0.6667\n",
            "Epoch 18/50\n",
            "20/20 [==============================] - 17s 848ms/step - loss: 0.0030 - accuracy: 1.0000 - val_loss: 1.1167 - val_accuracy: 0.6667\n",
            "Epoch 19/50\n",
            "20/20 [==============================] - 16s 816ms/step - loss: 0.0027 - accuracy: 1.0000 - val_loss: 1.1311 - val_accuracy: 0.6667\n",
            "Epoch 20/50\n",
            "20/20 [==============================] - 16s 815ms/step - loss: 0.0024 - accuracy: 1.0000 - val_loss: 1.1472 - val_accuracy: 0.6667\n",
            "Epoch 21/50\n",
            "20/20 [==============================] - 19s 926ms/step - loss: 0.0022 - accuracy: 1.0000 - val_loss: 1.1554 - val_accuracy: 0.6667\n",
            "Epoch 22/50\n",
            "20/20 [==============================] - 17s 836ms/step - loss: 0.0020 - accuracy: 1.0000 - val_loss: 1.1692 - val_accuracy: 0.6667\n",
            "Epoch 23/50\n",
            "20/20 [==============================] - 17s 837ms/step - loss: 0.0017 - accuracy: 1.0000 - val_loss: 1.1828 - val_accuracy: 0.6667\n",
            "Epoch 24/50\n",
            "20/20 [==============================] - 18s 932ms/step - loss: 0.0016 - accuracy: 1.0000 - val_loss: 1.2019 - val_accuracy: 0.6667\n",
            "Epoch 25/50\n",
            "20/20 [==============================] - 16s 825ms/step - loss: 0.0014 - accuracy: 1.0000 - val_loss: 1.2158 - val_accuracy: 0.6667\n",
            "Epoch 26/50\n",
            "20/20 [==============================] - 18s 925ms/step - loss: 0.0013 - accuracy: 1.0000 - val_loss: 1.2259 - val_accuracy: 0.6667\n",
            "Epoch 27/50\n",
            "20/20 [==============================] - 16s 818ms/step - loss: 0.0012 - accuracy: 1.0000 - val_loss: 1.2392 - val_accuracy: 0.6667\n",
            "Epoch 28/50\n",
            "20/20 [==============================] - 16s 815ms/step - loss: 0.0012 - accuracy: 1.0000 - val_loss: 1.2469 - val_accuracy: 0.6667\n",
            "Epoch 29/50\n",
            "20/20 [==============================] - 18s 922ms/step - loss: 0.0011 - accuracy: 1.0000 - val_loss: 1.2610 - val_accuracy: 0.6667\n",
            "Epoch 30/50\n",
            "20/20 [==============================] - 16s 816ms/step - loss: 9.8759e-04 - accuracy: 1.0000 - val_loss: 1.2711 - val_accuracy: 0.6667\n",
            "Epoch 31/50\n",
            "20/20 [==============================] - 18s 927ms/step - loss: 9.2316e-04 - accuracy: 1.0000 - val_loss: 1.2794 - val_accuracy: 0.6667\n",
            "Epoch 32/50\n",
            "20/20 [==============================] - 16s 815ms/step - loss: 8.6240e-04 - accuracy: 1.0000 - val_loss: 1.2900 - val_accuracy: 0.6667\n",
            "Epoch 33/50\n",
            "20/20 [==============================] - 16s 823ms/step - loss: 8.2216e-04 - accuracy: 1.0000 - val_loss: 1.2970 - val_accuracy: 0.6667\n",
            "Epoch 34/50\n",
            "20/20 [==============================] - 18s 931ms/step - loss: 7.5999e-04 - accuracy: 1.0000 - val_loss: 1.3062 - val_accuracy: 0.6667\n",
            "Epoch 35/50\n",
            "20/20 [==============================] - 16s 815ms/step - loss: 7.1690e-04 - accuracy: 1.0000 - val_loss: 1.3213 - val_accuracy: 0.6667\n",
            "Epoch 36/50\n",
            "20/20 [==============================] - 18s 921ms/step - loss: 6.7122e-04 - accuracy: 1.0000 - val_loss: 1.3304 - val_accuracy: 0.6667\n",
            "Epoch 37/50\n",
            "20/20 [==============================] - 16s 818ms/step - loss: 6.3154e-04 - accuracy: 1.0000 - val_loss: 1.3392 - val_accuracy: 0.6667\n",
            "Epoch 38/50\n",
            "20/20 [==============================] - 16s 814ms/step - loss: 5.9469e-04 - accuracy: 1.0000 - val_loss: 1.3459 - val_accuracy: 0.6667\n",
            "Epoch 39/50\n",
            "20/20 [==============================] - 17s 845ms/step - loss: 5.6287e-04 - accuracy: 1.0000 - val_loss: 1.3565 - val_accuracy: 0.6667\n",
            "Epoch 40/50\n",
            "20/20 [==============================] - 16s 819ms/step - loss: 5.3008e-04 - accuracy: 1.0000 - val_loss: 1.3606 - val_accuracy: 0.6667\n",
            "Epoch 41/50\n",
            "20/20 [==============================] - 18s 929ms/step - loss: 5.0590e-04 - accuracy: 1.0000 - val_loss: 1.3727 - val_accuracy: 0.6667\n",
            "Epoch 42/50\n",
            "20/20 [==============================] - 16s 815ms/step - loss: 4.7912e-04 - accuracy: 1.0000 - val_loss: 1.3781 - val_accuracy: 0.6667\n",
            "Epoch 43/50\n",
            "20/20 [==============================] - 16s 813ms/step - loss: 4.5297e-04 - accuracy: 1.0000 - val_loss: 1.3844 - val_accuracy: 0.6667\n",
            "Epoch 44/50\n",
            "20/20 [==============================] - 18s 926ms/step - loss: 4.3264e-04 - accuracy: 1.0000 - val_loss: 1.3958 - val_accuracy: 0.6667\n",
            "Epoch 45/50\n",
            "20/20 [==============================] - 16s 821ms/step - loss: 4.1410e-04 - accuracy: 1.0000 - val_loss: 1.3989 - val_accuracy: 0.6667\n",
            "Epoch 46/50\n",
            "20/20 [==============================] - 16s 814ms/step - loss: 3.9276e-04 - accuracy: 1.0000 - val_loss: 1.4091 - val_accuracy: 0.6667\n",
            "Epoch 47/50\n",
            "20/20 [==============================] - 18s 931ms/step - loss: 3.7332e-04 - accuracy: 1.0000 - val_loss: 1.4144 - val_accuracy: 0.6667\n",
            "Epoch 48/50\n",
            "20/20 [==============================] - 16s 818ms/step - loss: 3.5885e-04 - accuracy: 1.0000 - val_loss: 1.4239 - val_accuracy: 0.6667\n",
            "Epoch 49/50\n",
            "20/20 [==============================] - 16s 827ms/step - loss: 3.4391e-04 - accuracy: 1.0000 - val_loss: 1.4292 - val_accuracy: 0.6667\n",
            "Epoch 50/50\n",
            "20/20 [==============================] - 19s 933ms/step - loss: 3.2753e-04 - accuracy: 1.0000 - val_loss: 1.4345 - val_accuracy: 0.6667\n"
          ]
        }
      ]
    },
    {
      "cell_type": "code",
      "source": [
        "acc = history.history['accuracy']\n",
        "val_acc = history.history['val_accuracy']\n",
        "\n",
        "plt.plot(acc, label='Training Accuracy')\n",
        "plt.plot(val_acc, label='Validation Accuracy')\n",
        "plt.legend(loc='center')\n",
        "plt.ylabel('Accuracy')\n",
        "plt.title('Training and Validation Accuracy (ResNet50)')"
      ],
      "metadata": {
        "colab": {
          "base_uri": "https://localhost:8080/",
          "height": 298
        },
        "id": "6bDfqH9lP0z8",
        "outputId": "c8b511e8-0fd8-4bd8-f245-6050fb65e74b"
      },
      "execution_count": 17,
      "outputs": [
        {
          "output_type": "execute_result",
          "data": {
            "text/plain": [
              "Text(0.5, 1.0, 'Training and Validation Accuracy (ResNet50)')"
            ]
          },
          "metadata": {},
          "execution_count": 17
        },
        {
          "output_type": "display_data",
          "data": {
            "text/plain": [
              "<Figure size 432x288 with 1 Axes>"
            ],
            "image/png": "[encoded data removed]"
          },
          "metadata": {
            "needs_background": "light"
          }
        }
      ]
    },
    {
      "cell_type": "code",
      "source": [
        "loss, accuracy = resnet_model.evaluate(validation)\n",
        "print('Test accuracy :', accuracy)"
      ],
      "metadata": {
        "colab": {
          "base_uri": "https://localhost:8080/"
        },
        "id": "LOFJYMXxZ92h",
        "outputId": "d9a5cb7f-f18f-4dd2-c6f4-f74116db1a2f"
      },
      "execution_count": 9,
      "outputs": [
        {
          "output_type": "stream",
          "name": "stdout",
          "text": [
            "6/6 [==============================] - 4s 614ms/step - loss: 1.4345 - accuracy: 0.6667\n",
            "Test accuracy : 0.6666666865348816\n"
          ]
        }
      ]
    },
    {
      "cell_type": "code",
      "source": [
        "loss = history.history['loss']\n",
        "val_loss = history.history['val_loss']\n",
        "\n",
        "\n",
        "plt.plot(loss, label='Training Loss')\n",
        "plt.plot(val_loss, label='Validation Loss')\n",
        "plt.legend(loc='upper right')\n",
        "plt.ylabel('Cross Entropy')\n",
        "plt.title('Training and Validation Loss (ResNet50)')\n",
        "plt.xlabel('epoch')\n",
        "plt.show()"
      ],
      "metadata": {
        "colab": {
          "base_uri": "https://localhost:8080/",
          "height": 295
        },
        "id": "bxjBXkMVT_fE",
        "outputId": "78e1a136-7c01-4dae-ded2-8df8efbe3168"
      },
      "execution_count": 23,
      "outputs": [
        {
          "output_type": "display_data",
          "data": {
            "text/plain": [
              "<Figure size 432x288 with 1 Axes>"
            ],
            "image/png": "[encoded data removed]"
          },
          "metadata": {
            "needs_background": "light"
          }
        }
      ]
    }
  ]
}