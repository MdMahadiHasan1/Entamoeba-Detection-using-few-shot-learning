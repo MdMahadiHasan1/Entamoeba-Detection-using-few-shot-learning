{
  "nbformat": 4,
  "nbformat_minor": 0,
  "metadata": {
    "colab": {
      "provenance": []
    },
    "kernelspec": {
      "name": "python3",
      "display_name": "Python 3"
    },
    "language_info": {
      "name": "python"
    }
  },
  "cells": [
    {
      "cell_type": "code",
      "execution_count": 1,
      "metadata": {
        "id": "ipA8LiCcJyBZ"
      },
      "outputs": [],
      "source": [
        "import matplotlib.pyplot as plt\n",
        "import numpy as np\n",
        "import PIL\n",
        "import os\n",
        "import tensorflow as tf\n",
        "from tensorflow import keras\n",
        "from tensorflow.keras import layers\n",
        "from tensorflow.keras.models import Sequential\n",
        "from sklearn import preprocessing\n",
        "from keras.preprocessing import image\n",
        "from sklearn.model_selection import train_test_split"
      ]
    },
    {
      "cell_type": "code",
      "source": [
        "base_dir = '/content/drive/MyDrive/shot/'\n",
        "\n",
        "train_dir = os.path.join(base_dir, 'train')\n",
        "validation_dir = os.path.join(base_dir, 'test')"
      ],
      "metadata": {
        "id": "Mt0-_YPqNjGn"
      },
      "execution_count": 2,
      "outputs": []
    },
    {
      "cell_type": "code",
      "source": [
        "BATCH_SIZE = 5\n",
        "IMG_SIZE = (180, 180)\n",
        "\n",
        "train = tf.keras.utils.image_dataset_from_directory(train_dir,\n",
        "                                                            shuffle=True,\n",
        "                                                            batch_size=BATCH_SIZE,\n",
        "                                                            image_size=IMG_SIZE)"
      ],
      "metadata": {
        "colab": {
          "base_uri": "https://localhost:8080/"
        },
        "id": "ZwJuMrIVNlzc",
        "outputId": "d061b2c8-8c00-44e2-8e14-261c00ccb6e1"
      },
      "execution_count": 3,
      "outputs": [
        {
          "output_type": "stream",
          "name": "stdout",
          "text": [
            "Found 100 files belonging to 2 classes.\n"
          ]
        }
      ]
    },
    {
      "cell_type": "code",
      "source": [
        "validation = tf.keras.utils.image_dataset_from_directory(validation_dir,\n",
        "                                                                 shuffle=True,\n",
        "                                                                 batch_size=BATCH_SIZE,\n",
        "                                                                 image_size=IMG_SIZE)"
      ],
      "metadata": {
        "colab": {
          "base_uri": "https://localhost:8080/"
        },
        "id": "8FjOVi82PTQg",
        "outputId": "69b53adf-60c2-47df-d786-2d411235b69d"
      },
      "execution_count": 4,
      "outputs": [
        {
          "output_type": "stream",
          "name": "stdout",
          "text": [
            "Found 30 files belonging to 2 classes.\n"
          ]
        }
      ]
    },
    {
      "cell_type": "code",
      "source": [
        "resnet_model = Sequential()\n",
        "\n",
        "pretrained_model= tf.keras.applications.ResNet50(include_top=False,\n",
        "                   input_shape=(180,180,3),\n",
        "                   pooling='avg',classes=2,\n",
        "                   weights='imagenet')\n",
        "for layer in pretrained_model.layers:\n",
        "        layer.trainable=False\n",
        "\n",
        "resnet_model.add(pretrained_model)"
      ],
      "metadata": {
        "colab": {
          "base_uri": "https://localhost:8080/"
        },
        "id": "S3ZSdysXPXvb",
        "outputId": "ac8a152c-9812-4c57-f03e-efdf92f4ca76"
      },
      "execution_count": 5,
      "outputs": [
        {
          "output_type": "stream",
          "name": "stdout",
          "text": [
            "Downloading data from https://storage.googleapis.com/tensorflow/keras-applications/resnet/resnet50_weights_tf_dim_ordering_tf_kernels_notop.h5\n",
            "94765736/94765736 [==============================] - 2s 0us/step\n"
          ]
        }
      ]
    },
    {
      "cell_type": "code",
      "source": [
        "resnet_model.add(tf.keras.layers.Flatten())\n",
        "resnet_model.add(tf.keras.layers.Dense(512, activation='relu'))\n",
        "resnet_model.add(tf.keras.layers.Dense(1, activation='sigmoid'))"
      ],
      "metadata": {
        "id": "9R77vxVtPa_t"
      },
      "execution_count": 6,
      "outputs": []
    },
    {
      "cell_type": "code",
      "source": [
        "resnet_model.compile(tf.keras.optimizers.Adam(lr=0.001),loss='binary_crossentropy',metrics=['accuracy'])\n",
        "\n",
        "history = resnet_model.fit(train, validation_data=validation, epochs=50)"
      ],
      "metadata": {
        "colab": {
          "base_uri": "https://localhost:8080/"
        },
        "id": "Z9cA4MVwPeSm",
        "outputId": "ad5188f7-b684-4f71-8d93-802c7e83bc66"
      },
      "execution_count": 7,
      "outputs": [
        {
          "output_type": "stream",
          "name": "stdout",
          "text": [
            "Epoch 1/50\n"
          ]
        },
        {
          "output_type": "stream",
          "name": "stderr",
          "text": [
            "/usr/local/lib/python3.7/dist-packages/keras/optimizers/optimizer_v2/adam.py:110: UserWarning: The `lr` argument is deprecated, use `learning_rate` instead.\n",
            "  super(Adam, self).__init__(name, **kwargs)\n"
          ]
        },
        {
          "output_type": "stream",
          "name": "stdout",
          "text": [
            "20/20 [==============================] - 42s 1s/step - loss: 1.0285 - accuracy: 0.6200 - val_loss: 0.7649 - val_accuracy: 0.6667\n",
            "Epoch 2/50\n",
            "20/20 [==============================] - 16s 800ms/step - loss: 0.4686 - accuracy: 0.7900 - val_loss: 0.9115 - val_accuracy: 0.6667\n",
            "Epoch 3/50\n",
            "20/20 [==============================] - 17s 847ms/step - loss: 0.2628 - accuracy: 0.9000 - val_loss: 0.7066 - val_accuracy: 0.8000\n",
            "Epoch 4/50\n",
            "20/20 [==============================] - 18s 905ms/step - loss: 0.0893 - accuracy: 0.9900 - val_loss: 0.9476 - val_accuracy: 0.7333\n",
            "Epoch 5/50\n",
            "20/20 [==============================] - 16s 791ms/step - loss: 0.0868 - accuracy: 0.9800 - val_loss: 0.9303 - val_accuracy: 0.7333\n",
            "Epoch 6/50\n",
            "20/20 [==============================] - 18s 892ms/step - loss: 0.0351 - accuracy: 1.0000 - val_loss: 0.8573 - val_accuracy: 0.7333\n",
            "Epoch 7/50\n",
            "20/20 [==============================] - 16s 794ms/step - loss: 0.0320 - accuracy: 1.0000 - val_loss: 1.0267 - val_accuracy: 0.6000\n",
            "Epoch 8/50\n",
            "20/20 [==============================] - 16s 797ms/step - loss: 0.0177 - accuracy: 1.0000 - val_loss: 0.9490 - val_accuracy: 0.6667\n",
            "Epoch 9/50\n",
            "20/20 [==============================] - 18s 904ms/step - loss: 0.0124 - accuracy: 1.0000 - val_loss: 1.0295 - val_accuracy: 0.7000\n",
            "Epoch 10/50\n",
            "20/20 [==============================] - 16s 793ms/step - loss: 0.0089 - accuracy: 1.0000 - val_loss: 1.0659 - val_accuracy: 0.7000\n",
            "Epoch 11/50\n",
            "20/20 [==============================] - 19s 909ms/step - loss: 0.0071 - accuracy: 1.0000 - val_loss: 1.1043 - val_accuracy: 0.7000\n",
            "Epoch 12/50\n",
            "20/20 [==============================] - 16s 793ms/step - loss: 0.0059 - accuracy: 1.0000 - val_loss: 1.1091 - val_accuracy: 0.6667\n",
            "Epoch 13/50\n",
            "20/20 [==============================] - 16s 800ms/step - loss: 0.0054 - accuracy: 1.0000 - val_loss: 1.1327 - val_accuracy: 0.6333\n",
            "Epoch 14/50\n",
            "20/20 [==============================] - 18s 915ms/step - loss: 0.0046 - accuracy: 1.0000 - val_loss: 1.1599 - val_accuracy: 0.6333\n",
            "Epoch 15/50\n",
            "20/20 [==============================] - 16s 798ms/step - loss: 0.0040 - accuracy: 1.0000 - val_loss: 1.1760 - val_accuracy: 0.6667\n",
            "Epoch 16/50\n",
            "20/20 [==============================] - 17s 878ms/step - loss: 0.0036 - accuracy: 1.0000 - val_loss: 1.1859 - val_accuracy: 0.6667\n",
            "Epoch 17/50\n",
            "20/20 [==============================] - 16s 808ms/step - loss: 0.0032 - accuracy: 1.0000 - val_loss: 1.2030 - val_accuracy: 0.6333\n",
            "Epoch 18/50\n",
            "20/20 [==============================] - 16s 801ms/step - loss: 0.0029 - accuracy: 1.0000 - val_loss: 1.2299 - val_accuracy: 0.6333\n",
            "Epoch 19/50\n",
            "20/20 [==============================] - 16s 797ms/step - loss: 0.0026 - accuracy: 1.0000 - val_loss: 1.2429 - val_accuracy: 0.6333\n",
            "Epoch 20/50\n",
            "20/20 [==============================] - 16s 807ms/step - loss: 0.0024 - accuracy: 1.0000 - val_loss: 1.2503 - val_accuracy: 0.6667\n",
            "Epoch 21/50\n",
            "20/20 [==============================] - 16s 802ms/step - loss: 0.0022 - accuracy: 1.0000 - val_loss: 1.2641 - val_accuracy: 0.6333\n",
            "Epoch 22/50\n",
            "20/20 [==============================] - 16s 818ms/step - loss: 0.0020 - accuracy: 1.0000 - val_loss: 1.2807 - val_accuracy: 0.6333\n",
            "Epoch 23/50\n",
            "20/20 [==============================] - 18s 860ms/step - loss: 0.0019 - accuracy: 1.0000 - val_loss: 1.2897 - val_accuracy: 0.6333\n",
            "Epoch 24/50\n",
            "20/20 [==============================] - 16s 797ms/step - loss: 0.0017 - accuracy: 1.0000 - val_loss: 1.3061 - val_accuracy: 0.6333\n",
            "Epoch 25/50\n",
            "20/20 [==============================] - 22s 1s/step - loss: 0.0016 - accuracy: 1.0000 - val_loss: 1.3170 - val_accuracy: 0.6333\n",
            "Epoch 26/50\n",
            "20/20 [==============================] - 18s 884ms/step - loss: 0.0014 - accuracy: 1.0000 - val_loss: 1.3284 - val_accuracy: 0.6333\n",
            "Epoch 27/50\n",
            "20/20 [==============================] - 16s 794ms/step - loss: 0.0014 - accuracy: 1.0000 - val_loss: 1.3457 - val_accuracy: 0.6333\n",
            "Epoch 28/50\n",
            "20/20 [==============================] - 16s 795ms/step - loss: 0.0013 - accuracy: 1.0000 - val_loss: 1.3513 - val_accuracy: 0.6333\n",
            "Epoch 29/50\n",
            "20/20 [==============================] - 18s 903ms/step - loss: 0.0012 - accuracy: 1.0000 - val_loss: 1.3714 - val_accuracy: 0.6333\n",
            "Epoch 30/50\n",
            "20/20 [==============================] - 16s 795ms/step - loss: 0.0011 - accuracy: 1.0000 - val_loss: 1.3727 - val_accuracy: 0.6333\n",
            "Epoch 31/50\n",
            "20/20 [==============================] - 18s 899ms/step - loss: 0.0010 - accuracy: 1.0000 - val_loss: 1.3882 - val_accuracy: 0.6333\n",
            "Epoch 32/50\n",
            "20/20 [==============================] - 16s 799ms/step - loss: 9.5669e-04 - accuracy: 1.0000 - val_loss: 1.3941 - val_accuracy: 0.6333\n",
            "Epoch 33/50\n",
            "20/20 [==============================] - 16s 797ms/step - loss: 8.9635e-04 - accuracy: 1.0000 - val_loss: 1.4044 - val_accuracy: 0.6333\n",
            "Epoch 34/50\n",
            "20/20 [==============================] - 17s 810ms/step - loss: 8.5407e-04 - accuracy: 1.0000 - val_loss: 1.4195 - val_accuracy: 0.6333\n",
            "Epoch 35/50\n",
            "20/20 [==============================] - 16s 795ms/step - loss: 8.0264e-04 - accuracy: 1.0000 - val_loss: 1.4238 - val_accuracy: 0.6333\n",
            "Epoch 36/50\n",
            "20/20 [==============================] - 18s 903ms/step - loss: 7.5234e-04 - accuracy: 1.0000 - val_loss: 1.4336 - val_accuracy: 0.6333\n",
            "Epoch 37/50\n",
            "20/20 [==============================] - 20s 1s/step - loss: 7.0812e-04 - accuracy: 1.0000 - val_loss: 1.4479 - val_accuracy: 0.6333\n",
            "Epoch 38/50\n",
            "20/20 [==============================] - 19s 910ms/step - loss: 6.6852e-04 - accuracy: 1.0000 - val_loss: 1.4524 - val_accuracy: 0.6333\n",
            "Epoch 39/50\n",
            "20/20 [==============================] - 16s 800ms/step - loss: 6.4220e-04 - accuracy: 1.0000 - val_loss: 1.4650 - val_accuracy: 0.6333\n",
            "Epoch 40/50\n",
            "20/20 [==============================] - 16s 796ms/step - loss: 6.1349e-04 - accuracy: 1.0000 - val_loss: 1.4727 - val_accuracy: 0.6333\n",
            "Epoch 41/50\n",
            "20/20 [==============================] - 18s 900ms/step - loss: 5.7181e-04 - accuracy: 1.0000 - val_loss: 1.4826 - val_accuracy: 0.6333\n",
            "Epoch 42/50\n",
            "20/20 [==============================] - 16s 789ms/step - loss: 5.3999e-04 - accuracy: 1.0000 - val_loss: 1.4869 - val_accuracy: 0.6333\n",
            "Epoch 43/50\n",
            "20/20 [==============================] - 18s 907ms/step - loss: 5.1638e-04 - accuracy: 1.0000 - val_loss: 1.4918 - val_accuracy: 0.6333\n",
            "Epoch 44/50\n",
            "20/20 [==============================] - 16s 790ms/step - loss: 4.9005e-04 - accuracy: 1.0000 - val_loss: 1.5056 - val_accuracy: 0.6333\n",
            "Epoch 45/50\n",
            "20/20 [==============================] - 16s 789ms/step - loss: 4.6679e-04 - accuracy: 1.0000 - val_loss: 1.5119 - val_accuracy: 0.6333\n",
            "Epoch 46/50\n",
            "20/20 [==============================] - 16s 792ms/step - loss: 4.4531e-04 - accuracy: 1.0000 - val_loss: 1.5207 - val_accuracy: 0.6333\n",
            "Epoch 47/50\n",
            "20/20 [==============================] - 18s 908ms/step - loss: 4.2390e-04 - accuracy: 1.0000 - val_loss: 1.5257 - val_accuracy: 0.6333\n",
            "Epoch 48/50\n",
            "20/20 [==============================] - 16s 795ms/step - loss: 4.0846e-04 - accuracy: 1.0000 - val_loss: 1.5357 - val_accuracy: 0.6333\n",
            "Epoch 49/50\n",
            "20/20 [==============================] - 18s 908ms/step - loss: 3.8537e-04 - accuracy: 1.0000 - val_loss: 1.5420 - val_accuracy: 0.6333\n",
            "Epoch 50/50\n",
            "20/20 [==============================] - 16s 795ms/step - loss: 3.6739e-04 - accuracy: 1.0000 - val_loss: 1.5493 - val_accuracy: 0.6333\n"
          ]
        }
      ]
    },
    {
      "cell_type": "code",
      "source": [
        "acc = history.history['accuracy']\n",
        "val_acc = history.history['val_accuracy']\n",
        "\n",
        "loss = history.history['loss']\n",
        "val_loss = history.history['val_loss']\n",
        "\n",
        "plt.plot(acc, label='Training Accuracy')\n",
        "plt.plot(val_acc, label='Validation Accuracy')\n",
        "plt.legend(loc='center')\n",
        "plt.ylabel('Accuracy')\n",
        "plt.title('Training and Validation Accuracy (ResNet50)')"
      ],
      "metadata": {
        "colab": {
          "base_uri": "https://localhost:8080/",
          "height": 298
        },
        "id": "6bDfqH9lP0z8",
        "outputId": "fd62dec8-ae15-4547-bba5-09c5960a7291"
      },
      "execution_count": 11,
      "outputs": [
        {
          "output_type": "execute_result",
          "data": {
            "text/plain": [
              "Text(0.5, 1.0, 'Training and Validation Accuracy (ResNet50)')"
            ]
          },
          "metadata": {},
          "execution_count": 11
        },
        {
          "output_type": "display_data",
          "data": {
            "text/plain": [
              "<Figure size 432x288 with 1 Axes>"
            ],
            "image/png": "[encoded data removed]"
          },
          "metadata": {
            "needs_background": "light"
          }
        }
      ]
    },
    {
      "cell_type": "code",
      "source": [
        "loss, accuracy = resnet_model.evaluate(validation)\n",
        "print('Test accuracy :', accuracy)"
      ],
      "metadata": {
        "colab": {
          "base_uri": "https://localhost:8080/"
        },
        "id": "LOFJYMXxZ92h",
        "outputId": "0b27cb53-62ba-45ce-f43b-d7c1425e251e"
      },
      "execution_count": 12,
      "outputs": [
        {
          "output_type": "stream",
          "name": "stdout",
          "text": [
            "6/6 [==============================] - 4s 596ms/step - loss: 1.5493 - accuracy: 0.6333\n",
            "Test accuracy : 0.6333333253860474\n"
          ]
        }
      ]
    }
  ]
}