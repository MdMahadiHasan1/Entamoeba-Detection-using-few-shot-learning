{
  "nbformat": 4,
  "nbformat_minor": 0,
  "metadata": {
    "colab": {
      "provenance": []
    },
    "kernelspec": {
      "name": "python3",
      "display_name": "Python 3"
    },
    "language_info": {
      "name": "python"
    }
  },
  "cells": [
    {
      "cell_type": "code",
      "execution_count": 2,
      "metadata": {
        "id": "ipA8LiCcJyBZ"
      },
      "outputs": [],
      "source": [
        "import matplotlib.pyplot as plt\n",
        "import numpy as np\n",
        "import PIL\n",
        "import os\n",
        "import tensorflow as tf\n",
        "from tensorflow import keras\n",
        "from tensorflow.keras import layers\n",
        "from tensorflow.keras.models import Sequential\n",
        "from sklearn import preprocessing\n",
        "from keras.preprocessing import image\n",
        "from sklearn.model_selection import train_test_split"
      ]
    },
    {
      "cell_type": "code",
      "source": [
        "base_dir = '/content/drive/MyDrive/shot/'\n",
        "\n",
        "train_dir = os.path.join(base_dir, 'train')\n",
        "validation_dir = os.path.join(base_dir, 'test')"
      ],
      "metadata": {
        "id": "Mt0-_YPqNjGn"
      },
      "execution_count": 3,
      "outputs": []
    },
    {
      "cell_type": "code",
      "source": [
        "BATCH_SIZE = 5\n",
        "IMG_SIZE = (180, 180)\n",
        "\n",
        "train = tf.keras.utils.image_dataset_from_directory(train_dir,\n",
        "                                                            shuffle=True,\n",
        "                                                            batch_size=BATCH_SIZE,\n",
        "                                                            image_size=IMG_SIZE)"
      ],
      "metadata": {
        "colab": {
          "base_uri": "https://localhost:8080/"
        },
        "id": "ZwJuMrIVNlzc",
        "outputId": "43df1b8c-3daf-4121-f02e-dbe7c8daf246"
      },
      "execution_count": 4,
      "outputs": [
        {
          "output_type": "stream",
          "name": "stdout",
          "text": [
            "Found 100 files belonging to 2 classes.\n"
          ]
        }
      ]
    },
    {
      "cell_type": "code",
      "source": [
        "validation = tf.keras.utils.image_dataset_from_directory(validation_dir,\n",
        "                                                                 shuffle=True,\n",
        "                                                                 batch_size=BATCH_SIZE,\n",
        "                                                                 image_size=IMG_SIZE)"
      ],
      "metadata": {
        "colab": {
          "base_uri": "https://localhost:8080/"
        },
        "id": "8FjOVi82PTQg",
        "outputId": "ba33da2d-ed6d-4572-f3e0-1c367899022c"
      },
      "execution_count": 5,
      "outputs": [
        {
          "output_type": "stream",
          "name": "stdout",
          "text": [
            "Found 30 files belonging to 2 classes.\n"
          ]
        }
      ]
    },
    {
      "cell_type": "code",
      "source": [
        "Xception_model = Sequential()\n",
        "\n",
        "pretrained_model= tf.keras.applications.xception.Xception(include_top=False,\n",
        "                   input_shape=(180,180,3),\n",
        "                   pooling='avg',classes=2,\n",
        "                   weights='imagenet')\n",
        "for layer in pretrained_model.layers:\n",
        "        layer.trainable=False\n",
        "\n",
        "Xception_model.add(pretrained_model)"
      ],
      "metadata": {
        "colab": {
          "base_uri": "https://localhost:8080/"
        },
        "id": "S3ZSdysXPXvb",
        "outputId": "09f60195-140d-4e75-969b-da2f8a462d9e"
      },
      "execution_count": 6,
      "outputs": [
        {
          "output_type": "stream",
          "name": "stdout",
          "text": [
            "Downloading data from https://storage.googleapis.com/tensorflow/keras-applications/xception/xception_weights_tf_dim_ordering_tf_kernels_notop.h5\n",
            "83683744/83683744 [==============================] - 1s 0us/step\n"
          ]
        }
      ]
    },
    {
      "cell_type": "code",
      "source": [
        "Xception_model.add(tf.keras.layers.Flatten())\n",
        "Xception_model.add(tf.keras.layers.Dense(512, activation='relu'))\n",
        "Xception_model.add(tf.keras.layers.Dense(1, activation='sigmoid'))"
      ],
      "metadata": {
        "id": "9R77vxVtPa_t"
      },
      "execution_count": 7,
      "outputs": []
    },
    {
      "cell_type": "code",
      "source": [
        "Xception_model.compile(tf.keras.optimizers.Adam(lr=0.001),loss='binary_crossentropy',metrics=['accuracy'])\n",
        "\n",
        "history = Xception_model.fit(train, validation_data=validation, epochs=50)"
      ],
      "metadata": {
        "colab": {
          "base_uri": "https://localhost:8080/"
        },
        "id": "Z9cA4MVwPeSm",
        "outputId": "acab53bf-c349-406b-d607-fdcb236530e5"
      },
      "execution_count": 8,
      "outputs": [
        {
          "output_type": "stream",
          "name": "stdout",
          "text": [
            "Epoch 1/50\n"
          ]
        },
        {
          "output_type": "stream",
          "name": "stderr",
          "text": [
            "/usr/local/lib/python3.8/dist-packages/keras/optimizers/optimizer_v2/adam.py:110: UserWarning: The `lr` argument is deprecated, use `learning_rate` instead.\n",
            "  super(Adam, self).__init__(name, **kwargs)\n"
          ]
        },
        {
          "output_type": "stream",
          "name": "stdout",
          "text": [
            "20/20 [==============================] - 48s 2s/step - loss: 71.5862 - accuracy: 0.5000 - val_loss: 17.4435 - val_accuracy: 0.5333\n",
            "Epoch 2/50\n",
            "20/20 [==============================] - 17s 849ms/step - loss: 16.6855 - accuracy: 0.5900 - val_loss: 22.2743 - val_accuracy: 0.5000\n",
            "Epoch 3/50\n",
            "20/20 [==============================] - 17s 840ms/step - loss: 19.9998 - accuracy: 0.5800 - val_loss: 11.4292 - val_accuracy: 0.6667\n",
            "Epoch 4/50\n",
            "20/20 [==============================] - 17s 863ms/step - loss: 8.2288 - accuracy: 0.6700 - val_loss: 4.1824 - val_accuracy: 0.7000\n",
            "Epoch 5/50\n",
            "20/20 [==============================] - 17s 863ms/step - loss: 2.3082 - accuracy: 0.7900 - val_loss: 3.0594 - val_accuracy: 0.7667\n",
            "Epoch 6/50\n",
            "20/20 [==============================] - 19s 967ms/step - loss: 1.8512 - accuracy: 0.7800 - val_loss: 4.0101 - val_accuracy: 0.7333\n",
            "Epoch 7/50\n",
            "20/20 [==============================] - 17s 858ms/step - loss: 1.1782 - accuracy: 0.7500 - val_loss: 2.4401 - val_accuracy: 0.8000\n",
            "Epoch 8/50\n",
            "20/20 [==============================] - 17s 856ms/step - loss: 0.3879 - accuracy: 0.8700 - val_loss: 3.0155 - val_accuracy: 0.7667\n",
            "Epoch 9/50\n",
            "20/20 [==============================] - 17s 861ms/step - loss: 0.3308 - accuracy: 0.8600 - val_loss: 2.2199 - val_accuracy: 0.7333\n",
            "Epoch 10/50\n",
            "20/20 [==============================] - 17s 865ms/step - loss: 0.2225 - accuracy: 0.9500 - val_loss: 2.6696 - val_accuracy: 0.8000\n",
            "Epoch 11/50\n",
            "20/20 [==============================] - 17s 843ms/step - loss: 0.2538 - accuracy: 0.9400 - val_loss: 2.3586 - val_accuracy: 0.7667\n",
            "Epoch 12/50\n",
            "20/20 [==============================] - 17s 861ms/step - loss: 1.6168 - accuracy: 0.8000 - val_loss: 5.0350 - val_accuracy: 0.6000\n",
            "Epoch 13/50\n",
            "20/20 [==============================] - 17s 859ms/step - loss: 1.9449 - accuracy: 0.7900 - val_loss: 3.1375 - val_accuracy: 0.7667\n",
            "Epoch 14/50\n",
            "20/20 [==============================] - 17s 866ms/step - loss: 0.9974 - accuracy: 0.8700 - val_loss: 2.9878 - val_accuracy: 0.7333\n",
            "Epoch 15/50\n",
            "20/20 [==============================] - 19s 962ms/step - loss: 0.2452 - accuracy: 0.9200 - val_loss: 2.5188 - val_accuracy: 0.7333\n",
            "Epoch 16/50\n",
            "20/20 [==============================] - 17s 863ms/step - loss: 0.1859 - accuracy: 0.9100 - val_loss: 2.8133 - val_accuracy: 0.7667\n",
            "Epoch 17/50\n",
            "20/20 [==============================] - 17s 870ms/step - loss: 1.2982 - accuracy: 0.8200 - val_loss: 2.5460 - val_accuracy: 0.7667\n",
            "Epoch 18/50\n",
            "20/20 [==============================] - 17s 864ms/step - loss: 0.3404 - accuracy: 0.9400 - val_loss: 3.0350 - val_accuracy: 0.7667\n",
            "Epoch 19/50\n",
            "20/20 [==============================] - 17s 867ms/step - loss: 0.3822 - accuracy: 0.9100 - val_loss: 3.5763 - val_accuracy: 0.8000\n",
            "Epoch 20/50\n",
            "20/20 [==============================] - 17s 865ms/step - loss: 0.1567 - accuracy: 0.9200 - val_loss: 2.8882 - val_accuracy: 0.7667\n",
            "Epoch 21/50\n",
            "20/20 [==============================] - 17s 859ms/step - loss: 0.0941 - accuracy: 0.9600 - val_loss: 2.8068 - val_accuracy: 0.7667\n",
            "Epoch 22/50\n",
            "20/20 [==============================] - 17s 861ms/step - loss: 0.1389 - accuracy: 0.9600 - val_loss: 2.5068 - val_accuracy: 0.7333\n",
            "Epoch 23/50\n",
            "20/20 [==============================] - 17s 861ms/step - loss: 0.0083 - accuracy: 1.0000 - val_loss: 2.3330 - val_accuracy: 0.7333\n",
            "Epoch 24/50\n",
            "20/20 [==============================] - 19s 971ms/step - loss: 0.0063 - accuracy: 1.0000 - val_loss: 2.4430 - val_accuracy: 0.7667\n",
            "Epoch 25/50\n",
            "20/20 [==============================] - 17s 864ms/step - loss: 0.0050 - accuracy: 1.0000 - val_loss: 2.4027 - val_accuracy: 0.7333\n",
            "Epoch 26/50\n",
            "20/20 [==============================] - 17s 861ms/step - loss: 0.0075 - accuracy: 1.0000 - val_loss: 2.4154 - val_accuracy: 0.7333\n",
            "Epoch 27/50\n",
            "20/20 [==============================] - 17s 858ms/step - loss: 0.0062 - accuracy: 1.0000 - val_loss: 2.3957 - val_accuracy: 0.7333\n",
            "Epoch 28/50\n",
            "20/20 [==============================] - 17s 848ms/step - loss: 0.0043 - accuracy: 1.0000 - val_loss: 2.4671 - val_accuracy: 0.7667\n",
            "Epoch 29/50\n",
            "20/20 [==============================] - 17s 860ms/step - loss: 0.0041 - accuracy: 1.0000 - val_loss: 2.4514 - val_accuracy: 0.7667\n",
            "Epoch 30/50\n",
            "20/20 [==============================] - 17s 858ms/step - loss: 0.0039 - accuracy: 1.0000 - val_loss: 2.4226 - val_accuracy: 0.7667\n",
            "Epoch 31/50\n",
            "20/20 [==============================] - 17s 865ms/step - loss: 0.0047 - accuracy: 1.0000 - val_loss: 2.5471 - val_accuracy: 0.8000\n",
            "Epoch 32/50\n",
            "20/20 [==============================] - 17s 873ms/step - loss: 0.0044 - accuracy: 1.0000 - val_loss: 2.3870 - val_accuracy: 0.7333\n",
            "Epoch 33/50\n",
            "20/20 [==============================] - 19s 973ms/step - loss: 0.0041 - accuracy: 1.0000 - val_loss: 2.3442 - val_accuracy: 0.7667\n",
            "Epoch 34/50\n",
            "20/20 [==============================] - 17s 872ms/step - loss: 0.0037 - accuracy: 1.0000 - val_loss: 2.4659 - val_accuracy: 0.8000\n",
            "Epoch 35/50\n",
            "20/20 [==============================] - 17s 867ms/step - loss: 0.0032 - accuracy: 1.0000 - val_loss: 2.4098 - val_accuracy: 0.7333\n",
            "Epoch 36/50\n",
            "20/20 [==============================] - 17s 864ms/step - loss: 0.0034 - accuracy: 1.0000 - val_loss: 2.4361 - val_accuracy: 0.7667\n",
            "Epoch 37/50\n",
            "20/20 [==============================] - 17s 864ms/step - loss: 0.0029 - accuracy: 1.0000 - val_loss: 2.3963 - val_accuracy: 0.7667\n",
            "Epoch 38/50\n",
            "20/20 [==============================] - 17s 865ms/step - loss: 0.0027 - accuracy: 1.0000 - val_loss: 2.4555 - val_accuracy: 0.7667\n",
            "Epoch 39/50\n",
            "20/20 [==============================] - 17s 847ms/step - loss: 0.0028 - accuracy: 1.0000 - val_loss: 2.4716 - val_accuracy: 0.8000\n",
            "Epoch 40/50\n",
            "20/20 [==============================] - 17s 865ms/step - loss: 0.0026 - accuracy: 1.0000 - val_loss: 2.4304 - val_accuracy: 0.7667\n",
            "Epoch 41/50\n",
            "20/20 [==============================] - 18s 882ms/step - loss: 0.0027 - accuracy: 1.0000 - val_loss: 2.3932 - val_accuracy: 0.7667\n",
            "Epoch 42/50\n",
            "20/20 [==============================] - 19s 982ms/step - loss: 0.0024 - accuracy: 1.0000 - val_loss: 2.4252 - val_accuracy: 0.7333\n",
            "Epoch 43/50\n",
            "20/20 [==============================] - 17s 874ms/step - loss: 0.0024 - accuracy: 1.0000 - val_loss: 2.4540 - val_accuracy: 0.8000\n",
            "Epoch 44/50\n",
            "20/20 [==============================] - 17s 876ms/step - loss: 0.0023 - accuracy: 1.0000 - val_loss: 2.4114 - val_accuracy: 0.7667\n",
            "Epoch 45/50\n",
            "20/20 [==============================] - 17s 878ms/step - loss: 0.0025 - accuracy: 1.0000 - val_loss: 2.4080 - val_accuracy: 0.7667\n",
            "Epoch 46/50\n",
            "20/20 [==============================] - 18s 886ms/step - loss: 0.0025 - accuracy: 1.0000 - val_loss: 2.4548 - val_accuracy: 0.8000\n",
            "Epoch 47/50\n",
            "20/20 [==============================] - 17s 853ms/step - loss: 0.0024 - accuracy: 1.0000 - val_loss: 2.4396 - val_accuracy: 0.8000\n",
            "Epoch 48/50\n",
            "20/20 [==============================] - 17s 868ms/step - loss: 0.0022 - accuracy: 1.0000 - val_loss: 2.4025 - val_accuracy: 0.7667\n",
            "Epoch 49/50\n",
            "20/20 [==============================] - 17s 858ms/step - loss: 0.0024 - accuracy: 1.0000 - val_loss: 2.4195 - val_accuracy: 0.8000\n",
            "Epoch 50/50\n",
            "20/20 [==============================] - 17s 870ms/step - loss: 0.0020 - accuracy: 1.0000 - val_loss: 2.4809 - val_accuracy: 0.8000\n"
          ]
        }
      ]
    },
    {
      "cell_type": "code",
      "source": [
        "acc = history.history['accuracy']\n",
        "val_acc = history.history['val_accuracy']\n",
        "\n",
        "plt.plot(acc, label='Training Accuracy')\n",
        "plt.plot(val_acc, label='Validation Accuracy')\n",
        "plt.legend(loc='center')\n",
        "plt.ylabel('Accuracy')\n",
        "plt.title('Training and Validation Accuracy (Xception)')"
      ],
      "metadata": {
        "colab": {
          "base_uri": "https://localhost:8080/",
          "height": 298
        },
        "id": "6bDfqH9lP0z8",
        "outputId": "c1497f53-514c-4d9c-bf3d-4533e353dd0d"
      },
      "execution_count": 9,
      "outputs": [
        {
          "output_type": "execute_result",
          "data": {
            "text/plain": [
              "Text(0.5, 1.0, 'Training and Validation Accuracy (Xception)')"
            ]
          },
          "metadata": {},
          "execution_count": 9
        },
        {
          "output_type": "display_data",
          "data": {
            "text/plain": [
              "<Figure size 432x288 with 1 Axes>"
            ],
            "image/png": "[encoded data removed]"
          },
          "metadata": {
            "needs_background": "light"
          }
        }
      ]
    },
    {
      "cell_type": "code",
      "source": [
        "loss, accuracy = Xception_model.evaluate(validation)\n",
        "print('Test accuracy :', accuracy)"
      ],
      "metadata": {
        "colab": {
          "base_uri": "https://localhost:8080/"
        },
        "id": "LOFJYMXxZ92h",
        "outputId": "765ffeab-01fc-4629-8b77-8cb4ceddb0b4"
      },
      "execution_count": 10,
      "outputs": [
        {
          "output_type": "stream",
          "name": "stdout",
          "text": [
            "6/6 [==============================] - 4s 660ms/step - loss: 2.4809 - accuracy: 0.8000\n",
            "Test accuracy : 0.800000011920929\n"
          ]
        }
      ]
    },
    {
      "cell_type": "code",
      "source": [
        "loss = history.history['loss']\n",
        "val_loss = history.history['val_loss']\n",
        "\n",
        "\n",
        "plt.plot(loss, label='Training Loss')\n",
        "plt.plot(val_loss, label='Validation Loss')\n",
        "plt.legend(loc='upper right')\n",
        "plt.ylabel('Cross Entropy')\n",
        "plt.title('Training and Validation Loss (Xception))')\n",
        "plt.xlabel('epoch')\n",
        "plt.show()"
      ],
      "metadata": {
        "colab": {
          "base_uri": "https://localhost:8080/",
          "height": 295
        },
        "id": "bxjBXkMVT_fE",
        "outputId": "d0ff29be-ea26-4285-8c4e-f232a0129042"
      },
      "execution_count": 11,
      "outputs": [
        {
          "output_type": "display_data",
          "data": {
            "text/plain": [
              "<Figure size 432x288 with 1 Axes>"
            ],
            "image/png": "[encoded data removed]"
          },
          "metadata": {
            "needs_background": "light"
          }
        }
      ]
    }
  ]
}