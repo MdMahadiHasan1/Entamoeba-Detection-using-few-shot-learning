{
  "nbformat": 4,
  "nbformat_minor": 0,
  "metadata": {
    "colab": {
      "provenance": []
    },
    "kernelspec": {
      "name": "python3",
      "display_name": "Python 3"
    },
    "language_info": {
      "name": "python"
    },
    "accelerator": "GPU",
    "gpuClass": "standard"
  },
  "cells": [
    {
      "cell_type": "code",
      "source": [
        "import matplotlib.pyplot as plt\n",
        "import numpy as np\n",
        "import PIL\n",
        "import os\n",
        "import tensorflow as tf\n",
        "from tensorflow import keras\n",
        "from tensorflow.keras import layers\n",
        "from tensorflow.keras.models import Sequential\n",
        "from sklearn import preprocessing\n",
        "from keras.preprocessing import image\n",
        "from sklearn.model_selection import train_test_split"
      ],
      "metadata": {
        "id": "i5OLBuhMJYct"
      },
      "execution_count": 3,
      "outputs": []
    },
    {
      "cell_type": "code",
      "source": [
        "base_dir = '/content/drive/MyDrive/Thesis_Paper/CNN/'\n",
        "\n",
        "train_dir = os.path.join(base_dir, 'train')\n",
        "validation_dir = os.path.join(base_dir, 'test')"
      ],
      "metadata": {
        "id": "QstleOLMZoLI"
      },
      "execution_count": 4,
      "outputs": []
    },
    {
      "cell_type": "code",
      "source": [
        "BATCH_SIZE = 5\n",
        "IMG_SIZE = (180, 180)\n",
        "\n",
        "train = tf.keras.utils.image_dataset_from_directory(train_dir,\n",
        "                                                            shuffle=True,\n",
        "                                                            batch_size=BATCH_SIZE,\n",
        "                                                            image_size=IMG_SIZE)"
      ],
      "metadata": {
        "colab": {
          "base_uri": "https://localhost:8080/"
        },
        "id": "xmPXTNPzdRa1",
        "outputId": "40b2ff6a-2edf-49c3-9fe3-5316cb92f9b3"
      },
      "execution_count": 5,
      "outputs": [
        {
          "output_type": "stream",
          "name": "stdout",
          "text": [
            "Found 400 files belonging to 2 classes.\n"
          ]
        }
      ]
    },
    {
      "cell_type": "code",
      "source": [
        "validation = tf.keras.utils.image_dataset_from_directory(validation_dir,\n",
        "                                                                 shuffle=True,\n",
        "                                                                 batch_size=BATCH_SIZE,\n",
        "                                                                 image_size=IMG_SIZE)"
      ],
      "metadata": {
        "colab": {
          "base_uri": "https://localhost:8080/"
        },
        "id": "lJqX5-9eda6y",
        "outputId": "36924c35-6e90-4a99-b005-a7025ade3228"
      },
      "execution_count": 6,
      "outputs": [
        {
          "output_type": "stream",
          "name": "stdout",
          "text": [
            "Found 100 files belonging to 2 classes.\n"
          ]
        }
      ]
    },
    {
      "cell_type": "code",
      "source": [
        "resnet_model = Sequential()\n",
        "\n",
        "pretrained_model= tf.keras.applications.ResNet50(include_top=False,\n",
        "                   input_shape=(180,180,3),\n",
        "                   pooling='avg',classes=2,\n",
        "                   weights='imagenet')\n",
        "for layer in pretrained_model.layers:\n",
        "        layer.trainable=False\n",
        "\n",
        "resnet_model.add(pretrained_model)"
      ],
      "metadata": {
        "colab": {
          "base_uri": "https://localhost:8080/"
        },
        "id": "_iBTp1ZiJFzm",
        "outputId": "9f8e348b-272f-4677-a3a0-2aa5afb55472"
      },
      "execution_count": 7,
      "outputs": [
        {
          "output_type": "stream",
          "name": "stdout",
          "text": [
            "Downloading data from https://storage.googleapis.com/tensorflow/keras-applications/resnet/resnet50_weights_tf_dim_ordering_tf_kernels_notop.h5\n",
            "94773248/94765736 [==============================] - 0s 0us/step\n",
            "94781440/94765736 [==============================] - 0s 0us/step\n"
          ]
        }
      ]
    },
    {
      "cell_type": "code",
      "source": [
        "resnet_model.add(tf.keras.layers.Flatten())\n",
        "resnet_model.add(tf.keras.layers.Dense(512, activation='relu'))\n",
        "resnet_model.add(tf.keras.layers.Dense(1, activation='sigmoid'))"
      ],
      "metadata": {
        "id": "G3K8u2U8JoQQ"
      },
      "execution_count": 8,
      "outputs": []
    },
    {
      "cell_type": "code",
      "source": [
        "resnet_model.summary()"
      ],
      "metadata": {
        "colab": {
          "base_uri": "https://localhost:8080/"
        },
        "id": "pRT9J8DxJquk",
        "outputId": "897d4cd1-5426-4fd3-c7da-96c10ca44d48"
      },
      "execution_count": 9,
      "outputs": [
        {
          "output_type": "stream",
          "name": "stdout",
          "text": [
            "Model: \"sequential\"\n",
            "_________________________________________________________________\n",
            " Layer (type)                Output Shape              Param #   \n",
            "=================================================================\n",
            " resnet50 (Functional)       (None, 2048)              23587712  \n",
            "                                                                 \n",
            " flatten (Flatten)           (None, 2048)              0         \n",
            "                                                                 \n",
            " dense (Dense)               (None, 512)               1049088   \n",
            "                                                                 \n",
            " dense_1 (Dense)             (None, 1)                 513       \n",
            "                                                                 \n",
            "=================================================================\n",
            "Total params: 24,637,313\n",
            "Trainable params: 1,049,601\n",
            "Non-trainable params: 23,587,712\n",
            "_________________________________________________________________\n"
          ]
        }
      ]
    },
    {
      "cell_type": "code",
      "source": [
        "resnet_model.compile(tf.keras.optimizers.Adam(lr=0.001),loss='binary_crossentropy',metrics=['accuracy'])\n",
        "\n",
        "history = resnet_model.fit(train, validation_data=validation, epochs=50)"
      ],
      "metadata": {
        "colab": {
          "base_uri": "https://localhost:8080/"
        },
        "id": "xecXlrlCLiwp",
        "outputId": "4ec029b2-a55a-400f-cf95-c2e6862c41a1"
      },
      "execution_count": 10,
      "outputs": [
        {
          "output_type": "stream",
          "name": "stdout",
          "text": [
            "Epoch 1/50\n"
          ]
        },
        {
          "output_type": "stream",
          "name": "stderr",
          "text": [
            "/usr/local/lib/python3.7/dist-packages/keras/optimizer_v2/adam.py:105: UserWarning: The `lr` argument is deprecated, use `learning_rate` instead.\n",
            "  super(Adam, self).__init__(name, **kwargs)\n"
          ]
        },
        {
          "output_type": "stream",
          "name": "stdout",
          "text": [
            "80/80 [==============================] - 128s 1s/step - loss: 0.7058 - accuracy: 0.7350 - val_loss: 0.6004 - val_accuracy: 0.7700\n",
            "Epoch 2/50\n",
            "80/80 [==============================] - 7s 79ms/step - loss: 0.1912 - accuracy: 0.9250 - val_loss: 0.6573 - val_accuracy: 0.7900\n",
            "Epoch 3/50\n",
            "80/80 [==============================] - 7s 79ms/step - loss: 0.0941 - accuracy: 0.9750 - val_loss: 0.5704 - val_accuracy: 0.8100\n",
            "Epoch 4/50\n",
            "80/80 [==============================] - 7s 79ms/step - loss: 0.0526 - accuracy: 0.9850 - val_loss: 0.5140 - val_accuracy: 0.7800\n",
            "Epoch 5/50\n",
            "80/80 [==============================] - 7s 79ms/step - loss: 0.0357 - accuracy: 0.9975 - val_loss: 0.5746 - val_accuracy: 0.8100\n",
            "Epoch 6/50\n",
            "80/80 [==============================] - 7s 80ms/step - loss: 0.0136 - accuracy: 1.0000 - val_loss: 0.6372 - val_accuracy: 0.8400\n",
            "Epoch 7/50\n",
            "80/80 [==============================] - 7s 79ms/step - loss: 0.0058 - accuracy: 1.0000 - val_loss: 0.5769 - val_accuracy: 0.8300\n",
            "Epoch 8/50\n",
            "80/80 [==============================] - 7s 79ms/step - loss: 0.0039 - accuracy: 1.0000 - val_loss: 0.5963 - val_accuracy: 0.8300\n",
            "Epoch 9/50\n",
            "80/80 [==============================] - 7s 79ms/step - loss: 0.0030 - accuracy: 1.0000 - val_loss: 0.6043 - val_accuracy: 0.8300\n",
            "Epoch 10/50\n",
            "80/80 [==============================] - 7s 79ms/step - loss: 0.0024 - accuracy: 1.0000 - val_loss: 0.6110 - val_accuracy: 0.8400\n",
            "Epoch 11/50\n",
            "80/80 [==============================] - 7s 79ms/step - loss: 0.0019 - accuracy: 1.0000 - val_loss: 0.6165 - val_accuracy: 0.8400\n",
            "Epoch 12/50\n",
            "80/80 [==============================] - 7s 81ms/step - loss: 0.0016 - accuracy: 1.0000 - val_loss: 0.6134 - val_accuracy: 0.8400\n",
            "Epoch 13/50\n",
            "80/80 [==============================] - 7s 79ms/step - loss: 0.0013 - accuracy: 1.0000 - val_loss: 0.6250 - val_accuracy: 0.8400\n",
            "Epoch 14/50\n",
            "80/80 [==============================] - 7s 78ms/step - loss: 0.0012 - accuracy: 1.0000 - val_loss: 0.6214 - val_accuracy: 0.8400\n",
            "Epoch 15/50\n",
            "80/80 [==============================] - 7s 79ms/step - loss: 9.8956e-04 - accuracy: 1.0000 - val_loss: 0.6308 - val_accuracy: 0.8400\n",
            "Epoch 16/50\n",
            "80/80 [==============================] - 7s 80ms/step - loss: 8.5618e-04 - accuracy: 1.0000 - val_loss: 0.6410 - val_accuracy: 0.8400\n",
            "Epoch 17/50\n",
            "80/80 [==============================] - 7s 80ms/step - loss: 7.5820e-04 - accuracy: 1.0000 - val_loss: 0.6450 - val_accuracy: 0.8400\n",
            "Epoch 18/50\n",
            "80/80 [==============================] - 8s 100ms/step - loss: 6.4496e-04 - accuracy: 1.0000 - val_loss: 0.6603 - val_accuracy: 0.8400\n",
            "Epoch 19/50\n",
            "80/80 [==============================] - 7s 80ms/step - loss: 5.7024e-04 - accuracy: 1.0000 - val_loss: 0.6670 - val_accuracy: 0.8400\n",
            "Epoch 20/50\n",
            "80/80 [==============================] - 7s 79ms/step - loss: 5.2023e-04 - accuracy: 1.0000 - val_loss: 0.6727 - val_accuracy: 0.8400\n",
            "Epoch 21/50\n",
            "80/80 [==============================] - 7s 78ms/step - loss: 4.5337e-04 - accuracy: 1.0000 - val_loss: 0.6782 - val_accuracy: 0.8400\n",
            "Epoch 22/50\n",
            "80/80 [==============================] - 7s 79ms/step - loss: 4.0461e-04 - accuracy: 1.0000 - val_loss: 0.6797 - val_accuracy: 0.8400\n",
            "Epoch 23/50\n",
            "80/80 [==============================] - 7s 80ms/step - loss: 3.5874e-04 - accuracy: 1.0000 - val_loss: 0.6874 - val_accuracy: 0.8400\n",
            "Epoch 24/50\n",
            "80/80 [==============================] - 7s 79ms/step - loss: 3.2728e-04 - accuracy: 1.0000 - val_loss: 0.6925 - val_accuracy: 0.8400\n",
            "Epoch 25/50\n",
            "80/80 [==============================] - 7s 80ms/step - loss: 2.9272e-04 - accuracy: 1.0000 - val_loss: 0.7018 - val_accuracy: 0.8400\n",
            "Epoch 26/50\n",
            "80/80 [==============================] - 7s 81ms/step - loss: 2.6714e-04 - accuracy: 1.0000 - val_loss: 0.7092 - val_accuracy: 0.8400\n",
            "Epoch 27/50\n",
            "80/80 [==============================] - 7s 80ms/step - loss: 2.4171e-04 - accuracy: 1.0000 - val_loss: 0.7169 - val_accuracy: 0.8500\n",
            "Epoch 28/50\n",
            "80/80 [==============================] - 7s 80ms/step - loss: 2.2247e-04 - accuracy: 1.0000 - val_loss: 0.7114 - val_accuracy: 0.8400\n",
            "Epoch 29/50\n",
            "80/80 [==============================] - 7s 80ms/step - loss: 2.0161e-04 - accuracy: 1.0000 - val_loss: 0.7242 - val_accuracy: 0.8400\n",
            "Epoch 30/50\n",
            "80/80 [==============================] - 7s 80ms/step - loss: 1.8787e-04 - accuracy: 1.0000 - val_loss: 0.7287 - val_accuracy: 0.8400\n",
            "Epoch 31/50\n",
            "80/80 [==============================] - 7s 79ms/step - loss: 1.7102e-04 - accuracy: 1.0000 - val_loss: 0.7335 - val_accuracy: 0.8400\n",
            "Epoch 32/50\n",
            "80/80 [==============================] - 7s 79ms/step - loss: 1.5514e-04 - accuracy: 1.0000 - val_loss: 0.7444 - val_accuracy: 0.8400\n",
            "Epoch 33/50\n",
            "80/80 [==============================] - 7s 81ms/step - loss: 1.4236e-04 - accuracy: 1.0000 - val_loss: 0.7491 - val_accuracy: 0.8500\n",
            "Epoch 34/50\n",
            "80/80 [==============================] - 7s 80ms/step - loss: 1.3132e-04 - accuracy: 1.0000 - val_loss: 0.7546 - val_accuracy: 0.8500\n",
            "Epoch 35/50\n",
            "80/80 [==============================] - 7s 80ms/step - loss: 1.2134e-04 - accuracy: 1.0000 - val_loss: 0.7589 - val_accuracy: 0.8400\n",
            "Epoch 36/50\n",
            "80/80 [==============================] - 7s 82ms/step - loss: 1.1198e-04 - accuracy: 1.0000 - val_loss: 0.7650 - val_accuracy: 0.8500\n",
            "Epoch 37/50\n",
            "80/80 [==============================] - 7s 81ms/step - loss: 1.0427e-04 - accuracy: 1.0000 - val_loss: 0.7712 - val_accuracy: 0.8500\n",
            "Epoch 38/50\n",
            "80/80 [==============================] - 7s 81ms/step - loss: 9.5425e-05 - accuracy: 1.0000 - val_loss: 0.7766 - val_accuracy: 0.8400\n",
            "Epoch 39/50\n",
            "80/80 [==============================] - 7s 80ms/step - loss: 8.9388e-05 - accuracy: 1.0000 - val_loss: 0.7797 - val_accuracy: 0.8400\n",
            "Epoch 40/50\n",
            "80/80 [==============================] - 7s 79ms/step - loss: 8.3674e-05 - accuracy: 1.0000 - val_loss: 0.7910 - val_accuracy: 0.8500\n",
            "Epoch 41/50\n",
            "80/80 [==============================] - 7s 78ms/step - loss: 7.7568e-05 - accuracy: 1.0000 - val_loss: 0.7965 - val_accuracy: 0.8500\n",
            "Epoch 42/50\n",
            "80/80 [==============================] - 7s 78ms/step - loss: 7.1683e-05 - accuracy: 1.0000 - val_loss: 0.7974 - val_accuracy: 0.8500\n",
            "Epoch 43/50\n",
            "80/80 [==============================] - 7s 80ms/step - loss: 6.6597e-05 - accuracy: 1.0000 - val_loss: 0.8062 - val_accuracy: 0.8500\n",
            "Epoch 44/50\n",
            "80/80 [==============================] - 7s 80ms/step - loss: 6.2311e-05 - accuracy: 1.0000 - val_loss: 0.8065 - val_accuracy: 0.8500\n",
            "Epoch 45/50\n",
            "80/80 [==============================] - 7s 79ms/step - loss: 5.8065e-05 - accuracy: 1.0000 - val_loss: 0.8158 - val_accuracy: 0.8500\n",
            "Epoch 46/50\n",
            "80/80 [==============================] - 7s 80ms/step - loss: 5.4167e-05 - accuracy: 1.0000 - val_loss: 0.8158 - val_accuracy: 0.8500\n",
            "Epoch 47/50\n",
            "80/80 [==============================] - 7s 80ms/step - loss: 5.0630e-05 - accuracy: 1.0000 - val_loss: 0.8226 - val_accuracy: 0.8500\n",
            "Epoch 48/50\n",
            "80/80 [==============================] - 7s 79ms/step - loss: 4.7370e-05 - accuracy: 1.0000 - val_loss: 0.8225 - val_accuracy: 0.8500\n",
            "Epoch 49/50\n",
            "80/80 [==============================] - 7s 79ms/step - loss: 4.4625e-05 - accuracy: 1.0000 - val_loss: 0.8329 - val_accuracy: 0.8500\n",
            "Epoch 50/50\n",
            "80/80 [==============================] - 7s 81ms/step - loss: 4.1575e-05 - accuracy: 1.0000 - val_loss: 0.8355 - val_accuracy: 0.8500\n"
          ]
        }
      ]
    },
    {
      "cell_type": "code",
      "source": [
        "acc = history.history['accuracy']\n",
        "val_acc = history.history['val_accuracy']\n",
        "\n",
        "loss = history.history['loss']\n",
        "val_loss = history.history['val_loss']\n",
        "\n",
        "plt.plot(acc, label='Training Accuracy')\n",
        "plt.plot(val_acc, label='Validation Accuracy')\n",
        "plt.legend(loc='lower right')\n",
        "plt.ylabel('Accuracy')\n",
        "plt.title('Training and Validation Accuracy (ResNet50)')"
      ],
      "metadata": {
        "colab": {
          "base_uri": "https://localhost:8080/",
          "height": 298
        },
        "id": "pYsNYLB2PFX3",
        "outputId": "ddd3fd90-2487-4328-9795-e650b4bb1d26"
      },
      "execution_count": 11,
      "outputs": [
        {
          "output_type": "execute_result",
          "data": {
            "text/plain": [
              "Text(0.5, 1.0, 'Training and Validation Accuracy (ResNet50)')"
            ]
          },
          "metadata": {},
          "execution_count": 11
        },
        {
          "output_type": "display_data",
          "data": {
            "text/plain": [
              "<Figure size 432x288 with 1 Axes>"
            ],
            "image/png": "[encoded data removed]"
          },
          "metadata": {
            "needs_background": "light"
          }
        }
      ]
    },
    {
      "cell_type": "code",
      "source": [
        "loss, accuracy = resnet_model.evaluate(validation)\n",
        "print('Test accuracy :', accuracy)"
      ],
      "metadata": {
        "colab": {
          "base_uri": "https://localhost:8080/"
        },
        "id": "C1xt3WMLPft6",
        "outputId": "27253c23-ce6d-4e4e-e3b4-624851f0b230"
      },
      "execution_count": 13,
      "outputs": [
        {
          "output_type": "stream",
          "name": "stdout",
          "text": [
            "20/20 [==============================] - 1s 43ms/step - loss: 0.8355 - accuracy: 0.8500\n",
            "Test accuracy : 0.8500000238418579\n"
          ]
        }
      ]
    }
  ]
}