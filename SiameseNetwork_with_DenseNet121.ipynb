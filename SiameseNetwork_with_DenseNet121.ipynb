{
  "nbformat": 4,
  "nbformat_minor": 0,
  "metadata": {
    "colab": {
      "provenance": []
    },
    "kernelspec": {
      "name": "python3",
      "display_name": "Python 3"
    },
    "language_info": {
      "name": "python"
    }
  },
  "cells": [
    {
      "cell_type": "code",
      "execution_count": 2,
      "metadata": {
        "id": "3MwoPOr0bUc4"
      },
      "outputs": [],
      "source": [
        "import torch.nn as nn\n",
        "import numpy as np\n",
        "import argparse\n",
        "import torch\n",
        "import random\n",
        "import time\n",
        "import pickle\n",
        "import torch\n",
        "%matplotlib inline\n",
        "import matplotlib.pyplot as plt\n",
        "from torch.autograd import Variable\n",
        "from torchvision import transforms"
      ]
    },
    {
      "cell_type": "code",
      "source": [
        "class Dataset(object):\n",
        "    \n",
        "    def __init__(self, x0, x1, label):\n",
        "        self.size = label.shape[0] \n",
        "        self.x0 = torch.from_numpy(x0)\n",
        "        self.x1 = torch.from_numpy(x1)\n",
        "        self.label = torch.from_numpy(label)\n",
        "\n",
        "    def __getitem__(self, index):\n",
        "        return (self.x0[index],\n",
        "                self.x1[index],\n",
        "                self.label[index])\n",
        "\n",
        "    def __len__(self):\n",
        "        return self.size"
      ],
      "metadata": {
        "id": "lYKBINKPb0lV"
      },
      "execution_count": 3,
      "outputs": []
    },
    {
      "cell_type": "code",
      "source": [
        "def create_pairs(data, digit_indices):\n",
        "    x0_data = []\n",
        "    x1_data = []\n",
        "    label = []\n",
        "    n = min([len(digit_indices[d]) for d in range(2)]) - 1\n",
        "    for d in range(2): \n",
        "        for i in range(n):\n",
        "            z1, z2 = digit_indices[d][i], digit_indices[d][i + 1]\n",
        "            x0_data.append(data[z1]/255.) \n",
        "            x1_data.append(data[z2]/255.) \n",
        "            label.append(1)\n",
        "            inc = random.randrange(1, 4)\n",
        "            dn = (d + inc) % 2\n",
        "            z1, z2 = digit_indices[d][i], digit_indices[dn][i]\n",
        "            x0_data.append(data[z1]/255.) \n",
        "            x1_data.append(data[z2]/255.) \n",
        "            label.append(0)\n",
        "\n",
        "    x0_data = np.array(x0_data, dtype=np.float32) \n",
        "\n",
        "    x0_data = x0_data.reshape([-1, 3, 224, 224])\n",
        "    x1_data = np.array(x1_data, dtype=np.float32) \n",
        "    x1_data = x1_data.reshape([-1, 3, 224, 224])\n",
        "    label = np.array(label, dtype=np.int32)\n",
        "\n",
        "    return x0_data, x1_data, label\n",
        "\n",
        "def create_iterator(data, label, batchsize, shuffle=False):\n",
        "\n",
        "    digit_indices = [np.where(label == i)[0] for i in range(max(label)+1)]\n",
        "    x0, x1, label = create_pairs(data, digit_indices)\n",
        "    ret = Dataset(x0, x1, label)\n",
        "    return ret"
      ],
      "metadata": {
        "id": "m5sorurQb5cp"
      },
      "execution_count": 12,
      "outputs": []
    },
    {
      "cell_type": "code",
      "source": [
        "def contrastive_loss_function(x0, x1, y, margin=1.0):\n",
        "    diff = x0 - x1\n",
        "    dist_sq = torch.sum(torch.pow(diff, 2), 1)\n",
        "    dist = torch.sqrt(dist_sq)\n",
        "    mdist = margin - dist\n",
        "    dist = torch.clamp(mdist, min=0.0)\n",
        "    loss = y * dist_sq + (1 - y) * torch.pow(dist, 2)\n",
        "    loss = torch.sum(loss) / 2.0 / x0.size()[0]\n",
        "    return loss\n",
        "\n",
        "def triplet_loss(positive, negative, anchor, size_average=True, margin=1.0):\n",
        "    distance_positive = (anchor - positive).pow(2).sum(1)  \n",
        "    distance_negative = (anchor - negative).pow(2).sum(1)  \n",
        "    losses = F.relu(distance_positive - distance_negative + margin)\n",
        "    return losses.mean() if size_average else losses.sum()"
      ],
      "metadata": {
        "id": "WglgAFNxcL9M"
      },
      "execution_count": 5,
      "outputs": []
    },
    {
      "cell_type": "code",
      "source": [
        "batchsize=8\n",
        "import copy\n",
        "\n",
        "class SiameseNetwork_DenseNet121(nn.Module):\n",
        "    \n",
        "    def __init__(self):\n",
        "        super(SiameseNetwork_DenseNet121, self).__init__()\n",
        "        self.cnn0 = torch.hub.load('pytorch/vision:v0.5.0', 'densenet121', pretrained=True)\n",
        "        \n",
        "\n",
        "    def forward_once(self, x):\n",
        "        output = self.cnn0(x)\n",
        "        return output\n",
        "\n",
        "    def forward(self, input0, input1):\n",
        "        output0 = self.forward_once(input0)\n",
        "        output1 = self.forward_once(input1)\n",
        "        return output0, output1"
      ],
      "metadata": {
        "id": "MYZPt2T7cR0-"
      },
      "execution_count": 6,
      "outputs": []
    },
    {
      "cell_type": "code",
      "source": [
        "import os\n",
        "import shutil\n",
        "from keras.preprocessing import image\n",
        "from sklearn.model_selection import train_test_split\n",
        "from keras.applications.vgg16 import VGG16\n",
        "from keras.applications import xception\n",
        "from keras.applications import inception_v3\n",
        "from keras.applications.vgg16 import preprocess_input\n",
        "from sklearn.linear_model import LogisticRegression\n",
        "from sklearn.metrics import log_loss, accuracy_score\n",
        "\n",
        "def extract_features(path):\n",
        "    directory_lists=os.listdir(path)\n",
        "    X=[]\n",
        "    Y=[]\n",
        "    count=0\n",
        "    for d in directory_lists:\n",
        "        nest=os.listdir(path+\"/\"+d)\n",
        "        for f in nest:\n",
        "            img = image.load_img(path+\"/\"+d+\"/\"+f, target_size=(224, 224))\n",
        "            img_data = image.img_to_array(img)\n",
        "            img_data = preprocess_input(img_data)\n",
        "            img_data = np.expand_dims(img_data, axis=0)\n",
        "            X.append(img_data)\n",
        "            Y.append(count)\n",
        "        count+=1\n",
        "    X=np.array(X)\n",
        "    y=np.array(Y)\n",
        "    X_train, X_test, y_train, y_test = train_test_split(X, y, test_size=0.30, random_state=42)         \n",
        "    return X_train, X_test, y_train, y_test \n",
        "\n",
        "X_train, X_test, y_train, y_test = extract_features(\"/content/drive/MyDrive/shot/train/\")\n",
        "print (X_train.shape, y_train.shape)"
      ],
      "metadata": {
        "colab": {
          "base_uri": "https://localhost:8080/"
        },
        "id": "7qS2Iov7caVB",
        "outputId": "3a0be6ba-8eb5-4cbd-b679-24b83f9c2abe"
      },
      "execution_count": 7,
      "outputs": [
        {
          "output_type": "stream",
          "name": "stdout",
          "text": [
            "(72, 1, 224, 224, 3) (72,)\n"
          ]
        }
      ]
    },
    {
      "cell_type": "code",
      "source": [
        "train_iter = create_iterator(X_train,y_train,batchsize)\n",
        "test_iter = create_iterator(X_test,y_test,batchsize)\n",
        "\n",
        "model = SiameseNetwork_DenseNet121()\n",
        "\n",
        "learning_rate = 0.0001 \n",
        "momentum = 0.9 \n",
        "\n",
        "\n",
        "criterion =  contrastive_loss_function\n",
        "\n",
        "optimizer = torch.optim.SGD(model.parameters(), lr=learning_rate, momentum=momentum)\n",
        "scheduler = torch.optim.lr_scheduler.ReduceLROnPlateau(optimizer, patience=50, verbose=True)\n",
        "\n",
        "train_loader = torch.utils.data.DataLoader(train_iter,batch_size=batchsize, shuffle=True)\n",
        "test_loader = torch.utils.data.DataLoader(test_iter,batch_size=2, shuffle=True)"
      ],
      "metadata": {
        "colab": {
          "base_uri": "https://localhost:8080/"
        },
        "id": "trAPBx5_dFJ1",
        "outputId": "2c952e6c-de73-4ba9-f820-1dc771819725"
      },
      "execution_count": 13,
      "outputs": [
        {
          "output_type": "stream",
          "name": "stderr",
          "text": [
            "Using cache found in /root/.cache/torch/hub/pytorch_vision_v0.5.0\n"
          ]
        }
      ]
    },
    {
      "cell_type": "code",
      "source": [
        "train_loss = []\n",
        "epochs = 10\n",
        "for epoch in range(epochs):\n",
        "    total_loss = 0.0\n",
        "    for batch_idx, (x0, x1, labels) in enumerate(train_loader):\n",
        "        labels = labels.float()\n",
        "        x0, x1, labels = Variable(x0), Variable(x1), Variable(labels)\n",
        "        output1, output2 = model.forward(x0, x1)\n",
        "        loss = criterion(output1, output2, labels)\n",
        "        train_loss.append(loss.item())\n",
        "        total_loss += loss.item()\n",
        "        optimizer.zero_grad()\n",
        "        loss.backward()\n",
        "        optimizer.step()\n",
        "    scheduler.step(epoch)\n",
        "    print('Epoch: {} \\tLoss: {:.6f}'.format(epoch, total_loss*1.0/batchsize))\n",
        "    if epoch%50==0:\n",
        "        torch.save(model, './SiameseModified-epoch-%s.pth' % epoch)"
      ],
      "metadata": {
        "colab": {
          "base_uri": "https://localhost:8080/"
        },
        "id": "QZpPN8H_eUs0",
        "outputId": "c8f3f7fe-ec45-41cd-fa62-9cc5dacce08a"
      },
      "execution_count": 14,
      "outputs": [
        {
          "output_type": "stream",
          "name": "stdout",
          "text": [
            "Epoch: 0 \tLoss: 994.035728\n",
            "Epoch: 1 \tLoss: 70.900738\n",
            "Epoch: 2 \tLoss: 12.880236\n",
            "Epoch: 3 \tLoss: 6.971478\n",
            "Epoch: 4 \tLoss: 4.376288\n",
            "Epoch: 5 \tLoss: 4.836755\n",
            "Epoch: 6 \tLoss: 3.872237\n",
            "Epoch: 7 \tLoss: 5.010372\n",
            "Epoch: 8 \tLoss: 3.636839\n",
            "Epoch: 9 \tLoss: 3.761857\n"
          ]
        }
      ]
    },
    {
      "cell_type": "code",
      "source": [
        "def plot_loss(train_loss,name=\"train_loss.png\"):\n",
        "    plt.plot(train_loss, label=\"train loss\")\n",
        "    plt.legend()\n",
        "plot_loss(train_loss)\n",
        "def plot_mnist(numpy_all, numpy_labels,name=\"./embeddings_plot.png\"):\n",
        "        c = ['#ff0000', '#ffff00']\n",
        "        for i in range(0,2):\n",
        "            f = numpy_all[np.where(numpy_labels == i)]\n",
        "            plt.plot(f[:, 0], f[:, 1], '.', c=c[i])\n",
        "        plt.legend(['0', '1'])\n",
        "        plt.savefig(name)"
      ],
      "metadata": {
        "colab": {
          "base_uri": "https://localhost:8080/",
          "height": 320
        },
        "id": "qoKKmGFZj-Lp",
        "outputId": "2f851cf9-50d9-4b74-a890-2909dfd10a93"
      },
      "execution_count": 20,
      "outputs": [
        {
          "output_type": "display_data",
          "data": {
            "text/plain": [
              "<Figure size 360x360 with 1 Axes>"
            ],
            "image/png": "[encoded data removed]"
          },
          "metadata": {
            "needs_background": "light"
          }
        }
      ]
    },
    {
      "cell_type": "code",
      "source": [
        "from sklearn.cluster import KMeans\n",
        "from sklearn.metrics import silhouette_score\n",
        "X_test = X_test/255.\n",
        "y_test = np.array(y_test, dtype=np.int32)\n",
        "\n",
        "def test_model(model):\n",
        "        model.eval()\n",
        "        all_ = []\n",
        "        all_labels = []\n",
        "        with torch.no_grad():\n",
        "            for i in range(0, 13):\n",
        "                x = Variable(torch.tensor(X_test[i].reshape([-1, 3, 224, 224])))\n",
        "                y_t = np.array(y_test[i], dtype=np.int32)\n",
        "                y = Variable(torch.tensor(y_t))\n",
        "                output = model.forward_once(x)\n",
        "                all_.extend(output.data.cpu().numpy().tolist())\n",
        "                all_labels.append(y.data.cpu().numpy().tolist())\n",
        "\n",
        "        numpy_all = np.array(all_)\n",
        "        numpy_labels = np.array(all_labels)\n",
        "        return numpy_all, numpy_labels\n",
        "\n",
        "def testing_plots(model):\n",
        "        dict_pickle={}\n",
        "        numpy_all, numpy_labels = test_model(model)\n",
        "        dict_pickle[\"numpy_all\"]=numpy_all\n",
        "        dict_pickle[\"numpy_labels\"]=numpy_labels\n",
        "        clusterer = KMeans(n_clusters=2)\n",
        "        preds = clusterer.fit_predict(numpy_all)\n",
        "        centers = clusterer.cluster_centers_\n",
        "        score = silhouette_score(numpy_all, preds)\n",
        "        print (score)\n",
        "        plot_mnist(numpy_all, numpy_labels)\n",
        "\n",
        "from sklearn.metrics import silhouette_samples, silhouette_score\n",
        "from pylab import rcParams\n",
        "rcParams['figure.figsize'] = 5, 5\n",
        "testing_plots(model)"
      ],
      "metadata": {
        "colab": {
          "base_uri": "https://localhost:8080/",
          "height": 337
        },
        "id": "6wXVSlgHkG_b",
        "outputId": "0e196d6a-dec7-463b-8b5c-3034d81dc000"
      },
      "execution_count": 17,
      "outputs": [
        {
          "output_type": "stream",
          "name": "stdout",
          "text": [
            "0.6931161104655631\n"
          ]
        },
        {
          "output_type": "display_data",
          "data": {
            "text/plain": [
              "<Figure size 360x360 with 1 Axes>"
            ],
            "image/png": "[encoded data removed]"
          },
          "metadata": {
            "needs_background": "light"
          }
        }
      ]
    }
  ]
}