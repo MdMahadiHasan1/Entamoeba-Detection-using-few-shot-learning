{
  "nbformat": 4,
  "nbformat_minor": 0,
  "metadata": {
    "colab": {
      "provenance": []
    },
    "kernelspec": {
      "name": "python3",
      "display_name": "Python 3"
    },
    "language_info": {
      "name": "python"
    }
  },
  "cells": [
    {
      "cell_type": "code",
      "execution_count": 14,
      "metadata": {
        "id": "ipA8LiCcJyBZ"
      },
      "outputs": [],
      "source": [
        "import matplotlib.pyplot as plt\n",
        "import numpy as np\n",
        "import PIL\n",
        "import os\n",
        "import tensorflow as tf\n",
        "from tensorflow import keras\n",
        "from tensorflow.keras import layers\n",
        "from tensorflow.keras.models import Sequential\n",
        "from sklearn import preprocessing\n",
        "from keras.preprocessing import image\n",
        "from sklearn.model_selection import train_test_split"
      ]
    },
    {
      "cell_type": "code",
      "source": [
        "base_dir = '/content/drive/MyDrive/shot/'\n",
        "\n",
        "train_dir = os.path.join(base_dir, 'train')\n",
        "validation_dir = os.path.join(base_dir, 'test')"
      ],
      "metadata": {
        "id": "Mt0-_YPqNjGn"
      },
      "execution_count": 15,
      "outputs": []
    },
    {
      "cell_type": "code",
      "source": [
        "BATCH_SIZE = 5\n",
        "IMG_SIZE = (180, 180)\n",
        "\n",
        "train = tf.keras.utils.image_dataset_from_directory(train_dir,\n",
        "                                                            shuffle=True,\n",
        "                                                            batch_size=BATCH_SIZE,\n",
        "                                                            image_size=IMG_SIZE)"
      ],
      "metadata": {
        "colab": {
          "base_uri": "https://localhost:8080/"
        },
        "id": "ZwJuMrIVNlzc",
        "outputId": "d2be53aa-799f-47d7-efd1-306c9c3ac042"
      },
      "execution_count": 16,
      "outputs": [
        {
          "output_type": "stream",
          "name": "stdout",
          "text": [
            "Found 100 files belonging to 2 classes.\n"
          ]
        }
      ]
    },
    {
      "cell_type": "code",
      "source": [
        "validation = tf.keras.utils.image_dataset_from_directory(validation_dir,\n",
        "                                                                 shuffle=True,\n",
        "                                                                 batch_size=BATCH_SIZE,\n",
        "                                                                 image_size=IMG_SIZE)"
      ],
      "metadata": {
        "colab": {
          "base_uri": "https://localhost:8080/"
        },
        "id": "8FjOVi82PTQg",
        "outputId": "b82a8ccf-abb2-472e-9c19-d7f01e610495"
      },
      "execution_count": 17,
      "outputs": [
        {
          "output_type": "stream",
          "name": "stdout",
          "text": [
            "Found 30 files belonging to 2 classes.\n"
          ]
        }
      ]
    },
    {
      "cell_type": "code",
      "source": [
        "MobileNetV2_model = Sequential()\n",
        "\n",
        "pretrained_model= tf.keras.applications.mobilenet_v2.MobileNetV2(include_top=False,\n",
        "                   input_shape=(180,180,3),\n",
        "                   pooling='avg',classes=2,\n",
        "                   weights='imagenet')\n",
        "for layer in pretrained_model.layers:\n",
        "        layer.trainable=False\n",
        "\n",
        "MobileNetV2_model.add(pretrained_model)"
      ],
      "metadata": {
        "colab": {
          "base_uri": "https://localhost:8080/"
        },
        "id": "S3ZSdysXPXvb",
        "outputId": "77996925-c32f-4a84-cdc0-9a47196ba813"
      },
      "execution_count": 18,
      "outputs": [
        {
          "output_type": "stream",
          "name": "stderr",
          "text": [
            "WARNING:tensorflow:`input_shape` is undefined or non-square, or `rows` is not in [96, 128, 160, 192, 224]. Weights for input shape (224, 224) will be loaded as the default.\n"
          ]
        }
      ]
    },
    {
      "cell_type": "code",
      "source": [
        "MobileNetV2_model.add(tf.keras.layers.Flatten())\n",
        "MobileNetV2_model.add(tf.keras.layers.Dense(512, activation='relu'))\n",
        "MobileNetV2_model.add(tf.keras.layers.Dense(1, activation='sigmoid'))"
      ],
      "metadata": {
        "id": "9R77vxVtPa_t"
      },
      "execution_count": 20,
      "outputs": []
    },
    {
      "cell_type": "code",
      "source": [
        "MobileNetV2_model.compile(tf.keras.optimizers.Adam(lr=0.001),loss='binary_crossentropy',metrics=['accuracy'])\n",
        "\n",
        "history = MobileNetV2_model.fit(train, validation_data=validation, epochs=50)"
      ],
      "metadata": {
        "colab": {
          "base_uri": "https://localhost:8080/"
        },
        "id": "Z9cA4MVwPeSm",
        "outputId": "0fca8423-2171-4e66-a228-37a16308f627"
      },
      "execution_count": 21,
      "outputs": [
        {
          "output_type": "stream",
          "name": "stdout",
          "text": [
            "Epoch 1/50\n"
          ]
        },
        {
          "output_type": "stream",
          "name": "stderr",
          "text": [
            "/usr/local/lib/python3.8/dist-packages/keras/optimizers/optimizer_v2/adam.py:110: UserWarning: The `lr` argument is deprecated, use `learning_rate` instead.\n",
            "  super(Adam, self).__init__(name, **kwargs)\n"
          ]
        },
        {
          "output_type": "stream",
          "name": "stdout",
          "text": [
            "20/20 [==============================] - 23s 694ms/step - loss: 1.1168 - accuracy: 0.5400 - val_loss: 0.7851 - val_accuracy: 0.5333\n",
            "Epoch 2/50\n",
            "20/20 [==============================] - 4s 175ms/step - loss: 0.5514 - accuracy: 0.7100 - val_loss: 0.6670 - val_accuracy: 0.5667\n",
            "Epoch 3/50\n",
            "20/20 [==============================] - 4s 172ms/step - loss: 0.4620 - accuracy: 0.7900 - val_loss: 0.6390 - val_accuracy: 0.6667\n",
            "Epoch 4/50\n",
            "20/20 [==============================] - 4s 179ms/step - loss: 0.3486 - accuracy: 0.8300 - val_loss: 0.7985 - val_accuracy: 0.5333\n",
            "Epoch 5/50\n",
            "20/20 [==============================] - 4s 186ms/step - loss: 0.3427 - accuracy: 0.8500 - val_loss: 0.6650 - val_accuracy: 0.7333\n",
            "Epoch 6/50\n",
            "20/20 [==============================] - 4s 196ms/step - loss: 0.2532 - accuracy: 0.8800 - val_loss: 1.0279 - val_accuracy: 0.6000\n",
            "Epoch 7/50\n",
            "20/20 [==============================] - 4s 190ms/step - loss: 0.2494 - accuracy: 0.9000 - val_loss: 0.5840 - val_accuracy: 0.6667\n",
            "Epoch 8/50\n",
            "20/20 [==============================] - 4s 184ms/step - loss: 0.1871 - accuracy: 0.9200 - val_loss: 0.6997 - val_accuracy: 0.7333\n",
            "Epoch 9/50\n",
            "20/20 [==============================] - 4s 175ms/step - loss: 0.1591 - accuracy: 0.9600 - val_loss: 0.6417 - val_accuracy: 0.6667\n",
            "Epoch 10/50\n",
            "20/20 [==============================] - 4s 174ms/step - loss: 0.1813 - accuracy: 0.9300 - val_loss: 0.7138 - val_accuracy: 0.6000\n",
            "Epoch 11/50\n",
            "20/20 [==============================] - 4s 173ms/step - loss: 0.1420 - accuracy: 0.9300 - val_loss: 0.8409 - val_accuracy: 0.6000\n",
            "Epoch 12/50\n",
            "20/20 [==============================] - 4s 173ms/step - loss: 0.2140 - accuracy: 0.9000 - val_loss: 0.6458 - val_accuracy: 0.7000\n",
            "Epoch 13/50\n",
            "20/20 [==============================] - 5s 262ms/step - loss: 0.1904 - accuracy: 0.9300 - val_loss: 0.7534 - val_accuracy: 0.7333\n",
            "Epoch 14/50\n",
            "20/20 [==============================] - 4s 172ms/step - loss: 0.0880 - accuracy: 0.9800 - val_loss: 0.6011 - val_accuracy: 0.7667\n",
            "Epoch 15/50\n",
            "20/20 [==============================] - 4s 175ms/step - loss: 0.0682 - accuracy: 0.9900 - val_loss: 0.6428 - val_accuracy: 0.6667\n",
            "Epoch 16/50\n",
            "20/20 [==============================] - 4s 172ms/step - loss: 0.0543 - accuracy: 1.0000 - val_loss: 0.7691 - val_accuracy: 0.7333\n",
            "Epoch 17/50\n",
            "20/20 [==============================] - 3s 170ms/step - loss: 0.0458 - accuracy: 1.0000 - val_loss: 0.7372 - val_accuracy: 0.7333\n",
            "Epoch 18/50\n",
            "20/20 [==============================] - 4s 176ms/step - loss: 0.0349 - accuracy: 1.0000 - val_loss: 0.7151 - val_accuracy: 0.7333\n",
            "Epoch 19/50\n",
            "20/20 [==============================] - 4s 177ms/step - loss: 0.0290 - accuracy: 1.0000 - val_loss: 0.7464 - val_accuracy: 0.7333\n",
            "Epoch 20/50\n",
            "20/20 [==============================] - 4s 175ms/step - loss: 0.0246 - accuracy: 1.0000 - val_loss: 0.6854 - val_accuracy: 0.7000\n",
            "Epoch 21/50\n",
            "20/20 [==============================] - 4s 176ms/step - loss: 0.0260 - accuracy: 1.0000 - val_loss: 0.7104 - val_accuracy: 0.7000\n",
            "Epoch 22/50\n",
            "20/20 [==============================] - 4s 173ms/step - loss: 0.0268 - accuracy: 1.0000 - val_loss: 0.7361 - val_accuracy: 0.7333\n",
            "Epoch 23/50\n",
            "20/20 [==============================] - 4s 176ms/step - loss: 0.0246 - accuracy: 1.0000 - val_loss: 0.8175 - val_accuracy: 0.7333\n",
            "Epoch 24/50\n",
            "20/20 [==============================] - 3s 171ms/step - loss: 0.0149 - accuracy: 1.0000 - val_loss: 0.8029 - val_accuracy: 0.7000\n",
            "Epoch 25/50\n",
            "20/20 [==============================] - 4s 175ms/step - loss: 0.0137 - accuracy: 1.0000 - val_loss: 0.7481 - val_accuracy: 0.7000\n",
            "Epoch 26/50\n",
            "20/20 [==============================] - 4s 176ms/step - loss: 0.0151 - accuracy: 1.0000 - val_loss: 0.8254 - val_accuracy: 0.7667\n",
            "Epoch 27/50\n",
            "20/20 [==============================] - 4s 176ms/step - loss: 0.0165 - accuracy: 1.0000 - val_loss: 0.9347 - val_accuracy: 0.7333\n",
            "Epoch 28/50\n",
            "20/20 [==============================] - 4s 174ms/step - loss: 0.0117 - accuracy: 1.0000 - val_loss: 0.8290 - val_accuracy: 0.7333\n",
            "Epoch 29/50\n",
            "20/20 [==============================] - 4s 177ms/step - loss: 0.0089 - accuracy: 1.0000 - val_loss: 0.8227 - val_accuracy: 0.7333\n",
            "Epoch 30/50\n",
            "20/20 [==============================] - 4s 174ms/step - loss: 0.0077 - accuracy: 1.0000 - val_loss: 0.8455 - val_accuracy: 0.7333\n",
            "Epoch 31/50\n",
            "20/20 [==============================] - 4s 176ms/step - loss: 0.0078 - accuracy: 1.0000 - val_loss: 0.8520 - val_accuracy: 0.7333\n",
            "Epoch 32/50\n",
            "20/20 [==============================] - 4s 176ms/step - loss: 0.0072 - accuracy: 1.0000 - val_loss: 0.8662 - val_accuracy: 0.7333\n",
            "Epoch 33/50\n",
            "20/20 [==============================] - 4s 176ms/step - loss: 0.0065 - accuracy: 1.0000 - val_loss: 0.8280 - val_accuracy: 0.7333\n",
            "Epoch 34/50\n",
            "20/20 [==============================] - 4s 175ms/step - loss: 0.0067 - accuracy: 1.0000 - val_loss: 0.8358 - val_accuracy: 0.7333\n",
            "Epoch 35/50\n",
            "20/20 [==============================] - 4s 175ms/step - loss: 0.0065 - accuracy: 1.0000 - val_loss: 0.8833 - val_accuracy: 0.7333\n",
            "Epoch 36/50\n",
            "20/20 [==============================] - 4s 170ms/step - loss: 0.0065 - accuracy: 1.0000 - val_loss: 0.9445 - val_accuracy: 0.7333\n",
            "Epoch 37/50\n",
            "20/20 [==============================] - 4s 173ms/step - loss: 0.0047 - accuracy: 1.0000 - val_loss: 0.8964 - val_accuracy: 0.7333\n",
            "Epoch 38/50\n",
            "20/20 [==============================] - 4s 175ms/step - loss: 0.0045 - accuracy: 1.0000 - val_loss: 0.8879 - val_accuracy: 0.7333\n",
            "Epoch 39/50\n",
            "20/20 [==============================] - 4s 172ms/step - loss: 0.0044 - accuracy: 1.0000 - val_loss: 0.9551 - val_accuracy: 0.7333\n",
            "Epoch 40/50\n",
            "20/20 [==============================] - 4s 174ms/step - loss: 0.0039 - accuracy: 1.0000 - val_loss: 0.9032 - val_accuracy: 0.7333\n",
            "Epoch 41/50\n",
            "20/20 [==============================] - 4s 175ms/step - loss: 0.0038 - accuracy: 1.0000 - val_loss: 0.9121 - val_accuracy: 0.7333\n",
            "Epoch 42/50\n",
            "20/20 [==============================] - 4s 172ms/step - loss: 0.0037 - accuracy: 1.0000 - val_loss: 0.9194 - val_accuracy: 0.7333\n",
            "Epoch 43/50\n",
            "20/20 [==============================] - 4s 173ms/step - loss: 0.0035 - accuracy: 1.0000 - val_loss: 0.9688 - val_accuracy: 0.7333\n",
            "Epoch 44/50\n",
            "20/20 [==============================] - 4s 174ms/step - loss: 0.0033 - accuracy: 1.0000 - val_loss: 0.9122 - val_accuracy: 0.7333\n",
            "Epoch 45/50\n",
            "20/20 [==============================] - 4s 172ms/step - loss: 0.0033 - accuracy: 1.0000 - val_loss: 0.9367 - val_accuracy: 0.7333\n",
            "Epoch 46/50\n",
            "20/20 [==============================] - 4s 172ms/step - loss: 0.0031 - accuracy: 1.0000 - val_loss: 0.9636 - val_accuracy: 0.7333\n",
            "Epoch 47/50\n",
            "20/20 [==============================] - 4s 174ms/step - loss: 0.0029 - accuracy: 1.0000 - val_loss: 0.9613 - val_accuracy: 0.7333\n",
            "Epoch 48/50\n",
            "20/20 [==============================] - 4s 172ms/step - loss: 0.0027 - accuracy: 1.0000 - val_loss: 0.9579 - val_accuracy: 0.7333\n",
            "Epoch 49/50\n",
            "20/20 [==============================] - 4s 172ms/step - loss: 0.0026 - accuracy: 1.0000 - val_loss: 0.9578 - val_accuracy: 0.7333\n",
            "Epoch 50/50\n",
            "20/20 [==============================] - 3s 170ms/step - loss: 0.0027 - accuracy: 1.0000 - val_loss: 0.9558 - val_accuracy: 0.7333\n"
          ]
        }
      ]
    },
    {
      "cell_type": "code",
      "source": [
        "acc = history.history['accuracy']\n",
        "val_acc = history.history['val_accuracy']\n",
        "\n",
        "plt.plot(acc, label='Training Accuracy')\n",
        "plt.plot(val_acc, label='Validation Accuracy')\n",
        "plt.legend(loc='center')\n",
        "plt.ylabel('Accuracy')\n",
        "plt.title('Training and Validation Accuracy (MobileNetV2)')"
      ],
      "metadata": {
        "colab": {
          "base_uri": "https://localhost:8080/",
          "height": 298
        },
        "id": "6bDfqH9lP0z8",
        "outputId": "2277aa1a-8af6-4a8d-ebc5-980acaebb171"
      },
      "execution_count": 22,
      "outputs": [
        {
          "output_type": "execute_result",
          "data": {
            "text/plain": [
              "Text(0.5, 1.0, 'Training and Validation Accuracy (MobileNetV2)')"
            ]
          },
          "metadata": {},
          "execution_count": 22
        },
        {
          "output_type": "display_data",
          "data": {
            "text/plain": [
              "<Figure size 432x288 with 1 Axes>"
            ],
            "image/png": "[encoded data removed]"
          },
          "metadata": {
            "needs_background": "light"
          }
        }
      ]
    },
    {
      "cell_type": "code",
      "source": [
        "loss, accuracy = MobileNetV2_model.evaluate(validation)\n",
        "print('Test accuracy :', accuracy)"
      ],
      "metadata": {
        "colab": {
          "base_uri": "https://localhost:8080/"
        },
        "id": "LOFJYMXxZ92h",
        "outputId": "0f9d3227-3c8c-4a62-d82f-249728ea326f"
      },
      "execution_count": 23,
      "outputs": [
        {
          "output_type": "stream",
          "name": "stdout",
          "text": [
            "6/6 [==============================] - 1s 119ms/step - loss: 0.9558 - accuracy: 0.7333\n",
            "Test accuracy : 0.7333333492279053\n"
          ]
        }
      ]
    },
    {
      "cell_type": "code",
      "source": [
        "loss = history.history['loss']\n",
        "val_loss = history.history['val_loss']\n",
        "\n",
        "\n",
        "plt.plot(loss, label='Training Loss')\n",
        "plt.plot(val_loss, label='Validation Loss')\n",
        "plt.legend(loc='upper right')\n",
        "plt.ylabel('Cross Entropy')\n",
        "plt.title('Training and Validation Loss (MobileNetV2)')\n",
        "plt.xlabel('epoch')\n",
        "plt.show()"
      ],
      "metadata": {
        "colab": {
          "base_uri": "https://localhost:8080/",
          "height": 295
        },
        "id": "bxjBXkMVT_fE",
        "outputId": "69c16d1c-f981-44d2-f036-1ee487458fbe"
      },
      "execution_count": 24,
      "outputs": [
        {
          "output_type": "display_data",
          "data": {
            "text/plain": [
              "<Figure size 432x288 with 1 Axes>"
            ],
            "image/png": "[encoded data removed]"
          },
          "metadata": {
            "needs_background": "light"
          }
        }
      ]
    }
  ]
}