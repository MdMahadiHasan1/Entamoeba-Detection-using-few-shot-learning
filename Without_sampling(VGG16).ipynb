{
  "nbformat": 4,
  "nbformat_minor": 0,
  "metadata": {
    "colab": {
      "provenance": []
    },
    "kernelspec": {
      "name": "python3",
      "display_name": "Python 3"
    },
    "language_info": {
      "name": "python"
    }
  },
  "cells": [
    {
      "cell_type": "code",
      "execution_count": 2,
      "metadata": {
        "id": "ipA8LiCcJyBZ"
      },
      "outputs": [],
      "source": [
        "import matplotlib.pyplot as plt\n",
        "import numpy as np\n",
        "import PIL\n",
        "import os\n",
        "import tensorflow as tf\n",
        "from tensorflow import keras\n",
        "from tensorflow.keras import layers\n",
        "from tensorflow.keras.models import Sequential\n",
        "from sklearn import preprocessing\n",
        "from keras.preprocessing import image\n",
        "from sklearn.model_selection import train_test_split"
      ]
    },
    {
      "cell_type": "code",
      "source": [
        "base_dir = '/content/drive/MyDrive/shot/'\n",
        "\n",
        "train_dir = os.path.join(base_dir, 'train')\n",
        "validation_dir = os.path.join(base_dir, 'test')"
      ],
      "metadata": {
        "id": "Mt0-_YPqNjGn"
      },
      "execution_count": 3,
      "outputs": []
    },
    {
      "cell_type": "code",
      "source": [
        "BATCH_SIZE = 5\n",
        "IMG_SIZE = (180, 180)\n",
        "\n",
        "train = tf.keras.utils.image_dataset_from_directory(train_dir,\n",
        "                                                            shuffle=True,\n",
        "                                                            batch_size=BATCH_SIZE,\n",
        "                                                            image_size=IMG_SIZE)"
      ],
      "metadata": {
        "colab": {
          "base_uri": "https://localhost:8080/"
        },
        "id": "ZwJuMrIVNlzc",
        "outputId": "03175d15-23a4-49c3-9d37-23f7ade32d09"
      },
      "execution_count": 4,
      "outputs": [
        {
          "output_type": "stream",
          "name": "stdout",
          "text": [
            "Found 100 files belonging to 2 classes.\n"
          ]
        }
      ]
    },
    {
      "cell_type": "code",
      "source": [
        "validation = tf.keras.utils.image_dataset_from_directory(validation_dir,\n",
        "                                                                 shuffle=True,\n",
        "                                                                 batch_size=BATCH_SIZE,\n",
        "                                                                 image_size=IMG_SIZE)"
      ],
      "metadata": {
        "colab": {
          "base_uri": "https://localhost:8080/"
        },
        "id": "8FjOVi82PTQg",
        "outputId": "71db40f5-39b4-4dcb-82c4-847626f4fdf3"
      },
      "execution_count": 5,
      "outputs": [
        {
          "output_type": "stream",
          "name": "stdout",
          "text": [
            "Found 30 files belonging to 2 classes.\n"
          ]
        }
      ]
    },
    {
      "cell_type": "code",
      "source": [
        "VGG16_model = Sequential()\n",
        "\n",
        "pretrained_model= tf.keras.applications.vgg16.VGG16(include_top=False,\n",
        "                   input_shape=(180,180,3),\n",
        "                   pooling='avg',classes=2,\n",
        "                   weights='imagenet')\n",
        "for layer in pretrained_model.layers:\n",
        "        layer.trainable=False\n",
        "\n",
        "VGG16_model.add(pretrained_model)"
      ],
      "metadata": {
        "colab": {
          "base_uri": "https://localhost:8080/"
        },
        "id": "S3ZSdysXPXvb",
        "outputId": "5088974b-ac28-40e9-aa7e-64612bee61cf"
      },
      "execution_count": 6,
      "outputs": [
        {
          "output_type": "stream",
          "name": "stdout",
          "text": [
            "Downloading data from https://storage.googleapis.com/tensorflow/keras-applications/vgg16/vgg16_weights_tf_dim_ordering_tf_kernels_notop.h5\n",
            "58889256/58889256 [==============================] - 0s 0us/step\n"
          ]
        }
      ]
    },
    {
      "cell_type": "code",
      "source": [
        "VGG16_model.add(tf.keras.layers.Flatten())\n",
        "VGG16_model.add(tf.keras.layers.Dense(512, activation='relu'))\n",
        "VGG16_model.add(tf.keras.layers.Dense(1, activation='sigmoid'))"
      ],
      "metadata": {
        "id": "9R77vxVtPa_t"
      },
      "execution_count": 7,
      "outputs": []
    },
    {
      "cell_type": "code",
      "source": [
        "VGG16_model.compile(tf.keras.optimizers.Adam(lr=0.001),loss='binary_crossentropy',metrics=['accuracy'])\n",
        "\n",
        "history = VGG16_model.fit(train, validation_data=validation, epochs=50)"
      ],
      "metadata": {
        "colab": {
          "base_uri": "https://localhost:8080/"
        },
        "id": "Z9cA4MVwPeSm",
        "outputId": "e3236d89-1c4e-42af-e512-4b086e2b8495"
      },
      "execution_count": 8,
      "outputs": [
        {
          "output_type": "stream",
          "name": "stdout",
          "text": [
            "Epoch 1/50\n"
          ]
        },
        {
          "output_type": "stream",
          "name": "stderr",
          "text": [
            "/usr/local/lib/python3.8/dist-packages/keras/optimizers/optimizer_v2/adam.py:110: UserWarning: The `lr` argument is deprecated, use `learning_rate` instead.\n",
            "  super(Adam, self).__init__(name, **kwargs)\n"
          ]
        },
        {
          "output_type": "stream",
          "name": "stdout",
          "text": [
            "20/20 [==============================] - 56s 2s/step - loss: 2.5293 - accuracy: 0.5400 - val_loss: 1.9619 - val_accuracy: 0.6667\n",
            "Epoch 2/50\n",
            "20/20 [==============================] - 39s 2s/step - loss: 0.5781 - accuracy: 0.8200 - val_loss: 1.7500 - val_accuracy: 0.5333\n",
            "Epoch 3/50\n",
            "20/20 [==============================] - 39s 2s/step - loss: 0.2527 - accuracy: 0.8900 - val_loss: 1.4641 - val_accuracy: 0.5000\n",
            "Epoch 4/50\n",
            "20/20 [==============================] - 39s 2s/step - loss: 0.1057 - accuracy: 0.9800 - val_loss: 1.6688 - val_accuracy: 0.6333\n",
            "Epoch 5/50\n",
            "20/20 [==============================] - 39s 2s/step - loss: 0.0377 - accuracy: 0.9900 - val_loss: 1.9341 - val_accuracy: 0.6000\n",
            "Epoch 6/50\n",
            "20/20 [==============================] - 38s 2s/step - loss: 0.0193 - accuracy: 1.0000 - val_loss: 1.6032 - val_accuracy: 0.6000\n",
            "Epoch 7/50\n",
            "20/20 [==============================] - ETA: 0s - loss: 0.0082 - accuracy: 1.0000Epoch 8/50\n",
            "20/20 [==============================] - 43s 2s/step - loss: 0.0054 - accuracy: 1.0000 - val_loss: 1.7109 - val_accuracy: 0.6667\n",
            "Epoch 9/50\n",
            "20/20 [==============================] - 39s 2s/step - loss: 0.0046 - accuracy: 1.0000 - val_loss: 1.7337 - val_accuracy: 0.6667\n",
            "Epoch 10/50\n",
            "20/20 [==============================] - 39s 2s/step - loss: 0.0041 - accuracy: 1.0000 - val_loss: 1.7618 - val_accuracy: 0.6667\n",
            "Epoch 11/50\n",
            "20/20 [==============================] - 39s 2s/step - loss: 0.0037 - accuracy: 1.0000 - val_loss: 1.7652 - val_accuracy: 0.6667\n",
            "Epoch 12/50\n",
            "20/20 [==============================] - 41s 2s/step - loss: 0.0033 - accuracy: 1.0000 - val_loss: 1.7699 - val_accuracy: 0.6667\n",
            "Epoch 13/50\n",
            "20/20 [==============================] - 39s 2s/step - loss: 0.0030 - accuracy: 1.0000 - val_loss: 1.7684 - val_accuracy: 0.6667\n",
            "Epoch 14/50\n",
            "20/20 [==============================] - 39s 2s/step - loss: 0.0028 - accuracy: 1.0000 - val_loss: 1.7763 - val_accuracy: 0.6667\n",
            "Epoch 15/50\n",
            "20/20 [==============================] - 43s 2s/step - loss: 0.0026 - accuracy: 1.0000 - val_loss: 1.8031 - val_accuracy: 0.7000\n",
            "Epoch 16/50\n",
            "20/20 [==============================] - 39s 2s/step - loss: 0.0023 - accuracy: 1.0000 - val_loss: 1.8060 - val_accuracy: 0.6667\n",
            "Epoch 17/50\n",
            "20/20 [==============================] - 41s 2s/step - loss: 0.0022 - accuracy: 1.0000 - val_loss: 1.8141 - val_accuracy: 0.7000\n",
            "Epoch 18/50\n",
            "20/20 [==============================] - 39s 2s/step - loss: 0.0020 - accuracy: 1.0000 - val_loss: 1.7921 - val_accuracy: 0.6667\n",
            "Epoch 19/50\n",
            "20/20 [==============================] - 39s 2s/step - loss: 0.0019 - accuracy: 1.0000 - val_loss: 1.8132 - val_accuracy: 0.6667\n",
            "Epoch 20/50\n",
            "20/20 [==============================] - 39s 2s/step - loss: 0.0018 - accuracy: 1.0000 - val_loss: 1.8299 - val_accuracy: 0.7000\n",
            "Epoch 21/50\n",
            "20/20 [==============================] - 39s 2s/step - loss: 0.0017 - accuracy: 1.0000 - val_loss: 1.8225 - val_accuracy: 0.6667\n",
            "Epoch 22/50\n",
            "20/20 [==============================] - 43s 2s/step - loss: 0.0016 - accuracy: 1.0000 - val_loss: 1.8332 - val_accuracy: 0.7000\n",
            "Epoch 23/50\n",
            "20/20 [==============================] - 41s 2s/step - loss: 0.0015 - accuracy: 1.0000 - val_loss: 1.8193 - val_accuracy: 0.6667\n",
            "Epoch 24/50\n",
            "20/20 [==============================] - 39s 2s/step - loss: 0.0014 - accuracy: 1.0000 - val_loss: 1.8234 - val_accuracy: 0.6333\n",
            "Epoch 25/50\n",
            "20/20 [==============================] - 39s 2s/step - loss: 0.0014 - accuracy: 1.0000 - val_loss: 1.8541 - val_accuracy: 0.7000\n",
            "Epoch 26/50\n",
            "20/20 [==============================] - 39s 2s/step - loss: 0.0013 - accuracy: 1.0000 - val_loss: 1.8430 - val_accuracy: 0.7000\n",
            "Epoch 27/50\n",
            "20/20 [==============================] - 39s 2s/step - loss: 0.0012 - accuracy: 1.0000 - val_loss: 1.8378 - val_accuracy: 0.7000\n",
            "Epoch 28/50\n",
            "20/20 [==============================] - 39s 2s/step - loss: 0.0011 - accuracy: 1.0000 - val_loss: 1.8350 - val_accuracy: 0.6333\n",
            "Epoch 29/50\n",
            "20/20 [==============================] - 39s 2s/step - loss: 0.0011 - accuracy: 1.0000 - val_loss: 1.8516 - val_accuracy: 0.7000\n",
            "Epoch 30/50\n",
            "20/20 [==============================] - 40s 2s/step - loss: 0.0010 - accuracy: 1.0000 - val_loss: 1.8371 - val_accuracy: 0.6333\n",
            "Epoch 31/50\n",
            "20/20 [==============================] - 43s 2s/step - loss: 9.8294e-04 - accuracy: 1.0000 - val_loss: 1.8397 - val_accuracy: 0.6333\n",
            "Epoch 32/50\n",
            "20/20 [==============================] - ETA: 0s - loss: 9.2847e-04 - accuracy: 1.0000Epoch 33/50\n",
            "20/20 [==============================] - 38s 2s/step - loss: 8.9057e-04 - accuracy: 1.0000 - val_loss: 1.8452 - val_accuracy: 0.7000\n",
            "Epoch 34/50\n",
            "20/20 [==============================] - 38s 2s/step - loss: 8.4381e-04 - accuracy: 1.0000 - val_loss: 1.8316 - val_accuracy: 0.7000\n",
            "Epoch 35/50\n",
            "20/20 [==============================] - 40s 2s/step - loss: 8.1711e-04 - accuracy: 1.0000 - val_loss: 1.8407 - val_accuracy: 0.6333\n",
            "Epoch 36/50\n",
            "20/20 [==============================] - 38s 2s/step - loss: 7.7633e-04 - accuracy: 1.0000 - val_loss: 1.8327 - val_accuracy: 0.6333\n",
            "Epoch 37/50\n",
            "20/20 [==============================] - 38s 2s/step - loss: 7.4465e-04 - accuracy: 1.0000 - val_loss: 1.8489 - val_accuracy: 0.6667\n",
            "Epoch 38/50\n",
            "20/20 [==============================] - 38s 2s/step - loss: 7.1250e-04 - accuracy: 1.0000 - val_loss: 1.8481 - val_accuracy: 0.6667\n",
            "Epoch 39/50\n",
            "20/20 [==============================] - 43s 2s/step - loss: 6.8255e-04 - accuracy: 1.0000 - val_loss: 1.8379 - val_accuracy: 0.6333\n",
            "Epoch 40/50\n",
            "20/20 [==============================] - 39s 2s/step - loss: 6.6212e-04 - accuracy: 1.0000 - val_loss: 1.8459 - val_accuracy: 0.6000\n",
            "Epoch 41/50\n",
            "20/20 [==============================] - 38s 2s/step - loss: 6.3602e-04 - accuracy: 1.0000 - val_loss: 1.8389 - val_accuracy: 0.6667\n",
            "Epoch 42/50\n",
            "20/20 [==============================] - 38s 2s/step - loss: 6.0317e-04 - accuracy: 1.0000 - val_loss: 1.8375 - val_accuracy: 0.6667\n",
            "Epoch 43/50\n",
            "20/20 [==============================] - 38s 2s/step - loss: 5.7927e-04 - accuracy: 1.0000 - val_loss: 1.8350 - val_accuracy: 0.6000\n",
            "Epoch 44/50\n",
            "20/20 [==============================] - 38s 2s/step - loss: 5.6095e-04 - accuracy: 1.0000 - val_loss: 1.8459 - val_accuracy: 0.6667\n",
            "Epoch 45/50\n",
            "20/20 [==============================] - 38s 2s/step - loss: 5.3623e-04 - accuracy: 1.0000 - val_loss: 1.8495 - val_accuracy: 0.6000\n",
            "Epoch 46/50\n",
            "20/20 [==============================] - 43s 2s/step - loss: 5.1468e-04 - accuracy: 1.0000 - val_loss: 1.8424 - val_accuracy: 0.6000\n",
            "Epoch 47/50\n",
            "20/20 [==============================] - 39s 2s/step - loss: 4.9942e-04 - accuracy: 1.0000 - val_loss: 1.8544 - val_accuracy: 0.6000\n",
            "Epoch 48/50\n",
            "20/20 [==============================] - ETA: 0s - loss: 4.7648e-04 - accuracy: 1.0000Epoch 49/50\n",
            "20/20 [==============================] - 38s 2s/step - loss: 4.6023e-04 - accuracy: 1.0000 - val_loss: 1.8542 - val_accuracy: 0.6333\n",
            "Epoch 50/50\n",
            "20/20 [==============================] - 40s 2s/step - loss: 4.4653e-04 - accuracy: 1.0000 - val_loss: 1.8506 - val_accuracy: 0.6333\n"
          ]
        }
      ]
    },
    {
      "cell_type": "code",
      "source": [
        "acc = history.history['accuracy']\n",
        "val_acc = history.history['val_accuracy']\n",
        "\n",
        "plt.plot(acc, label='Training Accuracy')\n",
        "plt.plot(val_acc, label='Validation Accuracy')\n",
        "plt.legend(loc='center')\n",
        "plt.ylabel('Accuracy')\n",
        "plt.title('Training and Validation Accuracy (VGG16)')"
      ],
      "metadata": {
        "id": "6bDfqH9lP0z8",
        "colab": {
          "base_uri": "https://localhost:8080/",
          "height": 298
        },
        "outputId": "9fb03134-0d0a-4f6e-9a48-36ec12aa2af3"
      },
      "execution_count": 9,
      "outputs": [
        {
          "output_type": "execute_result",
          "data": {
            "text/plain": [
              "Text(0.5, 1.0, 'Training and Validation Accuracy (VGG16)')"
            ]
          },
          "metadata": {},
          "execution_count": 9
        },
        {
          "output_type": "display_data",
          "data": {
            "text/plain": [
              "<Figure size 432x288 with 1 Axes>"
            ],
            "image/png": "[encoded data removed]"
          },
          "metadata": {
            "needs_background": "light"
          }
        }
      ]
    },
    {
      "cell_type": "code",
      "source": [
        "loss, accuracy = VGG16_model.evaluate(validation)\n",
        "print('Test accuracy :', accuracy)"
      ],
      "metadata": {
        "id": "LOFJYMXxZ92h",
        "colab": {
          "base_uri": "https://localhost:8080/"
        },
        "outputId": "2dc7c755-6ec5-4d83-8891-162b6acc49b4"
      },
      "execution_count": 10,
      "outputs": [
        {
          "output_type": "stream",
          "name": "stdout",
          "text": [
            "6/6 [==============================] - 9s 1s/step - loss: 1.8506 - accuracy: 0.6333\n",
            "Test accuracy : 0.6333333253860474\n"
          ]
        }
      ]
    },
    {
      "cell_type": "code",
      "source": [
        "loss = history.history['loss']\n",
        "val_loss = history.history['val_loss']\n",
        "\n",
        "\n",
        "plt.plot(loss, label='Training Loss')\n",
        "plt.plot(val_loss, label='Validation Loss')\n",
        "plt.legend(loc='upper right')\n",
        "plt.ylabel('Cross Entropy')\n",
        "plt.title('Training and Validation Loss (VGG16)')\n",
        "plt.xlabel('epoch')\n",
        "plt.show()"
      ],
      "metadata": {
        "id": "bxjBXkMVT_fE",
        "colab": {
          "base_uri": "https://localhost:8080/",
          "height": 295
        },
        "outputId": "b39bfc05-c69c-4e8c-9e67-fe002b1c4b87"
      },
      "execution_count": 11,
      "outputs": [
        {
          "output_type": "display_data",
          "data": {
            "text/plain": [
              "<Figure size 432x288 with 1 Axes>"
            ],
            "image/png": "[encoded data removed]"
          },
          "metadata": {
            "needs_background": "light"
          }
        }
      ]
    }
  ]
}