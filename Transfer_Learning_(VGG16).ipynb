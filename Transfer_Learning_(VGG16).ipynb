{
  "nbformat": 4,
  "nbformat_minor": 0,
  "metadata": {
    "colab": {
      "provenance": []
    },
    "kernelspec": {
      "name": "python3",
      "display_name": "Python 3"
    },
    "language_info": {
      "name": "python"
    },
    "accelerator": "GPU",
    "gpuClass": "standard"
  },
  "cells": [
    {
      "cell_type": "code",
      "source": [
        "import matplotlib.pyplot as plt\n",
        "import numpy as np\n",
        "import PIL\n",
        "import os\n",
        "import tensorflow as tf\n",
        "from tensorflow import keras\n",
        "from tensorflow.keras import layers\n",
        "from tensorflow.keras.models import Sequential\n",
        "from sklearn import preprocessing\n",
        "from keras.preprocessing import image\n",
        "from sklearn.model_selection import train_test_split"
      ],
      "metadata": {
        "id": "i5OLBuhMJYct"
      },
      "execution_count": 2,
      "outputs": []
    },
    {
      "cell_type": "code",
      "source": [
        "base_dir = '/content/drive/MyDrive/Thesis_Paper/CNN/'\n",
        "\n",
        "train_dir = os.path.join(base_dir, 'train')\n",
        "validation_dir = os.path.join(base_dir, 'test')"
      ],
      "metadata": {
        "id": "QstleOLMZoLI"
      },
      "execution_count": 3,
      "outputs": []
    },
    {
      "cell_type": "code",
      "source": [
        "BATCH_SIZE = 5\n",
        "IMG_SIZE = ((224, 224))\n",
        "\n",
        "train = tf.keras.utils.image_dataset_from_directory(train_dir,\n",
        "                                                            shuffle=True,\n",
        "                                                            batch_size=BATCH_SIZE,\n",
        "                                                            image_size=IMG_SIZE)"
      ],
      "metadata": {
        "colab": {
          "base_uri": "https://localhost:8080/"
        },
        "id": "xmPXTNPzdRa1",
        "outputId": "1204c494-c38e-4e45-bf41-15be08fd8b7a"
      },
      "execution_count": 4,
      "outputs": [
        {
          "output_type": "stream",
          "name": "stdout",
          "text": [
            "Found 400 files belonging to 2 classes.\n"
          ]
        }
      ]
    },
    {
      "cell_type": "code",
      "source": [
        "validation = tf.keras.utils.image_dataset_from_directory(validation_dir,\n",
        "                                                                 shuffle=True,\n",
        "                                                                 batch_size=BATCH_SIZE,\n",
        "                                                                 image_size=IMG_SIZE)"
      ],
      "metadata": {
        "colab": {
          "base_uri": "https://localhost:8080/"
        },
        "id": "lJqX5-9eda6y",
        "outputId": "d41b37af-5142-435f-81da-f1535959b756"
      },
      "execution_count": 5,
      "outputs": [
        {
          "output_type": "stream",
          "name": "stdout",
          "text": [
            "Found 100 files belonging to 2 classes.\n"
          ]
        }
      ]
    },
    {
      "cell_type": "code",
      "source": [
        "VGG16_model = Sequential()\n",
        "\n",
        "pretrained_model= tf.keras.applications.vgg16.VGG16(include_top=False,\n",
        "                   input_shape=((224, 224, 3)),\n",
        "                   pooling='avg',classes=2,\n",
        "                   weights='imagenet',\n",
        "                   classifier_activation='sigmoid')\n",
        "for layer in pretrained_model.layers:\n",
        "        layer.trainable=False\n",
        "\n",
        "VGG16_model.add(pretrained_model)"
      ],
      "metadata": {
        "colab": {
          "base_uri": "https://localhost:8080/"
        },
        "id": "_iBTp1ZiJFzm",
        "outputId": "dff9ed77-6b1a-4780-f76f-7fa3ee3d65bb"
      },
      "execution_count": 6,
      "outputs": [
        {
          "output_type": "stream",
          "name": "stdout",
          "text": [
            "Downloading data from https://storage.googleapis.com/tensorflow/keras-applications/vgg16/vgg16_weights_tf_dim_ordering_tf_kernels_notop.h5\n",
            "58892288/58889256 [==============================] - 2s 0us/step\n",
            "58900480/58889256 [==============================] - 2s 0us/step\n"
          ]
        }
      ]
    },
    {
      "cell_type": "code",
      "source": [
        "VGG16_model.add(tf.keras.layers.Flatten())\n",
        "VGG16_model.add(tf.keras.layers.Dense(512, activation='relu'))\n",
        "VGG16_model.add(tf.keras.layers.Dense(1, activation='sigmoid'))"
      ],
      "metadata": {
        "id": "G3K8u2U8JoQQ"
      },
      "execution_count": 7,
      "outputs": []
    },
    {
      "cell_type": "code",
      "source": [
        "VGG16_model.summary()"
      ],
      "metadata": {
        "colab": {
          "base_uri": "https://localhost:8080/"
        },
        "id": "pRT9J8DxJquk",
        "outputId": "26fb5c28-00e6-4c32-adef-b557926644ba"
      },
      "execution_count": 8,
      "outputs": [
        {
          "output_type": "stream",
          "name": "stdout",
          "text": [
            "Model: \"sequential\"\n",
            "_________________________________________________________________\n",
            " Layer (type)                Output Shape              Param #   \n",
            "=================================================================\n",
            " vgg16 (Functional)          (None, 512)               14714688  \n",
            "                                                                 \n",
            " flatten (Flatten)           (None, 512)               0         \n",
            "                                                                 \n",
            " dense (Dense)               (None, 512)               262656    \n",
            "                                                                 \n",
            " dense_1 (Dense)             (None, 1)                 513       \n",
            "                                                                 \n",
            "=================================================================\n",
            "Total params: 14,977,857\n",
            "Trainable params: 263,169\n",
            "Non-trainable params: 14,714,688\n",
            "_________________________________________________________________\n"
          ]
        }
      ]
    },
    {
      "cell_type": "code",
      "source": [
        "VGG16_model.compile(tf.keras.optimizers.Adam(lr=0.001),loss='binary_crossentropy',metrics=['accuracy'])\n",
        "\n",
        "history = VGG16_model.fit(train, validation_data=validation, epochs=50)"
      ],
      "metadata": {
        "colab": {
          "base_uri": "https://localhost:8080/"
        },
        "id": "xecXlrlCLiwp",
        "outputId": "0f162843-d865-4940-9b9f-1b9cdba7b7af"
      },
      "execution_count": 9,
      "outputs": [
        {
          "output_type": "stream",
          "name": "stdout",
          "text": [
            "Epoch 1/50\n"
          ]
        },
        {
          "output_type": "stream",
          "name": "stderr",
          "text": [
            "/usr/local/lib/python3.7/dist-packages/keras/optimizer_v2/adam.py:105: UserWarning: The `lr` argument is deprecated, use `learning_rate` instead.\n",
            "  super(Adam, self).__init__(name, **kwargs)\n"
          ]
        },
        {
          "output_type": "stream",
          "name": "stdout",
          "text": [
            "80/80 [==============================] - 125s 1s/step - loss: 0.8525 - accuracy: 0.7900 - val_loss: 0.8050 - val_accuracy: 0.8200\n",
            "Epoch 2/50\n",
            "80/80 [==============================] - 7s 81ms/step - loss: 0.0912 - accuracy: 0.9700 - val_loss: 0.5440 - val_accuracy: 0.8600\n",
            "Epoch 3/50\n",
            "80/80 [==============================] - 7s 80ms/step - loss: 0.1291 - accuracy: 0.9525 - val_loss: 0.7113 - val_accuracy: 0.8200\n",
            "Epoch 4/50\n",
            "80/80 [==============================] - 7s 81ms/step - loss: 0.0587 - accuracy: 0.9675 - val_loss: 0.6859 - val_accuracy: 0.8600\n",
            "Epoch 5/50\n",
            "80/80 [==============================] - 7s 80ms/step - loss: 0.0194 - accuracy: 0.9975 - val_loss: 0.8826 - val_accuracy: 0.8500\n",
            "Epoch 6/50\n",
            "80/80 [==============================] - 7s 80ms/step - loss: 0.0053 - accuracy: 1.0000 - val_loss: 1.0454 - val_accuracy: 0.8600\n",
            "Epoch 7/50\n",
            "80/80 [==============================] - 7s 80ms/step - loss: 0.0016 - accuracy: 1.0000 - val_loss: 0.8723 - val_accuracy: 0.8400\n",
            "Epoch 8/50\n",
            "80/80 [==============================] - 8s 100ms/step - loss: 9.1509e-04 - accuracy: 1.0000 - val_loss: 0.8502 - val_accuracy: 0.8400\n",
            "Epoch 9/50\n",
            "80/80 [==============================] - 7s 81ms/step - loss: 8.2733e-04 - accuracy: 1.0000 - val_loss: 0.8911 - val_accuracy: 0.8400\n",
            "Epoch 10/50\n",
            "80/80 [==============================] - 7s 80ms/step - loss: 7.2996e-04 - accuracy: 1.0000 - val_loss: 0.8785 - val_accuracy: 0.8400\n",
            "Epoch 11/50\n",
            "80/80 [==============================] - 7s 80ms/step - loss: 6.3626e-04 - accuracy: 1.0000 - val_loss: 0.8770 - val_accuracy: 0.8400\n",
            "Epoch 12/50\n",
            "80/80 [==============================] - 7s 80ms/step - loss: 5.8014e-04 - accuracy: 1.0000 - val_loss: 0.8873 - val_accuracy: 0.8400\n",
            "Epoch 13/50\n",
            "80/80 [==============================] - 7s 81ms/step - loss: 5.3361e-04 - accuracy: 1.0000 - val_loss: 0.8930 - val_accuracy: 0.8400\n",
            "Epoch 14/50\n",
            "80/80 [==============================] - 7s 80ms/step - loss: 4.8185e-04 - accuracy: 1.0000 - val_loss: 0.9027 - val_accuracy: 0.8400\n",
            "Epoch 15/50\n",
            "80/80 [==============================] - 7s 80ms/step - loss: 4.4808e-04 - accuracy: 1.0000 - val_loss: 0.9076 - val_accuracy: 0.8400\n",
            "Epoch 16/50\n",
            "80/80 [==============================] - 7s 80ms/step - loss: 4.1511e-04 - accuracy: 1.0000 - val_loss: 0.9071 - val_accuracy: 0.8400\n",
            "Epoch 17/50\n",
            "80/80 [==============================] - 7s 80ms/step - loss: 3.8468e-04 - accuracy: 1.0000 - val_loss: 0.9141 - val_accuracy: 0.8400\n",
            "Epoch 18/50\n",
            "80/80 [==============================] - 7s 81ms/step - loss: 3.5329e-04 - accuracy: 1.0000 - val_loss: 0.9216 - val_accuracy: 0.8400\n",
            "Epoch 19/50\n",
            "80/80 [==============================] - 7s 80ms/step - loss: 3.3129e-04 - accuracy: 1.0000 - val_loss: 0.9305 - val_accuracy: 0.8400\n",
            "Epoch 20/50\n",
            "80/80 [==============================] - 7s 80ms/step - loss: 3.0882e-04 - accuracy: 1.0000 - val_loss: 0.9295 - val_accuracy: 0.8400\n",
            "Epoch 21/50\n",
            "80/80 [==============================] - 7s 81ms/step - loss: 2.8666e-04 - accuracy: 1.0000 - val_loss: 0.9307 - val_accuracy: 0.8400\n",
            "Epoch 22/50\n",
            "80/80 [==============================] - 7s 80ms/step - loss: 2.6823e-04 - accuracy: 1.0000 - val_loss: 0.9377 - val_accuracy: 0.8400\n",
            "Epoch 23/50\n",
            "80/80 [==============================] - 7s 82ms/step - loss: 2.4985e-04 - accuracy: 1.0000 - val_loss: 0.9480 - val_accuracy: 0.8500\n",
            "Epoch 24/50\n",
            "80/80 [==============================] - 7s 81ms/step - loss: 2.3452e-04 - accuracy: 1.0000 - val_loss: 0.9413 - val_accuracy: 0.8400\n",
            "Epoch 25/50\n",
            "80/80 [==============================] - 7s 80ms/step - loss: 2.1958e-04 - accuracy: 1.0000 - val_loss: 0.9534 - val_accuracy: 0.8500\n",
            "Epoch 26/50\n",
            "80/80 [==============================] - 7s 82ms/step - loss: 2.0900e-04 - accuracy: 1.0000 - val_loss: 0.9529 - val_accuracy: 0.8500\n",
            "Epoch 27/50\n",
            "80/80 [==============================] - 7s 82ms/step - loss: 1.9507e-04 - accuracy: 1.0000 - val_loss: 0.9580 - val_accuracy: 0.8500\n",
            "Epoch 28/50\n",
            "80/80 [==============================] - 7s 81ms/step - loss: 1.8764e-04 - accuracy: 1.0000 - val_loss: 0.9664 - val_accuracy: 0.8500\n",
            "Epoch 29/50\n",
            "80/80 [==============================] - 7s 82ms/step - loss: 1.7680e-04 - accuracy: 1.0000 - val_loss: 0.9658 - val_accuracy: 0.8500\n",
            "Epoch 30/50\n",
            "80/80 [==============================] - 8s 91ms/step - loss: 1.6319e-04 - accuracy: 1.0000 - val_loss: 0.9672 - val_accuracy: 0.8500\n",
            "Epoch 31/50\n",
            "80/80 [==============================] - 7s 81ms/step - loss: 1.5405e-04 - accuracy: 1.0000 - val_loss: 0.9772 - val_accuracy: 0.8500\n",
            "Epoch 32/50\n",
            "80/80 [==============================] - 7s 81ms/step - loss: 1.4779e-04 - accuracy: 1.0000 - val_loss: 0.9866 - val_accuracy: 0.8500\n",
            "Epoch 33/50\n",
            "80/80 [==============================] - 7s 81ms/step - loss: 1.3923e-04 - accuracy: 1.0000 - val_loss: 0.9886 - val_accuracy: 0.8500\n",
            "Epoch 34/50\n",
            "80/80 [==============================] - 7s 81ms/step - loss: 1.3000e-04 - accuracy: 1.0000 - val_loss: 0.9829 - val_accuracy: 0.8500\n",
            "Epoch 35/50\n",
            "80/80 [==============================] - 7s 80ms/step - loss: 1.2389e-04 - accuracy: 1.0000 - val_loss: 0.9943 - val_accuracy: 0.8500\n",
            "Epoch 36/50\n",
            "80/80 [==============================] - 7s 80ms/step - loss: 1.1634e-04 - accuracy: 1.0000 - val_loss: 0.9966 - val_accuracy: 0.8500\n",
            "Epoch 37/50\n",
            "80/80 [==============================] - 7s 81ms/step - loss: 1.1087e-04 - accuracy: 1.0000 - val_loss: 1.0026 - val_accuracy: 0.8500\n",
            "Epoch 38/50\n",
            "80/80 [==============================] - 7s 81ms/step - loss: 1.0539e-04 - accuracy: 1.0000 - val_loss: 1.0078 - val_accuracy: 0.8500\n",
            "Epoch 39/50\n",
            "80/80 [==============================] - 7s 81ms/step - loss: 9.9780e-05 - accuracy: 1.0000 - val_loss: 1.0148 - val_accuracy: 0.8500\n",
            "Epoch 40/50\n",
            "80/80 [==============================] - 7s 81ms/step - loss: 9.4609e-05 - accuracy: 1.0000 - val_loss: 1.0164 - val_accuracy: 0.8500\n",
            "Epoch 41/50\n",
            "80/80 [==============================] - 7s 81ms/step - loss: 8.9985e-05 - accuracy: 1.0000 - val_loss: 1.0182 - val_accuracy: 0.8500\n",
            "Epoch 42/50\n",
            "80/80 [==============================] - 7s 81ms/step - loss: 8.6091e-05 - accuracy: 1.0000 - val_loss: 1.0289 - val_accuracy: 0.8500\n",
            "Epoch 43/50\n",
            "80/80 [==============================] - 7s 81ms/step - loss: 8.1195e-05 - accuracy: 1.0000 - val_loss: 1.0292 - val_accuracy: 0.8500\n",
            "Epoch 44/50\n",
            "80/80 [==============================] - 7s 79ms/step - loss: 7.6801e-05 - accuracy: 1.0000 - val_loss: 1.0312 - val_accuracy: 0.8500\n",
            "Epoch 45/50\n",
            "80/80 [==============================] - 7s 82ms/step - loss: 7.2890e-05 - accuracy: 1.0000 - val_loss: 1.0410 - val_accuracy: 0.8500\n",
            "Epoch 46/50\n",
            "80/80 [==============================] - 7s 80ms/step - loss: 6.8980e-05 - accuracy: 1.0000 - val_loss: 1.0431 - val_accuracy: 0.8500\n",
            "Epoch 47/50\n",
            "80/80 [==============================] - 7s 81ms/step - loss: 6.6267e-05 - accuracy: 1.0000 - val_loss: 1.0479 - val_accuracy: 0.8500\n",
            "Epoch 48/50\n",
            "80/80 [==============================] - 8s 93ms/step - loss: 6.2602e-05 - accuracy: 1.0000 - val_loss: 1.0571 - val_accuracy: 0.8500\n",
            "Epoch 49/50\n",
            "80/80 [==============================] - 7s 82ms/step - loss: 5.9296e-05 - accuracy: 1.0000 - val_loss: 1.0607 - val_accuracy: 0.8500\n",
            "Epoch 50/50\n",
            "80/80 [==============================] - 11s 126ms/step - loss: 5.5959e-05 - accuracy: 1.0000 - val_loss: 1.0554 - val_accuracy: 0.8500\n"
          ]
        }
      ]
    },
    {
      "cell_type": "code",
      "source": [
        "acc = history.history['accuracy']\n",
        "val_acc = history.history['val_accuracy']\n",
        "\n",
        "loss = history.history['loss']\n",
        "val_loss = history.history['val_loss']\n",
        "\n",
        "plt.plot(acc, label='Training Accuracy')\n",
        "plt.plot(val_acc, label='Validation Accuracy')\n",
        "plt.legend(loc='lower right')\n",
        "plt.ylabel('Accuracy')\n",
        "plt.title('Training and Validation Accuracy (VGG16)')"
      ],
      "metadata": {
        "colab": {
          "base_uri": "https://localhost:8080/",
          "height": 298
        },
        "id": "pYsNYLB2PFX3",
        "outputId": "bb5fd58f-8468-4a6f-d614-c1791e8b8e5c"
      },
      "execution_count": 15,
      "outputs": [
        {
          "output_type": "execute_result",
          "data": {
            "text/plain": [
              "Text(0.5, 1.0, 'Training and Validation Accuracy (VGG16)')"
            ]
          },
          "metadata": {},
          "execution_count": 15
        },
        {
          "output_type": "display_data",
          "data": {
            "text/plain": [
              "<Figure size 432x288 with 1 Axes>"
            ],
            "image/png": "[encoded data removed]"
          },
          "metadata": {
            "needs_background": "light"
          }
        }
      ]
    },
    {
      "cell_type": "code",
      "source": [
        "plt.plot(loss, label='Training Loss')\n",
        "plt.plot(val_loss, label='Validation Loss')\n",
        "plt.legend(loc='upper right')\n",
        "plt.ylabel('Cross Entropy')\n",
        "plt.title('Training and Validation Loss (VGG16)')\n",
        "plt.xlabel('epoch')\n",
        "plt.show()"
      ],
      "metadata": {
        "colab": {
          "base_uri": "https://localhost:8080/",
          "height": 295
        },
        "id": "iLaqpFsnPQHw",
        "outputId": "9c32998f-b504-4a1d-9c7e-6cc3e6d7123b"
      },
      "execution_count": 16,
      "outputs": [
        {
          "output_type": "display_data",
          "data": {
            "text/plain": [
              "<Figure size 432x288 with 1 Axes>"
            ],
            "image/png": "[encoded data removed]"
          },
          "metadata": {
            "needs_background": "light"
          }
        }
      ]
    },
    {
      "cell_type": "code",
      "source": [
        "loss, accuracy = VGG16_model.evaluate(validation)\n",
        "print('Test accuracy :', accuracy)"
      ],
      "metadata": {
        "colab": {
          "base_uri": "https://localhost:8080/"
        },
        "id": "C1xt3WMLPft6",
        "outputId": "c80d4203-92e4-48e8-f5f1-732c6e3f49a4"
      },
      "execution_count": 14,
      "outputs": [
        {
          "output_type": "stream",
          "name": "stdout",
          "text": [
            "20/20 [==============================] - 2s 51ms/step - loss: 1.0554 - accuracy: 0.8500\n",
            "Test accuracy : 0.8500000238418579\n"
          ]
        }
      ]
    }
  ]
}