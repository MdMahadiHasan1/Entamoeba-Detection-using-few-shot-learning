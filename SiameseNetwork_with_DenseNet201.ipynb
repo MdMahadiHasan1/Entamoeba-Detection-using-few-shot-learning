{
  "nbformat": 4,
  "nbformat_minor": 0,
  "metadata": {
    "colab": {
      "provenance": []
    },
    "kernelspec": {
      "name": "python3",
      "display_name": "Python 3"
    },
    "language_info": {
      "name": "python"
    },
    "widgets": {
      "application/vnd.jupyter.widget-state+json": {
        "604f1951ca6a4935adbd89e7561d3ea0": {
          "model_module": "@jupyter-widgets/controls",
          "model_name": "HBoxModel",
          "model_module_version": "1.5.0",
          "state": {
            "_dom_classes": [],
            "_model_module": "@jupyter-widgets/controls",
            "_model_module_version": "1.5.0",
            "_model_name": "HBoxModel",
            "_view_count": null,
            "_view_module": "@jupyter-widgets/controls",
            "_view_module_version": "1.5.0",
            "_view_name": "HBoxView",
            "box_style": "",
            "children": [
              "IPY_MODEL_be5f4b33191a477fb3e8c5abbcb4bd4f",
              "IPY_MODEL_f6a73d6a1972429a9d1ae96d52ee5ce5",
              "IPY_MODEL_f762a2d27cc94b9b8b059903a8bc0a22"
            ],
            "layout": "IPY_MODEL_459a8f78c85748b7a6fe393f98f797b5"
          }
        },
        "be5f4b33191a477fb3e8c5abbcb4bd4f": {
          "model_module": "@jupyter-widgets/controls",
          "model_name": "HTMLModel",
          "model_module_version": "1.5.0",
          "state": {
            "_dom_classes": [],
            "_model_module": "@jupyter-widgets/controls",
            "_model_module_version": "1.5.0",
            "_model_name": "HTMLModel",
            "_view_count": null,
            "_view_module": "@jupyter-widgets/controls",
            "_view_module_version": "1.5.0",
            "_view_name": "HTMLView",
            "description": "",
            "description_tooltip": null,
            "layout": "IPY_MODEL_c589601b9fee4795bb1bacda458813e9",
            "placeholder": "​",
            "style": "IPY_MODEL_c0aae8a6d7e445deb6db37547942df95",
            "value": "100%"
          }
        },
        "f6a73d6a1972429a9d1ae96d52ee5ce5": {
          "model_module": "@jupyter-widgets/controls",
          "model_name": "FloatProgressModel",
          "model_module_version": "1.5.0",
          "state": {
            "_dom_classes": [],
            "_model_module": "@jupyter-widgets/controls",
            "_model_module_version": "1.5.0",
            "_model_name": "FloatProgressModel",
            "_view_count": null,
            "_view_module": "@jupyter-widgets/controls",
            "_view_module_version": "1.5.0",
            "_view_name": "ProgressView",
            "bar_style": "success",
            "description": "",
            "description_tooltip": null,
            "layout": "IPY_MODEL_9fdd04818d3b422094ea7e1baa6fe120",
            "max": 81131730,
            "min": 0,
            "orientation": "horizontal",
            "style": "IPY_MODEL_450cab5dd8b344a98abd53fdcdcf9d29",
            "value": 81131730
          }
        },
        "f762a2d27cc94b9b8b059903a8bc0a22": {
          "model_module": "@jupyter-widgets/controls",
          "model_name": "HTMLModel",
          "model_module_version": "1.5.0",
          "state": {
            "_dom_classes": [],
            "_model_module": "@jupyter-widgets/controls",
            "_model_module_version": "1.5.0",
            "_model_name": "HTMLModel",
            "_view_count": null,
            "_view_module": "@jupyter-widgets/controls",
            "_view_module_version": "1.5.0",
            "_view_name": "HTMLView",
            "description": "",
            "description_tooltip": null,
            "layout": "IPY_MODEL_0c70d78536214544ab775828dd63d899",
            "placeholder": "​",
            "style": "IPY_MODEL_3faa76dfe07b477580ca3c7cd0089f6f",
            "value": " 77.4M/77.4M [00:01&lt;00:00, 86.6MB/s]"
          }
        },
        "459a8f78c85748b7a6fe393f98f797b5": {
          "model_module": "@jupyter-widgets/base",
          "model_name": "LayoutModel",
          "model_module_version": "1.2.0",
          "state": {
            "_model_module": "@jupyter-widgets/base",
            "_model_module_version": "1.2.0",
            "_model_name": "LayoutModel",
            "_view_count": null,
            "_view_module": "@jupyter-widgets/base",
            "_view_module_version": "1.2.0",
            "_view_name": "LayoutView",
            "align_content": null,
            "align_items": null,
            "align_self": null,
            "border": null,
            "bottom": null,
            "display": null,
            "flex": null,
            "flex_flow": null,
            "grid_area": null,
            "grid_auto_columns": null,
            "grid_auto_flow": null,
            "grid_auto_rows": null,
            "grid_column": null,
            "grid_gap": null,
            "grid_row": null,
            "grid_template_areas": null,
            "grid_template_columns": null,
            "grid_template_rows": null,
            "height": null,
            "justify_content": null,
            "justify_items": null,
            "left": null,
            "margin": null,
            "max_height": null,
            "max_width": null,
            "min_height": null,
            "min_width": null,
            "object_fit": null,
            "object_position": null,
            "order": null,
            "overflow": null,
            "overflow_x": null,
            "overflow_y": null,
            "padding": null,
            "right": null,
            "top": null,
            "visibility": null,
            "width": null
          }
        },
        "c589601b9fee4795bb1bacda458813e9": {
          "model_module": "@jupyter-widgets/base",
          "model_name": "LayoutModel",
          "model_module_version": "1.2.0",
          "state": {
            "_model_module": "@jupyter-widgets/base",
            "_model_module_version": "1.2.0",
            "_model_name": "LayoutModel",
            "_view_count": null,
            "_view_module": "@jupyter-widgets/base",
            "_view_module_version": "1.2.0",
            "_view_name": "LayoutView",
            "align_content": null,
            "align_items": null,
            "align_self": null,
            "border": null,
            "bottom": null,
            "display": null,
            "flex": null,
            "flex_flow": null,
            "grid_area": null,
            "grid_auto_columns": null,
            "grid_auto_flow": null,
            "grid_auto_rows": null,
            "grid_column": null,
            "grid_gap": null,
            "grid_row": null,
            "grid_template_areas": null,
            "grid_template_columns": null,
            "grid_template_rows": null,
            "height": null,
            "justify_content": null,
            "justify_items": null,
            "left": null,
            "margin": null,
            "max_height": null,
            "max_width": null,
            "min_height": null,
            "min_width": null,
            "object_fit": null,
            "object_position": null,
            "order": null,
            "overflow": null,
            "overflow_x": null,
            "overflow_y": null,
            "padding": null,
            "right": null,
            "top": null,
            "visibility": null,
            "width": null
          }
        },
        "c0aae8a6d7e445deb6db37547942df95": {
          "model_module": "@jupyter-widgets/controls",
          "model_name": "DescriptionStyleModel",
          "model_module_version": "1.5.0",
          "state": {
            "_model_module": "@jupyter-widgets/controls",
            "_model_module_version": "1.5.0",
            "_model_name": "DescriptionStyleModel",
            "_view_count": null,
            "_view_module": "@jupyter-widgets/base",
            "_view_module_version": "1.2.0",
            "_view_name": "StyleView",
            "description_width": ""
          }
        },
        "9fdd04818d3b422094ea7e1baa6fe120": {
          "model_module": "@jupyter-widgets/base",
          "model_name": "LayoutModel",
          "model_module_version": "1.2.0",
          "state": {
            "_model_module": "@jupyter-widgets/base",
            "_model_module_version": "1.2.0",
            "_model_name": "LayoutModel",
            "_view_count": null,
            "_view_module": "@jupyter-widgets/base",
            "_view_module_version": "1.2.0",
            "_view_name": "LayoutView",
            "align_content": null,
            "align_items": null,
            "align_self": null,
            "border": null,
            "bottom": null,
            "display": null,
            "flex": null,
            "flex_flow": null,
            "grid_area": null,
            "grid_auto_columns": null,
            "grid_auto_flow": null,
            "grid_auto_rows": null,
            "grid_column": null,
            "grid_gap": null,
            "grid_row": null,
            "grid_template_areas": null,
            "grid_template_columns": null,
            "grid_template_rows": null,
            "height": null,
            "justify_content": null,
            "justify_items": null,
            "left": null,
            "margin": null,
            "max_height": null,
            "max_width": null,
            "min_height": null,
            "min_width": null,
            "object_fit": null,
            "object_position": null,
            "order": null,
            "overflow": null,
            "overflow_x": null,
            "overflow_y": null,
            "padding": null,
            "right": null,
            "top": null,
            "visibility": null,
            "width": null
          }
        },
        "450cab5dd8b344a98abd53fdcdcf9d29": {
          "model_module": "@jupyter-widgets/controls",
          "model_name": "ProgressStyleModel",
          "model_module_version": "1.5.0",
          "state": {
            "_model_module": "@jupyter-widgets/controls",
            "_model_module_version": "1.5.0",
            "_model_name": "ProgressStyleModel",
            "_view_count": null,
            "_view_module": "@jupyter-widgets/base",
            "_view_module_version": "1.2.0",
            "_view_name": "StyleView",
            "bar_color": null,
            "description_width": ""
          }
        },
        "0c70d78536214544ab775828dd63d899": {
          "model_module": "@jupyter-widgets/base",
          "model_name": "LayoutModel",
          "model_module_version": "1.2.0",
          "state": {
            "_model_module": "@jupyter-widgets/base",
            "_model_module_version": "1.2.0",
            "_model_name": "LayoutModel",
            "_view_count": null,
            "_view_module": "@jupyter-widgets/base",
            "_view_module_version": "1.2.0",
            "_view_name": "LayoutView",
            "align_content": null,
            "align_items": null,
            "align_self": null,
            "border": null,
            "bottom": null,
            "display": null,
            "flex": null,
            "flex_flow": null,
            "grid_area": null,
            "grid_auto_columns": null,
            "grid_auto_flow": null,
            "grid_auto_rows": null,
            "grid_column": null,
            "grid_gap": null,
            "grid_row": null,
            "grid_template_areas": null,
            "grid_template_columns": null,
            "grid_template_rows": null,
            "height": null,
            "justify_content": null,
            "justify_items": null,
            "left": null,
            "margin": null,
            "max_height": null,
            "max_width": null,
            "min_height": null,
            "min_width": null,
            "object_fit": null,
            "object_position": null,
            "order": null,
            "overflow": null,
            "overflow_x": null,
            "overflow_y": null,
            "padding": null,
            "right": null,
            "top": null,
            "visibility": null,
            "width": null
          }
        },
        "3faa76dfe07b477580ca3c7cd0089f6f": {
          "model_module": "@jupyter-widgets/controls",
          "model_name": "DescriptionStyleModel",
          "model_module_version": "1.5.0",
          "state": {
            "_model_module": "@jupyter-widgets/controls",
            "_model_module_version": "1.5.0",
            "_model_name": "DescriptionStyleModel",
            "_view_count": null,
            "_view_module": "@jupyter-widgets/base",
            "_view_module_version": "1.2.0",
            "_view_name": "StyleView",
            "description_width": ""
          }
        }
      }
    },
    "gpuClass": "standard"
  },
  "cells": [
    {
      "cell_type": "code",
      "execution_count": 10,
      "metadata": {
        "id": "b0MRXLyIwYQN"
      },
      "outputs": [],
      "source": [
        "import torch.nn as nn\n",
        "import numpy as np\n",
        "import argparse\n",
        "import torch\n",
        "import timm\n",
        "import random\n",
        "import time\n",
        "import pickle\n",
        "import torch\n",
        "%matplotlib inline\n",
        "import matplotlib.pyplot as plt\n",
        "from torch.autograd import Variable\n",
        "from torchvision import transforms"
      ]
    },
    {
      "cell_type": "code",
      "source": [
        "class Dataset(object):\n",
        "    \n",
        "    def __init__(self, x0, x1, label):\n",
        "        self.size = label.shape[0] \n",
        "        self.x0 = torch.from_numpy(x0)\n",
        "        self.x1 = torch.from_numpy(x1)\n",
        "        self.label = torch.from_numpy(label)\n",
        "\n",
        "    def __getitem__(self, index):\n",
        "        return (self.x0[index],\n",
        "                self.x1[index],\n",
        "                self.label[index])\n",
        "\n",
        "    def __len__(self):\n",
        "        return self.size"
      ],
      "metadata": {
        "id": "z5zS5MAbwbjI"
      },
      "execution_count": 11,
      "outputs": []
    },
    {
      "cell_type": "code",
      "source": [
        "def create_pairs(data, digit_indices):\n",
        "    x0_data = []\n",
        "    x1_data = []\n",
        "    label = []\n",
        "    n = min([len(digit_indices[d]) for d in range(2)]) - 1\n",
        "    for d in range(2): \n",
        "        for i in range(n):\n",
        "            z1, z2 = digit_indices[d][i], digit_indices[d][i + 1]\n",
        "            x0_data.append(data[z1]/255.) \n",
        "            x1_data.append(data[z2]/255.) \n",
        "            label.append(1)\n",
        "            inc = random.randrange(1, 4)\n",
        "            dn = (d + inc) % 2\n",
        "            z1, z2 = digit_indices[d][i], digit_indices[dn][i]\n",
        "            x0_data.append(data[z1]/255.) \n",
        "            x1_data.append(data[z2]/255.) \n",
        "            label.append(0)\n",
        "\n",
        "    x0_data = np.array(x0_data, dtype=np.float32) \n",
        "\n",
        "    x0_data = x0_data.reshape([-1, 3, 224, 224])\n",
        "    x1_data = np.array(x1_data, dtype=np.float32) \n",
        "    x1_data = x1_data.reshape([-1, 3, 224, 224])\n",
        "    label = np.array(label, dtype=np.int32)\n",
        "\n",
        "    return x0_data, x1_data, label\n",
        "\n",
        "def create_iterator(data, label, batchsize, shuffle=False):\n",
        "\n",
        "    digit_indices = [np.where(label == i)[0] for i in range(max(label)+1)]\n",
        "    x0, x1, label = create_pairs(data, digit_indices)\n",
        "    ret = Dataset(x0, x1, label)\n",
        "    return ret"
      ],
      "metadata": {
        "id": "mdjwzsFAwcpl"
      },
      "execution_count": 12,
      "outputs": []
    },
    {
      "cell_type": "code",
      "source": [
        "def contrastive_loss_function(x0, x1, y, margin=1.0):\n",
        "    diff = x0 - x1\n",
        "    dist_sq = torch.sum(torch.pow(diff, 2), 1)\n",
        "    dist = torch.sqrt(dist_sq)\n",
        "    mdist = margin - dist\n",
        "    dist = torch.clamp(mdist, min=0.0)\n",
        "    loss = y * dist_sq + (1 - y) * torch.pow(dist, 2)\n",
        "    loss = torch.sum(loss) / 2.0 / x0.size()[0]\n",
        "    return loss"
      ],
      "metadata": {
        "id": "El2EJGpswfmI"
      },
      "execution_count": 13,
      "outputs": []
    },
    {
      "cell_type": "code",
      "source": [
        "batchsize=8\n",
        "import copy\n",
        "import timm\n",
        "\n",
        "class SiameseNetwork_densenet201(nn.Module):\n",
        "    \n",
        "    def __init__(self):\n",
        "        super(SiameseNetwork_densenet201, self).__init__()\n",
        "        self.cnn0 = torch.hub.load('pytorch/vision:v0.10.0', 'densenet201', pretrained=True)\n",
        "        \n",
        "\n",
        "    def forward_once(self, x):\n",
        "        output = self.cnn0(x)\n",
        "        return output\n",
        "\n",
        "    def forward(self, input0, input1):\n",
        "        output0 = self.forward_once(input0)\n",
        "        output1 = self.forward_once(input1)\n",
        "        return output0, output1"
      ],
      "metadata": {
        "id": "hhECSEz3wm7v"
      },
      "execution_count": 14,
      "outputs": []
    },
    {
      "cell_type": "code",
      "source": [
        "import os\n",
        "import shutil\n",
        "from keras.preprocessing import image\n",
        "from sklearn.model_selection import train_test_split\n",
        "from keras.applications import xception\n",
        "from keras.applications.vgg16 import preprocess_input\n",
        "from sklearn.linear_model import LogisticRegression\n",
        "from sklearn.metrics import log_loss, accuracy_score\n",
        "\n",
        "def extract_features(path):\n",
        "    directory_lists=os.listdir(path)\n",
        "    X=[]\n",
        "    Y=[]\n",
        "    count=0\n",
        "    for d in directory_lists:\n",
        "        nest=os.listdir(path+\"/\"+d)\n",
        "        for f in nest:\n",
        "            img = image.load_img(path+\"/\"+d+\"/\"+f, target_size=(224, 224))\n",
        "            img_data = image.img_to_array(img)\n",
        "            img_data = preprocess_input(img_data)\n",
        "            img_data = np.expand_dims(img_data, axis=0)\n",
        "            X.append(img_data)\n",
        "            Y.append(count)\n",
        "        count+=1\n",
        "    X=np.array(X)\n",
        "    y=np.array(Y)\n",
        "    X_train, X_test, y_train, y_test = train_test_split(X, y, test_size=0.30, random_state=42)         \n",
        "    return X_train, X_test, y_train, y_test \n",
        "\n",
        "X_train, X_test, y_train, y_test = extract_features(\"/content/drive/MyDrive/few_shot/train/\")\n",
        "print (X_train.shape, y_train.shape)"
      ],
      "metadata": {
        "colab": {
          "base_uri": "https://localhost:8080/"
        },
        "id": "pey1tJzpwqFZ",
        "outputId": "45727806-4a8c-4d3a-9333-60f5bf5b2ecb"
      },
      "execution_count": 15,
      "outputs": [
        {
          "output_type": "stream",
          "name": "stdout",
          "text": [
            "(72, 1, 224, 224, 3) (72,)\n"
          ]
        }
      ]
    },
    {
      "cell_type": "code",
      "source": [
        "train_iter = create_iterator(X_train,y_train,batchsize)\n",
        "test_iter = create_iterator(X_test,y_test,batchsize)\n",
        "\n",
        "model = SiameseNetwork_densenet201()\n",
        "\n",
        "learning_rate = 0.0001 \n",
        "momentum = 0.9 \n",
        "\n",
        "\n",
        "criterion =  contrastive_loss_function\n",
        "\n",
        "optimizer = torch.optim.SGD(model.parameters(), lr=learning_rate, momentum=momentum)\n",
        "scheduler = torch.optim.lr_scheduler.ReduceLROnPlateau(optimizer, patience=50, verbose=True)\n",
        "\n",
        "train_loader = torch.utils.data.DataLoader(train_iter,batch_size=batchsize, shuffle=True)\n",
        "test_loader = torch.utils.data.DataLoader(test_iter,batch_size=2, shuffle=True)"
      ],
      "metadata": {
        "colab": {
          "base_uri": "https://localhost:8080/",
          "height": 173,
          "referenced_widgets": [
            "604f1951ca6a4935adbd89e7561d3ea0",
            "be5f4b33191a477fb3e8c5abbcb4bd4f",
            "f6a73d6a1972429a9d1ae96d52ee5ce5",
            "f762a2d27cc94b9b8b059903a8bc0a22",
            "459a8f78c85748b7a6fe393f98f797b5",
            "c589601b9fee4795bb1bacda458813e9",
            "c0aae8a6d7e445deb6db37547942df95",
            "9fdd04818d3b422094ea7e1baa6fe120",
            "450cab5dd8b344a98abd53fdcdcf9d29",
            "0c70d78536214544ab775828dd63d899",
            "3faa76dfe07b477580ca3c7cd0089f6f"
          ]
        },
        "id": "vJB0vSvRws_S",
        "outputId": "01a9b0b3-1693-435f-f0a8-4be941097272"
      },
      "execution_count": 16,
      "outputs": [
        {
          "output_type": "stream",
          "name": "stderr",
          "text": [
            "Downloading: \"https://github.com/pytorch/vision/zipball/v0.10.0\" to /root/.cache/torch/hub/v0.10.0.zip\n",
            "/usr/local/lib/python3.7/dist-packages/torchvision/models/_utils.py:209: UserWarning: The parameter 'pretrained' is deprecated since 0.13 and will be removed in 0.15, please use 'weights' instead.\n",
            "  f\"The parameter '{pretrained_param}' is deprecated since 0.13 and will be removed in 0.15, \"\n",
            "/usr/local/lib/python3.7/dist-packages/torchvision/models/_utils.py:223: UserWarning: Arguments other than a weight enum or `None` for 'weights' are deprecated since 0.13 and will be removed in 0.15. The current behavior is equivalent to passing `weights=DenseNet201_Weights.IMAGENET1K_V1`. You can also use `weights=DenseNet201_Weights.DEFAULT` to get the most up-to-date weights.\n",
            "  warnings.warn(msg)\n",
            "Downloading: \"https://download.pytorch.org/models/densenet201-c1103571.pth\" to /root/.cache/torch/hub/checkpoints/densenet201-c1103571.pth\n"
          ]
        },
        {
          "output_type": "display_data",
          "data": {
            "text/plain": [
              "  0%|          | 0.00/77.4M [00:00<?, ?B/s]"
            ],
            "application/vnd.jupyter.widget-view+json": {
              "version_major": 2,
              "version_minor": 0,
              "model_id": "604f1951ca6a4935adbd89e7561d3ea0"
            }
          },
          "metadata": {}
        }
      ]
    },
    {
      "cell_type": "code",
      "source": [
        "train_loss = []\n",
        "epochs = 10\n",
        "for epoch in range(epochs):\n",
        "    total_loss = 0.0\n",
        "    for batch_idx, (x0, x1, labels) in enumerate(train_loader):\n",
        "        labels = labels.float()\n",
        "        x0, x1, labels = Variable(x0), Variable(x1), Variable(labels)\n",
        "        output1, output2 = model.forward(x0, x1)\n",
        "        loss = criterion(output1, output2, labels)\n",
        "        train_loss.append(loss.item())\n",
        "        total_loss += loss.item()\n",
        "        optimizer.zero_grad()\n",
        "        loss.backward()\n",
        "        optimizer.step()\n",
        "    scheduler.step(epoch)\n",
        "    print('Epoch: {} \\tLoss: {:.6f}'.format(epoch, total_loss*1.0/batchsize))\n",
        "    if epoch%50==0:\n",
        "        torch.save(model, './SiameseModified-epoch-%s.pth' % epoch)"
      ],
      "metadata": {
        "colab": {
          "base_uri": "https://localhost:8080/"
        },
        "id": "W5Tfzy_E1lwv",
        "outputId": "fba4d4db-c45c-4877-ab1c-74cea820e2fe"
      },
      "execution_count": 17,
      "outputs": [
        {
          "output_type": "stream",
          "name": "stdout",
          "text": [
            "Epoch: 0 \tLoss: 503.785916\n",
            "Epoch: 1 \tLoss: 10.392206\n",
            "Epoch: 2 \tLoss: 1.169564\n",
            "Epoch: 3 \tLoss: 0.661335\n",
            "Epoch: 4 \tLoss: 0.541113\n",
            "Epoch: 5 \tLoss: 0.441757\n",
            "Epoch: 6 \tLoss: 0.367646\n",
            "Epoch: 7 \tLoss: 0.368063\n",
            "Epoch: 8 \tLoss: 0.358841\n",
            "Epoch: 9 \tLoss: 0.352594\n"
          ]
        }
      ]
    },
    {
      "cell_type": "code",
      "source": [
        "def plot_loss(train_loss,name=\"train_loss.png\"):\n",
        "    plt.plot(train_loss, label=\"train loss\")\n",
        "    plt.legend()\n",
        "plot_loss(train_loss)"
      ],
      "metadata": {
        "id": "RFktUH1z8mxC",
        "colab": {
          "base_uri": "https://localhost:8080/",
          "height": 265
        },
        "outputId": "df1f2cc0-dcf8-4e5d-c5a4-97f45a330ba8"
      },
      "execution_count": 18,
      "outputs": [
        {
          "output_type": "display_data",
          "data": {
            "text/plain": [
              "<Figure size 432x288 with 1 Axes>"
            ],
            "image/png": "[encoded data removed]"
          },
          "metadata": {
            "needs_background": "light"
          }
        }
      ]
    },
    {
      "cell_type": "code",
      "source": [
        "def plot_vis(numpy_all, numpy_labels,name=\"./embeddings_plot.png\"):\n",
        "        c = ['#ff0000', '#ffff00']\n",
        "        for i in range(0,2):\n",
        "            f = numpy_all[np.where(numpy_labels == i)]\n",
        "            plt.plot(f[:, 0], f[:, 1], '.', c=c[i])\n",
        "        plt.legend(['0', '1'])\n",
        "        plt.savefig(name)"
      ],
      "metadata": {
        "id": "O83imOOq6p_P"
      },
      "execution_count": 19,
      "outputs": []
    },
    {
      "cell_type": "code",
      "source": [
        "from sklearn.cluster import KMeans\n",
        "from sklearn.metrics import silhouette_score\n",
        "X_test = X_test/255.\n",
        "y_test = np.array(y_test, dtype=np.int32)\n",
        "\n",
        "def test_model(model):\n",
        "        model.eval()\n",
        "        all_ = []\n",
        "        all_labels = []\n",
        "        with torch.no_grad():\n",
        "            for i in range(0, 13):\n",
        "                x = Variable(torch.tensor(X_test[i].reshape([-1, 3, 224, 224])))\n",
        "                y_t = np.array(y_test[i], dtype=np.int32)\n",
        "                y = Variable(torch.tensor(y_t))\n",
        "                output = model.forward_once(x)\n",
        "                all_.extend(output.data.cpu().numpy().tolist())\n",
        "                all_labels.append(y.data.cpu().numpy().tolist())\n",
        "\n",
        "        numpy_all = np.array(all_)\n",
        "        numpy_labels = np.array(all_labels)\n",
        "        return numpy_all, numpy_labels\n",
        "\n",
        "def testing_plots(model):\n",
        "        dict_pickle={}\n",
        "        numpy_all, numpy_labels = test_model(model)\n",
        "        dict_pickle[\"numpy_all\"]=numpy_all\n",
        "        dict_pickle[\"numpy_labels\"]=numpy_labels\n",
        "        clusterer = KMeans(n_clusters=2)\n",
        "        preds = clusterer.fit_predict(numpy_all)\n",
        "        centers = clusterer.cluster_centers_\n",
        "        score = silhouette_score(numpy_all, preds)\n",
        "        print (score)\n",
        "        plot_vis(numpy_all, numpy_labels)\n",
        "\n",
        "from sklearn.metrics import silhouette_samples, silhouette_score\n",
        "from pylab import rcParams\n",
        "rcParams['figure.figsize'] = 5, 5\n",
        "testing_plots(model)"
      ],
      "metadata": {
        "id": "sQqWaWTz8whn",
        "colab": {
          "base_uri": "https://localhost:8080/",
          "height": 337
        },
        "outputId": "a095ecf1-8dde-4627-8637-5773931e2a42"
      },
      "execution_count": 20,
      "outputs": [
        {
          "output_type": "stream",
          "name": "stdout",
          "text": [
            "0.3014384519695795\n"
          ]
        },
        {
          "output_type": "display_data",
          "data": {
            "text/plain": [
              "<Figure size 360x360 with 1 Axes>"
            ],
            "image/png": "[encoded data removed]"
          },
          "metadata": {
            "needs_background": "light"
          }
        }
      ]
    }
  ]
}