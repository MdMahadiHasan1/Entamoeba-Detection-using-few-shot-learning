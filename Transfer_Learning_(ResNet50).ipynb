{
  "nbformat": 4,
  "nbformat_minor": 0,
  "metadata": {
    "colab": {
      "provenance": []
    },
    "kernelspec": {
      "name": "python3",
      "display_name": "Python 3"
    },
    "language_info": {
      "name": "python"
    },
    "accelerator": "GPU",
    "gpuClass": "standard"
  },
  "cells": [
    {
      "cell_type": "code",
      "source": [
        "import matplotlib.pyplot as plt\n",
        "import numpy as np\n",
        "import PIL\n",
        "import os\n",
        "import tensorflow as tf\n",
        "from tensorflow import keras\n",
        "from tensorflow.keras import layers\n",
        "from tensorflow.keras.models import Sequential\n",
        "from sklearn import preprocessing\n",
        "from keras.preprocessing import image\n",
        "from sklearn.model_selection import train_test_split"
      ],
      "metadata": {
        "id": "i5OLBuhMJYct"
      },
      "execution_count": 2,
      "outputs": []
    },
    {
      "cell_type": "code",
      "source": [
        "base_dir = '/content/drive/MyDrive/Thesis_Paper/CNN/'\n",
        "\n",
        "train_dir = os.path.join(base_dir, 'train')\n",
        "validation_dir = os.path.join(base_dir, 'test')"
      ],
      "metadata": {
        "id": "QstleOLMZoLI"
      },
      "execution_count": 3,
      "outputs": []
    },
    {
      "cell_type": "code",
      "source": [
        "BATCH_SIZE = 5\n",
        "IMG_SIZE = (180, 180)\n",
        "\n",
        "train = tf.keras.utils.image_dataset_from_directory(train_dir,\n",
        "                                                            shuffle=True,\n",
        "                                                            batch_size=BATCH_SIZE,\n",
        "                                                            image_size=IMG_SIZE)"
      ],
      "metadata": {
        "colab": {
          "base_uri": "https://localhost:8080/"
        },
        "id": "xmPXTNPzdRa1",
        "outputId": "fbe289e9-5dc8-48bd-d6df-baa5609c79f5"
      },
      "execution_count": 4,
      "outputs": [
        {
          "output_type": "stream",
          "name": "stdout",
          "text": [
            "Found 400 files belonging to 2 classes.\n"
          ]
        }
      ]
    },
    {
      "cell_type": "code",
      "source": [
        "validation = tf.keras.utils.image_dataset_from_directory(validation_dir,\n",
        "                                                                 shuffle=True,\n",
        "                                                                 batch_size=BATCH_SIZE,\n",
        "                                                                 image_size=IMG_SIZE)"
      ],
      "metadata": {
        "colab": {
          "base_uri": "https://localhost:8080/"
        },
        "id": "lJqX5-9eda6y",
        "outputId": "a4589a10-eaf1-4975-fdca-e8ec4618e7bc"
      },
      "execution_count": 5,
      "outputs": [
        {
          "output_type": "stream",
          "name": "stdout",
          "text": [
            "Found 100 files belonging to 2 classes.\n"
          ]
        }
      ]
    },
    {
      "cell_type": "code",
      "source": [
        "resnet_model = Sequential()\n",
        "\n",
        "pretrained_model= tf.keras.applications.ResNet50(include_top=False,\n",
        "                   input_shape=(180,180,3),\n",
        "                   pooling='avg',classes=2,\n",
        "                   weights='imagenet')\n",
        "for layer in pretrained_model.layers:\n",
        "        layer.trainable=False\n",
        "\n",
        "resnet_model.add(pretrained_model)"
      ],
      "metadata": {
        "colab": {
          "base_uri": "https://localhost:8080/"
        },
        "id": "_iBTp1ZiJFzm",
        "outputId": "d983cce0-37f4-4f40-a4c7-f48efc3e4715"
      },
      "execution_count": 6,
      "outputs": [
        {
          "output_type": "stream",
          "name": "stdout",
          "text": [
            "Downloading data from https://storage.googleapis.com/tensorflow/keras-applications/resnet/resnet50_weights_tf_dim_ordering_tf_kernels_notop.h5\n",
            "94765736/94765736 [==============================] - 3s 0us/step\n"
          ]
        }
      ]
    },
    {
      "cell_type": "code",
      "source": [
        "resnet_model.add(tf.keras.layers.Flatten())\n",
        "resnet_model.add(tf.keras.layers.Dense(512, activation='relu'))\n",
        "resnet_model.add(tf.keras.layers.Dense(1, activation='sigmoid'))"
      ],
      "metadata": {
        "id": "G3K8u2U8JoQQ"
      },
      "execution_count": 7,
      "outputs": []
    },
    {
      "cell_type": "code",
      "source": [
        "resnet_model.summary()"
      ],
      "metadata": {
        "colab": {
          "base_uri": "https://localhost:8080/"
        },
        "id": "pRT9J8DxJquk",
        "outputId": "91ddbc18-fcab-4449-e109-104ab9326458"
      },
      "execution_count": 8,
      "outputs": [
        {
          "output_type": "stream",
          "name": "stdout",
          "text": [
            "Model: \"sequential\"\n",
            "_________________________________________________________________\n",
            " Layer (type)                Output Shape              Param #   \n",
            "=================================================================\n",
            " resnet50 (Functional)       (None, 2048)              23587712  \n",
            "                                                                 \n",
            " flatten (Flatten)           (None, 2048)              0         \n",
            "                                                                 \n",
            " dense (Dense)               (None, 512)               1049088   \n",
            "                                                                 \n",
            " dense_1 (Dense)             (None, 1)                 513       \n",
            "                                                                 \n",
            "=================================================================\n",
            "Total params: 24,637,313\n",
            "Trainable params: 1,049,601\n",
            "Non-trainable params: 23,587,712\n",
            "_________________________________________________________________\n"
          ]
        }
      ]
    },
    {
      "cell_type": "code",
      "source": [
        "resnet_model.compile(tf.keras.optimizers.Adam(lr=0.001),loss='binary_crossentropy',metrics=['accuracy'])\n",
        "\n",
        "history = resnet_model.fit(train, validation_data=validation, epochs=50)"
      ],
      "metadata": {
        "colab": {
          "base_uri": "https://localhost:8080/"
        },
        "id": "xecXlrlCLiwp",
        "outputId": "8174ca86-0c47-49a5-a26d-b41a4d5af507"
      },
      "execution_count": 9,
      "outputs": [
        {
          "output_type": "stream",
          "name": "stdout",
          "text": [
            "Epoch 1/50\n"
          ]
        },
        {
          "output_type": "stream",
          "name": "stderr",
          "text": [
            "/usr/local/lib/python3.7/dist-packages/keras/optimizers/optimizer_v2/adam.py:110: UserWarning: The `lr` argument is deprecated, use `learning_rate` instead.\n",
            "  super(Adam, self).__init__(name, **kwargs)\n"
          ]
        },
        {
          "output_type": "stream",
          "name": "stdout",
          "text": [
            "80/80 [==============================] - 111s 1s/step - loss: 0.6876 - accuracy: 0.7300 - val_loss: 1.4374 - val_accuracy: 0.5300\n",
            "Epoch 2/50\n",
            "80/80 [==============================] - 8s 89ms/step - loss: 0.2563 - accuracy: 0.8975 - val_loss: 0.4957 - val_accuracy: 0.7800\n",
            "Epoch 3/50\n",
            "80/80 [==============================] - 8s 90ms/step - loss: 0.1262 - accuracy: 0.9625 - val_loss: 0.7310 - val_accuracy: 0.8000\n",
            "Epoch 4/50\n",
            "80/80 [==============================] - 9s 108ms/step - loss: 0.0922 - accuracy: 0.9625 - val_loss: 0.6413 - val_accuracy: 0.8200\n",
            "Epoch 5/50\n",
            "80/80 [==============================] - 8s 90ms/step - loss: 0.0482 - accuracy: 0.9850 - val_loss: 0.4908 - val_accuracy: 0.8500\n",
            "Epoch 6/50\n",
            "80/80 [==============================] - 7s 87ms/step - loss: 0.0219 - accuracy: 0.9975 - val_loss: 0.4906 - val_accuracy: 0.8200\n",
            "Epoch 7/50\n",
            "80/80 [==============================] - 7s 86ms/step - loss: 0.0070 - accuracy: 1.0000 - val_loss: 0.5102 - val_accuracy: 0.8200\n",
            "Epoch 8/50\n",
            "80/80 [==============================] - 7s 86ms/step - loss: 0.0045 - accuracy: 1.0000 - val_loss: 0.5453 - val_accuracy: 0.8400\n",
            "Epoch 9/50\n",
            "80/80 [==============================] - 7s 86ms/step - loss: 0.0033 - accuracy: 1.0000 - val_loss: 0.5561 - val_accuracy: 0.8400\n",
            "Epoch 10/50\n",
            "80/80 [==============================] - 9s 109ms/step - loss: 0.0026 - accuracy: 1.0000 - val_loss: 0.5638 - val_accuracy: 0.8300\n",
            "Epoch 11/50\n",
            "80/80 [==============================] - 7s 87ms/step - loss: 0.0022 - accuracy: 1.0000 - val_loss: 0.5712 - val_accuracy: 0.8300\n",
            "Epoch 12/50\n",
            "80/80 [==============================] - 8s 89ms/step - loss: 0.0019 - accuracy: 1.0000 - val_loss: 0.5863 - val_accuracy: 0.8400\n",
            "Epoch 13/50\n",
            "80/80 [==============================] - 7s 88ms/step - loss: 0.0015 - accuracy: 1.0000 - val_loss: 0.5905 - val_accuracy: 0.8300\n",
            "Epoch 14/50\n",
            "80/80 [==============================] - 7s 87ms/step - loss: 0.0013 - accuracy: 1.0000 - val_loss: 0.5917 - val_accuracy: 0.8300\n",
            "Epoch 15/50\n",
            "80/80 [==============================] - 7s 86ms/step - loss: 0.0011 - accuracy: 1.0000 - val_loss: 0.6000 - val_accuracy: 0.8400\n",
            "Epoch 16/50\n",
            "80/80 [==============================] - 9s 101ms/step - loss: 0.0010 - accuracy: 1.0000 - val_loss: 0.6085 - val_accuracy: 0.8300\n",
            "Epoch 17/50\n",
            "80/80 [==============================] - 8s 90ms/step - loss: 9.1624e-04 - accuracy: 1.0000 - val_loss: 0.6212 - val_accuracy: 0.8400\n",
            "Epoch 18/50\n",
            "80/80 [==============================] - 7s 87ms/step - loss: 7.9279e-04 - accuracy: 1.0000 - val_loss: 0.6203 - val_accuracy: 0.8400\n",
            "Epoch 19/50\n",
            "80/80 [==============================] - 7s 88ms/step - loss: 7.0190e-04 - accuracy: 1.0000 - val_loss: 0.6289 - val_accuracy: 0.8400\n",
            "Epoch 20/50\n",
            "80/80 [==============================] - 8s 88ms/step - loss: 6.2585e-04 - accuracy: 1.0000 - val_loss: 0.6345 - val_accuracy: 0.8400\n",
            "Epoch 21/50\n",
            "80/80 [==============================] - 8s 101ms/step - loss: 5.6654e-04 - accuracy: 1.0000 - val_loss: 0.6437 - val_accuracy: 0.8400\n",
            "Epoch 22/50\n",
            "80/80 [==============================] - 8s 87ms/step - loss: 5.1949e-04 - accuracy: 1.0000 - val_loss: 0.6426 - val_accuracy: 0.8400\n",
            "Epoch 23/50\n",
            "80/80 [==============================] - 7s 86ms/step - loss: 4.6448e-04 - accuracy: 1.0000 - val_loss: 0.6504 - val_accuracy: 0.8400\n",
            "Epoch 24/50\n",
            "80/80 [==============================] - 7s 86ms/step - loss: 4.2653e-04 - accuracy: 1.0000 - val_loss: 0.6529 - val_accuracy: 0.8400\n",
            "Epoch 25/50\n",
            "80/80 [==============================] - 7s 86ms/step - loss: 3.8583e-04 - accuracy: 1.0000 - val_loss: 0.6569 - val_accuracy: 0.8400\n",
            "Epoch 26/50\n",
            "80/80 [==============================] - 7s 87ms/step - loss: 3.5615e-04 - accuracy: 1.0000 - val_loss: 0.6685 - val_accuracy: 0.8500\n",
            "Epoch 27/50\n",
            "80/80 [==============================] - 9s 108ms/step - loss: 3.2285e-04 - accuracy: 1.0000 - val_loss: 0.6756 - val_accuracy: 0.8500\n",
            "Epoch 28/50\n",
            "80/80 [==============================] - 7s 87ms/step - loss: 2.9648e-04 - accuracy: 1.0000 - val_loss: 0.6772 - val_accuracy: 0.8500\n",
            "Epoch 29/50\n",
            "80/80 [==============================] - 8s 88ms/step - loss: 2.7813e-04 - accuracy: 1.0000 - val_loss: 0.6774 - val_accuracy: 0.8500\n",
            "Epoch 30/50\n",
            "80/80 [==============================] - 7s 87ms/step - loss: 2.5499e-04 - accuracy: 1.0000 - val_loss: 0.6857 - val_accuracy: 0.8500\n",
            "Epoch 31/50\n",
            "80/80 [==============================] - 7s 86ms/step - loss: 2.3425e-04 - accuracy: 1.0000 - val_loss: 0.6891 - val_accuracy: 0.8500\n",
            "Epoch 32/50\n",
            "80/80 [==============================] - 9s 110ms/step - loss: 2.1923e-04 - accuracy: 1.0000 - val_loss: 0.6933 - val_accuracy: 0.8500\n",
            "Epoch 33/50\n",
            "80/80 [==============================] - 7s 86ms/step - loss: 2.0202e-04 - accuracy: 1.0000 - val_loss: 0.7029 - val_accuracy: 0.8500\n",
            "Epoch 34/50\n",
            "80/80 [==============================] - 7s 88ms/step - loss: 1.8692e-04 - accuracy: 1.0000 - val_loss: 0.7047 - val_accuracy: 0.8500\n",
            "Epoch 35/50\n",
            "80/80 [==============================] - 7s 86ms/step - loss: 1.7184e-04 - accuracy: 1.0000 - val_loss: 0.7053 - val_accuracy: 0.8500\n",
            "Epoch 36/50\n",
            "80/80 [==============================] - 7s 85ms/step - loss: 1.6241e-04 - accuracy: 1.0000 - val_loss: 0.7160 - val_accuracy: 0.8500\n",
            "Epoch 37/50\n",
            "80/80 [==============================] - 7s 88ms/step - loss: 1.4988e-04 - accuracy: 1.0000 - val_loss: 0.7186 - val_accuracy: 0.8500\n",
            "Epoch 38/50\n",
            "80/80 [==============================] - 9s 108ms/step - loss: 1.4115e-04 - accuracy: 1.0000 - val_loss: 0.7260 - val_accuracy: 0.8500\n",
            "Epoch 39/50\n",
            "80/80 [==============================] - 7s 86ms/step - loss: 1.2946e-04 - accuracy: 1.0000 - val_loss: 0.7271 - val_accuracy: 0.8500\n",
            "Epoch 40/50\n",
            "80/80 [==============================] - 7s 86ms/step - loss: 1.2279e-04 - accuracy: 1.0000 - val_loss: 0.7310 - val_accuracy: 0.8500\n",
            "Epoch 41/50\n",
            "80/80 [==============================] - 7s 86ms/step - loss: 1.1340e-04 - accuracy: 1.0000 - val_loss: 0.7332 - val_accuracy: 0.8500\n",
            "Epoch 42/50\n",
            "80/80 [==============================] - 7s 85ms/step - loss: 1.0637e-04 - accuracy: 1.0000 - val_loss: 0.7362 - val_accuracy: 0.8500\n",
            "Epoch 43/50\n",
            "80/80 [==============================] - 7s 85ms/step - loss: 1.0021e-04 - accuracy: 1.0000 - val_loss: 0.7457 - val_accuracy: 0.8500\n",
            "Epoch 44/50\n",
            "80/80 [==============================] - 9s 110ms/step - loss: 9.3679e-05 - accuracy: 1.0000 - val_loss: 0.7415 - val_accuracy: 0.8500\n",
            "Epoch 45/50\n",
            "80/80 [==============================] - 7s 85ms/step - loss: 8.8717e-05 - accuracy: 1.0000 - val_loss: 0.7497 - val_accuracy: 0.8500\n",
            "Epoch 46/50\n",
            "80/80 [==============================] - 7s 84ms/step - loss: 8.3396e-05 - accuracy: 1.0000 - val_loss: 0.7500 - val_accuracy: 0.8500\n",
            "Epoch 47/50\n",
            "80/80 [==============================] - 7s 86ms/step - loss: 7.7333e-05 - accuracy: 1.0000 - val_loss: 0.7517 - val_accuracy: 0.8500\n",
            "Epoch 48/50\n",
            "80/80 [==============================] - 7s 86ms/step - loss: 7.4329e-05 - accuracy: 1.0000 - val_loss: 0.7608 - val_accuracy: 0.8500\n",
            "Epoch 49/50\n",
            "80/80 [==============================] - 7s 88ms/step - loss: 6.8446e-05 - accuracy: 1.0000 - val_loss: 0.7646 - val_accuracy: 0.8500\n",
            "Epoch 50/50\n",
            "80/80 [==============================] - 9s 107ms/step - loss: 6.4652e-05 - accuracy: 1.0000 - val_loss: 0.7667 - val_accuracy: 0.8500\n"
          ]
        }
      ]
    },
    {
      "cell_type": "code",
      "source": [
        "acc = history.history['accuracy']\n",
        "val_acc = history.history['val_accuracy']\n",
        "\n",
        "plt.plot(acc, label='Training Accuracy')\n",
        "plt.plot(val_acc, label='Validation Accuracy')\n",
        "plt.legend(loc='lower right')\n",
        "plt.ylabel('Accuracy')\n",
        "plt.title('Training and Validation Accuracy (ResNet50)')"
      ],
      "metadata": {
        "colab": {
          "base_uri": "https://localhost:8080/",
          "height": 298
        },
        "id": "pYsNYLB2PFX3",
        "outputId": "3f675e3e-aa97-41f3-e5de-7d10a5874344"
      },
      "execution_count": 20,
      "outputs": [
        {
          "output_type": "execute_result",
          "data": {
            "text/plain": [
              "Text(0.5, 1.0, 'Training and Validation Accuracy (ResNet50)')"
            ]
          },
          "metadata": {},
          "execution_count": 20
        },
        {
          "output_type": "display_data",
          "data": {
            "text/plain": [
              "<Figure size 432x288 with 1 Axes>"
            ],
            "image/png": "[encoded data removed]"
          },
          "metadata": {
            "needs_background": "light"
          }
        }
      ]
    },
    {
      "cell_type": "code",
      "source": [
        "loss = history.history['loss']\n",
        "val_loss = history.history['val_loss']\n",
        "\n",
        "plt.plot(loss, label='Training Loss')\n",
        "plt.plot(val_loss, label='Validation Loss')\n",
        "plt.legend(loc='upper right')\n",
        "plt.ylabel('Cross Entropy')\n",
        "plt.title('Training and Validation Loss (ResNet50)')\n",
        "plt.xlabel('epoch')\n",
        "plt.show()"
      ],
      "metadata": {
        "colab": {
          "base_uri": "https://localhost:8080/",
          "height": 295
        },
        "id": "sLN3vTuES_Vp",
        "outputId": "cc3a1f2c-3d5b-4ef1-920c-b4a8028ac008"
      },
      "execution_count": 29,
      "outputs": [
        {
          "output_type": "display_data",
          "data": {
            "text/plain": [
              "<Figure size 432x288 with 1 Axes>"
            ],
            "image/png": "[encoded data removed]"
          },
          "metadata": {
            "needs_background": "light"
          }
        }
      ]
    },
    {
      "cell_type": "code",
      "source": [
        "loss, accuracy = resnet_model.evaluate(validation)\n",
        "print('Test accuracy :', accuracy)"
      ],
      "metadata": {
        "colab": {
          "base_uri": "https://localhost:8080/"
        },
        "id": "C1xt3WMLPft6",
        "outputId": "c398f59b-55c6-49cc-f37c-29b05f5f0930"
      },
      "execution_count": 11,
      "outputs": [
        {
          "output_type": "stream",
          "name": "stdout",
          "text": [
            "20/20 [==============================] - 1s 47ms/step - loss: 0.7667 - accuracy: 0.8500\n",
            "Test accuracy : 0.8500000238418579\n"
          ]
        }
      ]
    }
  ]
}