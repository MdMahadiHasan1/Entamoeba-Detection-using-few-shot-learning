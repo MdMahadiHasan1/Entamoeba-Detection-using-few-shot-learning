{
  "nbformat": 4,
  "nbformat_minor": 0,
  "metadata": {
    "colab": {
      "provenance": []
    },
    "kernelspec": {
      "name": "python3",
      "display_name": "Python 3"
    },
    "language_info": {
      "name": "python"
    },
    "accelerator": "GPU",
    "gpuClass": "standard"
  },
  "cells": [
    {
      "cell_type": "code",
      "source": [
        "import matplotlib.pyplot as plt\n",
        "import numpy as np\n",
        "import PIL\n",
        "import os\n",
        "import tensorflow as tf\n",
        "from tensorflow import keras\n",
        "from tensorflow.keras import layers\n",
        "from tensorflow.keras.models import Sequential\n",
        "from sklearn import preprocessing\n",
        "from keras.preprocessing import image\n",
        "from sklearn.model_selection import train_test_split"
      ],
      "metadata": {
        "id": "i5OLBuhMJYct"
      },
      "execution_count": 7,
      "outputs": []
    },
    {
      "cell_type": "code",
      "source": [
        "base_dir = '/content/drive/MyDrive/Thesis_Paper/CNN/'\n",
        "\n",
        "train_dir = os.path.join(base_dir, 'train')\n",
        "validation_dir = os.path.join(base_dir, 'test')"
      ],
      "metadata": {
        "id": "QstleOLMZoLI"
      },
      "execution_count": 8,
      "outputs": []
    },
    {
      "cell_type": "code",
      "source": [
        "BATCH_SIZE = 5\n",
        "IMG_SIZE = (180, 180)\n",
        "\n",
        "train = tf.keras.utils.image_dataset_from_directory(train_dir,\n",
        "                                                            shuffle=True,\n",
        "                                                            batch_size=BATCH_SIZE,\n",
        "                                                            image_size=IMG_SIZE)"
      ],
      "metadata": {
        "colab": {
          "base_uri": "https://localhost:8080/"
        },
        "id": "xmPXTNPzdRa1",
        "outputId": "846ed20d-8ece-4886-bba2-b05d8a019bbb"
      },
      "execution_count": 17,
      "outputs": [
        {
          "output_type": "stream",
          "name": "stdout",
          "text": [
            "Found 400 files belonging to 2 classes.\n"
          ]
        }
      ]
    },
    {
      "cell_type": "code",
      "source": [
        "validation = tf.keras.utils.image_dataset_from_directory(validation_dir,\n",
        "                                                                 shuffle=True,\n",
        "                                                                 batch_size=BATCH_SIZE,\n",
        "                                                                 image_size=IMG_SIZE)"
      ],
      "metadata": {
        "colab": {
          "base_uri": "https://localhost:8080/"
        },
        "id": "lJqX5-9eda6y",
        "outputId": "e6e821ec-6745-4bff-db08-8b4cb7ceac67"
      },
      "execution_count": 18,
      "outputs": [
        {
          "output_type": "stream",
          "name": "stdout",
          "text": [
            "Found 100 files belonging to 2 classes.\n"
          ]
        }
      ]
    },
    {
      "cell_type": "code",
      "source": [
        "resnet_model = Sequential()\n",
        "\n",
        "pretrained_model= tf.keras.applications.ResNet50(include_top=False,\n",
        "                   input_shape=(180,180,3),\n",
        "                   pooling='avg',classes=2,\n",
        "                   weights='imagenet')\n",
        "for layer in pretrained_model.layers:\n",
        "        layer.trainable=False\n",
        "\n",
        "resnet_model.add(pretrained_model)"
      ],
      "metadata": {
        "colab": {
          "base_uri": "https://localhost:8080/"
        },
        "id": "_iBTp1ZiJFzm",
        "outputId": "7b58d3e1-f5ed-4ec6-db0e-b3c2c4908e13"
      },
      "execution_count": 11,
      "outputs": [
        {
          "output_type": "stream",
          "name": "stdout",
          "text": [
            "Downloading data from https://storage.googleapis.com/tensorflow/keras-applications/resnet/resnet50_weights_tf_dim_ordering_tf_kernels_notop.h5\n",
            "94773248/94765736 [==============================] - 0s 0us/step\n",
            "94781440/94765736 [==============================] - 1s 0us/step\n"
          ]
        }
      ]
    },
    {
      "cell_type": "code",
      "source": [
        "resnet_model.add(tf.keras.layers.Flatten())\n",
        "resnet_model.add(tf.keras.layers.Dense(512, activation='relu'))\n",
        "resnet_model.add(tf.keras.layers.Dense(1, activation='sigmoid'))"
      ],
      "metadata": {
        "id": "G3K8u2U8JoQQ"
      },
      "execution_count": 13,
      "outputs": []
    },
    {
      "cell_type": "code",
      "source": [
        "resnet_model.summary()"
      ],
      "metadata": {
        "colab": {
          "base_uri": "https://localhost:8080/"
        },
        "id": "pRT9J8DxJquk",
        "outputId": "af48fb52-4f63-41fb-d68a-81bf0f45fa18"
      },
      "execution_count": 14,
      "outputs": [
        {
          "output_type": "stream",
          "name": "stdout",
          "text": [
            "Model: \"sequential\"\n",
            "_________________________________________________________________\n",
            " Layer (type)                Output Shape              Param #   \n",
            "=================================================================\n",
            " resnet50 (Functional)       (None, 2048)              23587712  \n",
            "                                                                 \n",
            " flatten (Flatten)           (None, 2048)              0         \n",
            "                                                                 \n",
            " dense (Dense)               (None, 512)               1049088   \n",
            "                                                                 \n",
            " dense_1 (Dense)             (None, 1)                 513       \n",
            "                                                                 \n",
            "=================================================================\n",
            "Total params: 24,637,313\n",
            "Trainable params: 1,049,601\n",
            "Non-trainable params: 23,587,712\n",
            "_________________________________________________________________\n"
          ]
        }
      ]
    },
    {
      "cell_type": "code",
      "source": [
        "resnet_model.compile(tf.keras.optimizers.Adam(lr=0.001),loss='binary_crossentropy',metrics=['accuracy'])\n",
        "\n",
        "history = resnet_model.fit(train, validation_data=validation, epochs=50)"
      ],
      "metadata": {
        "colab": {
          "base_uri": "https://localhost:8080/"
        },
        "id": "xecXlrlCLiwp",
        "outputId": "adf25259-488e-4ac0-e447-968a8dc3b813"
      },
      "execution_count": 20,
      "outputs": [
        {
          "output_type": "stream",
          "name": "stdout",
          "text": [
            "Epoch 1/50\n",
            "80/80 [==============================] - 11s 93ms/step - loss: 0.0598 - accuracy: 0.9825 - val_loss: 0.8213 - val_accuracy: 0.8400\n",
            "Epoch 2/50\n",
            "80/80 [==============================] - 7s 80ms/step - loss: 0.0440 - accuracy: 0.9850 - val_loss: 1.1706 - val_accuracy: 0.8000\n",
            "Epoch 3/50\n",
            "80/80 [==============================] - 7s 80ms/step - loss: 0.0056 - accuracy: 1.0000 - val_loss: 1.0857 - val_accuracy: 0.8300\n",
            "Epoch 4/50\n",
            "80/80 [==============================] - 7s 79ms/step - loss: 5.8587e-04 - accuracy: 1.0000 - val_loss: 1.0637 - val_accuracy: 0.8300\n",
            "Epoch 5/50\n",
            "80/80 [==============================] - 7s 80ms/step - loss: 3.5394e-04 - accuracy: 1.0000 - val_loss: 1.0934 - val_accuracy: 0.8300\n",
            "Epoch 6/50\n",
            "80/80 [==============================] - 7s 79ms/step - loss: 2.7058e-04 - accuracy: 1.0000 - val_loss: 1.1045 - val_accuracy: 0.8300\n",
            "Epoch 7/50\n",
            "80/80 [==============================] - 7s 78ms/step - loss: 2.2502e-04 - accuracy: 1.0000 - val_loss: 1.1140 - val_accuracy: 0.8300\n",
            "Epoch 8/50\n",
            "80/80 [==============================] - 7s 80ms/step - loss: 1.9367e-04 - accuracy: 1.0000 - val_loss: 1.1197 - val_accuracy: 0.8300\n",
            "Epoch 9/50\n",
            "80/80 [==============================] - 7s 80ms/step - loss: 1.7565e-04 - accuracy: 1.0000 - val_loss: 1.1239 - val_accuracy: 0.8300\n",
            "Epoch 10/50\n",
            "80/80 [==============================] - 7s 79ms/step - loss: 1.5697e-04 - accuracy: 1.0000 - val_loss: 1.1283 - val_accuracy: 0.8300\n",
            "Epoch 11/50\n",
            "80/80 [==============================] - 7s 78ms/step - loss: 1.3793e-04 - accuracy: 1.0000 - val_loss: 1.1342 - val_accuracy: 0.8300\n",
            "Epoch 12/50\n",
            "80/80 [==============================] - 7s 78ms/step - loss: 1.2248e-04 - accuracy: 1.0000 - val_loss: 1.1353 - val_accuracy: 0.8300\n",
            "Epoch 13/50\n",
            "80/80 [==============================] - 7s 79ms/step - loss: 1.1419e-04 - accuracy: 1.0000 - val_loss: 1.1368 - val_accuracy: 0.8300\n",
            "Epoch 14/50\n",
            "80/80 [==============================] - 7s 80ms/step - loss: 1.0240e-04 - accuracy: 1.0000 - val_loss: 1.1393 - val_accuracy: 0.8300\n",
            "Epoch 15/50\n",
            "80/80 [==============================] - 7s 79ms/step - loss: 9.6631e-05 - accuracy: 1.0000 - val_loss: 1.1408 - val_accuracy: 0.8300\n",
            "Epoch 16/50\n",
            "80/80 [==============================] - 7s 79ms/step - loss: 8.5232e-05 - accuracy: 1.0000 - val_loss: 1.1431 - val_accuracy: 0.8300\n",
            "Epoch 17/50\n",
            "80/80 [==============================] - 7s 79ms/step - loss: 7.9705e-05 - accuracy: 1.0000 - val_loss: 1.1457 - val_accuracy: 0.8400\n",
            "Epoch 18/50\n",
            "80/80 [==============================] - 7s 80ms/step - loss: 7.3928e-05 - accuracy: 1.0000 - val_loss: 1.1485 - val_accuracy: 0.8400\n",
            "Epoch 19/50\n",
            "80/80 [==============================] - 7s 80ms/step - loss: 6.9357e-05 - accuracy: 1.0000 - val_loss: 1.1492 - val_accuracy: 0.8300\n",
            "Epoch 20/50\n",
            "80/80 [==============================] - 7s 80ms/step - loss: 6.5697e-05 - accuracy: 1.0000 - val_loss: 1.1496 - val_accuracy: 0.8300\n",
            "Epoch 21/50\n",
            "80/80 [==============================] - 7s 79ms/step - loss: 6.0866e-05 - accuracy: 1.0000 - val_loss: 1.1532 - val_accuracy: 0.8400\n",
            "Epoch 22/50\n",
            "80/80 [==============================] - 7s 79ms/step - loss: 5.6274e-05 - accuracy: 1.0000 - val_loss: 1.1550 - val_accuracy: 0.8400\n",
            "Epoch 23/50\n",
            "80/80 [==============================] - 7s 80ms/step - loss: 5.4092e-05 - accuracy: 1.0000 - val_loss: 1.1571 - val_accuracy: 0.8400\n",
            "Epoch 24/50\n",
            "80/80 [==============================] - 7s 79ms/step - loss: 4.9903e-05 - accuracy: 1.0000 - val_loss: 1.1573 - val_accuracy: 0.8400\n",
            "Epoch 25/50\n",
            "80/80 [==============================] - 7s 79ms/step - loss: 4.5847e-05 - accuracy: 1.0000 - val_loss: 1.1606 - val_accuracy: 0.8400\n",
            "Epoch 26/50\n",
            "80/80 [==============================] - 7s 78ms/step - loss: 4.2837e-05 - accuracy: 1.0000 - val_loss: 1.1629 - val_accuracy: 0.8400\n",
            "Epoch 27/50\n",
            "80/80 [==============================] - 7s 79ms/step - loss: 4.1676e-05 - accuracy: 1.0000 - val_loss: 1.1622 - val_accuracy: 0.8400\n",
            "Epoch 28/50\n",
            "80/80 [==============================] - 7s 80ms/step - loss: 3.8086e-05 - accuracy: 1.0000 - val_loss: 1.1653 - val_accuracy: 0.8400\n",
            "Epoch 29/50\n",
            "80/80 [==============================] - 7s 80ms/step - loss: 3.6296e-05 - accuracy: 1.0000 - val_loss: 1.1673 - val_accuracy: 0.8400\n",
            "Epoch 30/50\n",
            "80/80 [==============================] - 7s 80ms/step - loss: 3.4675e-05 - accuracy: 1.0000 - val_loss: 1.1673 - val_accuracy: 0.8400\n",
            "Epoch 31/50\n",
            "80/80 [==============================] - 7s 80ms/step - loss: 3.1894e-05 - accuracy: 1.0000 - val_loss: 1.1714 - val_accuracy: 0.8400\n",
            "Epoch 32/50\n",
            "80/80 [==============================] - 7s 79ms/step - loss: 2.9659e-05 - accuracy: 1.0000 - val_loss: 1.1720 - val_accuracy: 0.8400\n",
            "Epoch 33/50\n",
            "80/80 [==============================] - 7s 81ms/step - loss: 2.8286e-05 - accuracy: 1.0000 - val_loss: 1.1744 - val_accuracy: 0.8400\n",
            "Epoch 34/50\n",
            "80/80 [==============================] - 7s 80ms/step - loss: 2.6917e-05 - accuracy: 1.0000 - val_loss: 1.1767 - val_accuracy: 0.8400\n",
            "Epoch 35/50\n",
            "80/80 [==============================] - 8s 98ms/step - loss: 2.5391e-05 - accuracy: 1.0000 - val_loss: 1.1772 - val_accuracy: 0.8400\n",
            "Epoch 36/50\n",
            "80/80 [==============================] - 7s 81ms/step - loss: 2.4072e-05 - accuracy: 1.0000 - val_loss: 1.1798 - val_accuracy: 0.8400\n",
            "Epoch 37/50\n",
            "80/80 [==============================] - 7s 80ms/step - loss: 2.2781e-05 - accuracy: 1.0000 - val_loss: 1.1813 - val_accuracy: 0.8400\n",
            "Epoch 38/50\n",
            "80/80 [==============================] - 7s 79ms/step - loss: 2.1639e-05 - accuracy: 1.0000 - val_loss: 1.1824 - val_accuracy: 0.8400\n",
            "Epoch 39/50\n",
            "80/80 [==============================] - 7s 79ms/step - loss: 2.0442e-05 - accuracy: 1.0000 - val_loss: 1.1860 - val_accuracy: 0.8500\n",
            "Epoch 40/50\n",
            "80/80 [==============================] - 7s 81ms/step - loss: 1.9234e-05 - accuracy: 1.0000 - val_loss: 1.1858 - val_accuracy: 0.8400\n",
            "Epoch 41/50\n",
            "80/80 [==============================] - 7s 80ms/step - loss: 1.8571e-05 - accuracy: 1.0000 - val_loss: 1.1869 - val_accuracy: 0.8500\n",
            "Epoch 42/50\n",
            "80/80 [==============================] - 7s 80ms/step - loss: 1.7384e-05 - accuracy: 1.0000 - val_loss: 1.1900 - val_accuracy: 0.8500\n",
            "Epoch 43/50\n",
            "80/80 [==============================] - 7s 79ms/step - loss: 1.6708e-05 - accuracy: 1.0000 - val_loss: 1.1923 - val_accuracy: 0.8500\n",
            "Epoch 44/50\n",
            "80/80 [==============================] - 7s 80ms/step - loss: 1.5965e-05 - accuracy: 1.0000 - val_loss: 1.1953 - val_accuracy: 0.8500\n",
            "Epoch 45/50\n",
            "80/80 [==============================] - 7s 80ms/step - loss: 1.5176e-05 - accuracy: 1.0000 - val_loss: 1.1979 - val_accuracy: 0.8500\n",
            "Epoch 46/50\n",
            "80/80 [==============================] - 7s 80ms/step - loss: 1.4376e-05 - accuracy: 1.0000 - val_loss: 1.1992 - val_accuracy: 0.8500\n",
            "Epoch 47/50\n",
            "80/80 [==============================] - 7s 80ms/step - loss: 1.3389e-05 - accuracy: 1.0000 - val_loss: 1.2012 - val_accuracy: 0.8500\n",
            "Epoch 48/50\n",
            "80/80 [==============================] - 7s 80ms/step - loss: 1.2710e-05 - accuracy: 1.0000 - val_loss: 1.2027 - val_accuracy: 0.8500\n",
            "Epoch 49/50\n",
            "80/80 [==============================] - 7s 80ms/step - loss: 1.2081e-05 - accuracy: 1.0000 - val_loss: 1.2052 - val_accuracy: 0.8500\n",
            "Epoch 50/50\n",
            "80/80 [==============================] - 7s 80ms/step - loss: 1.1431e-05 - accuracy: 1.0000 - val_loss: 1.2071 - val_accuracy: 0.8500\n"
          ]
        }
      ]
    },
    {
      "cell_type": "code",
      "source": [
        "acc = history.history['accuracy']\n",
        "val_acc = history.history['val_accuracy']\n",
        "\n",
        "loss = history.history['loss']\n",
        "val_loss = history.history['val_loss']\n",
        "\n",
        "plt.plot(acc, label='Training Accuracy')\n",
        "plt.plot(val_acc, label='Validation Accuracy')\n",
        "plt.legend(loc='lower right')\n",
        "plt.ylabel('Accuracy')\n",
        "plt.ylim([min(plt.ylim()),1])\n",
        "plt.title('Training and Validation Accuracy (ResNet50)')"
      ],
      "metadata": {
        "colab": {
          "base_uri": "https://localhost:8080/",
          "height": 298
        },
        "id": "pYsNYLB2PFX3",
        "outputId": "6597a40c-5e66-4ec3-b0ff-9abe4b1822fb"
      },
      "execution_count": 22,
      "outputs": [
        {
          "output_type": "execute_result",
          "data": {
            "text/plain": [
              "Text(0.5, 1.0, 'Training and Validation Accuracy (ResNet50)')"
            ]
          },
          "metadata": {},
          "execution_count": 22
        },
        {
          "output_type": "display_data",
          "data": {
            "text/plain": [
              "<Figure size 432x288 with 1 Axes>"
            ],
            "image/png": "[encoded data removed]"
          },
          "metadata": {
            "needs_background": "light"
          }
        }
      ]
    },
    {
      "cell_type": "code",
      "source": [
        "plt.plot(loss, label='Training Loss')\n",
        "plt.plot(val_loss, label='Validation Loss')\n",
        "plt.legend(loc='upper right')\n",
        "plt.ylabel('Cross Entropy')\n",
        "plt.ylim([0,1.0])\n",
        "plt.title('Training and Validation Loss (ResNet50)')\n",
        "plt.xlabel('epoch')\n",
        "plt.show()"
      ],
      "metadata": {
        "colab": {
          "base_uri": "https://localhost:8080/",
          "height": 295
        },
        "id": "iLaqpFsnPQHw",
        "outputId": "a6e780e9-6646-4827-f6da-281c80312864"
      },
      "execution_count": 23,
      "outputs": [
        {
          "output_type": "display_data",
          "data": {
            "text/plain": [
              "<Figure size 432x288 with 1 Axes>"
            ],
            "image/png": "[encoded data removed]"
          },
          "metadata": {
            "needs_background": "light"
          }
        }
      ]
    },
    {
      "cell_type": "code",
      "source": [
        "loss, accuracy = resnet_model.evaluate(validation)\n",
        "print('Test accuracy :', accuracy)"
      ],
      "metadata": {
        "colab": {
          "base_uri": "https://localhost:8080/"
        },
        "id": "C1xt3WMLPft6",
        "outputId": "98eef2dc-02dc-41de-fdc0-c9386a1b92b6"
      },
      "execution_count": 24,
      "outputs": [
        {
          "output_type": "stream",
          "name": "stdout",
          "text": [
            "20/20 [==============================] - 2s 53ms/step - loss: 1.2071 - accuracy: 0.8500\n",
            "Test accuracy : 0.8500000238418579\n"
          ]
        }
      ]
    }
  ]
}